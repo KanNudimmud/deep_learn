{
  "nbformat": 4,
  "nbformat_minor": 0,
  "metadata": {
    "colab": {
      "name": "Computer-Vision_PyTorch.ipynb",
      "provenance": [],
      "collapsed_sections": []
    },
    "kernelspec": {
      "name": "python3",
      "display_name": "Python 3"
    },
    "language_info": {
      "name": "python"
    },
    "accelerator": "GPU",
    "gpuClass": "standard",
    "widgets": {
      "application/vnd.jupyter.widget-state+json": {
        "322f91e42651441f8f4d096f28cc2544": {
          "model_module": "@jupyter-widgets/controls",
          "model_name": "HBoxModel",
          "model_module_version": "1.5.0",
          "state": {
            "_dom_classes": [],
            "_model_module": "@jupyter-widgets/controls",
            "_model_module_version": "1.5.0",
            "_model_name": "HBoxModel",
            "_view_count": null,
            "_view_module": "@jupyter-widgets/controls",
            "_view_module_version": "1.5.0",
            "_view_name": "HBoxView",
            "box_style": "",
            "children": [
              "IPY_MODEL_dc38aac13e0a478780341d2fd33c7c58",
              "IPY_MODEL_8e0994959dea4c4ba687d7f6c651e390",
              "IPY_MODEL_a501c7b4bdb6450eb4fc55db39c2529a"
            ],
            "layout": "IPY_MODEL_ab75bba9baa44741998a971fee93ec72"
          }
        },
        "dc38aac13e0a478780341d2fd33c7c58": {
          "model_module": "@jupyter-widgets/controls",
          "model_name": "HTMLModel",
          "model_module_version": "1.5.0",
          "state": {
            "_dom_classes": [],
            "_model_module": "@jupyter-widgets/controls",
            "_model_module_version": "1.5.0",
            "_model_name": "HTMLModel",
            "_view_count": null,
            "_view_module": "@jupyter-widgets/controls",
            "_view_module_version": "1.5.0",
            "_view_name": "HTMLView",
            "description": "",
            "description_tooltip": null,
            "layout": "IPY_MODEL_69f444258af94d68b6974199d9f2c1d6",
            "placeholder": "​",
            "style": "IPY_MODEL_46140cc5f02e4be6bcb66b33772cefdd",
            "value": "100%"
          }
        },
        "8e0994959dea4c4ba687d7f6c651e390": {
          "model_module": "@jupyter-widgets/controls",
          "model_name": "FloatProgressModel",
          "model_module_version": "1.5.0",
          "state": {
            "_dom_classes": [],
            "_model_module": "@jupyter-widgets/controls",
            "_model_module_version": "1.5.0",
            "_model_name": "FloatProgressModel",
            "_view_count": null,
            "_view_module": "@jupyter-widgets/controls",
            "_view_module_version": "1.5.0",
            "_view_name": "ProgressView",
            "bar_style": "success",
            "description": "",
            "description_tooltip": null,
            "layout": "IPY_MODEL_f757c9c78d20415ea289487a15e2a12b",
            "max": 26421880,
            "min": 0,
            "orientation": "horizontal",
            "style": "IPY_MODEL_8b0657b4ce47421e96c0276d6f0358f6",
            "value": 26421880
          }
        },
        "a501c7b4bdb6450eb4fc55db39c2529a": {
          "model_module": "@jupyter-widgets/controls",
          "model_name": "HTMLModel",
          "model_module_version": "1.5.0",
          "state": {
            "_dom_classes": [],
            "_model_module": "@jupyter-widgets/controls",
            "_model_module_version": "1.5.0",
            "_model_name": "HTMLModel",
            "_view_count": null,
            "_view_module": "@jupyter-widgets/controls",
            "_view_module_version": "1.5.0",
            "_view_name": "HTMLView",
            "description": "",
            "description_tooltip": null,
            "layout": "IPY_MODEL_00337ff784a14f66a50ac38e30c3cd66",
            "placeholder": "​",
            "style": "IPY_MODEL_3bc60aaced494958925b0661b5c7323f",
            "value": " 26421880/26421880 [00:03&lt;00:00, 13162819.23it/s]"
          }
        },
        "ab75bba9baa44741998a971fee93ec72": {
          "model_module": "@jupyter-widgets/base",
          "model_name": "LayoutModel",
          "model_module_version": "1.2.0",
          "state": {
            "_model_module": "@jupyter-widgets/base",
            "_model_module_version": "1.2.0",
            "_model_name": "LayoutModel",
            "_view_count": null,
            "_view_module": "@jupyter-widgets/base",
            "_view_module_version": "1.2.0",
            "_view_name": "LayoutView",
            "align_content": null,
            "align_items": null,
            "align_self": null,
            "border": null,
            "bottom": null,
            "display": null,
            "flex": null,
            "flex_flow": null,
            "grid_area": null,
            "grid_auto_columns": null,
            "grid_auto_flow": null,
            "grid_auto_rows": null,
            "grid_column": null,
            "grid_gap": null,
            "grid_row": null,
            "grid_template_areas": null,
            "grid_template_columns": null,
            "grid_template_rows": null,
            "height": null,
            "justify_content": null,
            "justify_items": null,
            "left": null,
            "margin": null,
            "max_height": null,
            "max_width": null,
            "min_height": null,
            "min_width": null,
            "object_fit": null,
            "object_position": null,
            "order": null,
            "overflow": null,
            "overflow_x": null,
            "overflow_y": null,
            "padding": null,
            "right": null,
            "top": null,
            "visibility": null,
            "width": null
          }
        },
        "69f444258af94d68b6974199d9f2c1d6": {
          "model_module": "@jupyter-widgets/base",
          "model_name": "LayoutModel",
          "model_module_version": "1.2.0",
          "state": {
            "_model_module": "@jupyter-widgets/base",
            "_model_module_version": "1.2.0",
            "_model_name": "LayoutModel",
            "_view_count": null,
            "_view_module": "@jupyter-widgets/base",
            "_view_module_version": "1.2.0",
            "_view_name": "LayoutView",
            "align_content": null,
            "align_items": null,
            "align_self": null,
            "border": null,
            "bottom": null,
            "display": null,
            "flex": null,
            "flex_flow": null,
            "grid_area": null,
            "grid_auto_columns": null,
            "grid_auto_flow": null,
            "grid_auto_rows": null,
            "grid_column": null,
            "grid_gap": null,
            "grid_row": null,
            "grid_template_areas": null,
            "grid_template_columns": null,
            "grid_template_rows": null,
            "height": null,
            "justify_content": null,
            "justify_items": null,
            "left": null,
            "margin": null,
            "max_height": null,
            "max_width": null,
            "min_height": null,
            "min_width": null,
            "object_fit": null,
            "object_position": null,
            "order": null,
            "overflow": null,
            "overflow_x": null,
            "overflow_y": null,
            "padding": null,
            "right": null,
            "top": null,
            "visibility": null,
            "width": null
          }
        },
        "46140cc5f02e4be6bcb66b33772cefdd": {
          "model_module": "@jupyter-widgets/controls",
          "model_name": "DescriptionStyleModel",
          "model_module_version": "1.5.0",
          "state": {
            "_model_module": "@jupyter-widgets/controls",
            "_model_module_version": "1.5.0",
            "_model_name": "DescriptionStyleModel",
            "_view_count": null,
            "_view_module": "@jupyter-widgets/base",
            "_view_module_version": "1.2.0",
            "_view_name": "StyleView",
            "description_width": ""
          }
        },
        "f757c9c78d20415ea289487a15e2a12b": {
          "model_module": "@jupyter-widgets/base",
          "model_name": "LayoutModel",
          "model_module_version": "1.2.0",
          "state": {
            "_model_module": "@jupyter-widgets/base",
            "_model_module_version": "1.2.0",
            "_model_name": "LayoutModel",
            "_view_count": null,
            "_view_module": "@jupyter-widgets/base",
            "_view_module_version": "1.2.0",
            "_view_name": "LayoutView",
            "align_content": null,
            "align_items": null,
            "align_self": null,
            "border": null,
            "bottom": null,
            "display": null,
            "flex": null,
            "flex_flow": null,
            "grid_area": null,
            "grid_auto_columns": null,
            "grid_auto_flow": null,
            "grid_auto_rows": null,
            "grid_column": null,
            "grid_gap": null,
            "grid_row": null,
            "grid_template_areas": null,
            "grid_template_columns": null,
            "grid_template_rows": null,
            "height": null,
            "justify_content": null,
            "justify_items": null,
            "left": null,
            "margin": null,
            "max_height": null,
            "max_width": null,
            "min_height": null,
            "min_width": null,
            "object_fit": null,
            "object_position": null,
            "order": null,
            "overflow": null,
            "overflow_x": null,
            "overflow_y": null,
            "padding": null,
            "right": null,
            "top": null,
            "visibility": null,
            "width": null
          }
        },
        "8b0657b4ce47421e96c0276d6f0358f6": {
          "model_module": "@jupyter-widgets/controls",
          "model_name": "ProgressStyleModel",
          "model_module_version": "1.5.0",
          "state": {
            "_model_module": "@jupyter-widgets/controls",
            "_model_module_version": "1.5.0",
            "_model_name": "ProgressStyleModel",
            "_view_count": null,
            "_view_module": "@jupyter-widgets/base",
            "_view_module_version": "1.2.0",
            "_view_name": "StyleView",
            "bar_color": null,
            "description_width": ""
          }
        },
        "00337ff784a14f66a50ac38e30c3cd66": {
          "model_module": "@jupyter-widgets/base",
          "model_name": "LayoutModel",
          "model_module_version": "1.2.0",
          "state": {
            "_model_module": "@jupyter-widgets/base",
            "_model_module_version": "1.2.0",
            "_model_name": "LayoutModel",
            "_view_count": null,
            "_view_module": "@jupyter-widgets/base",
            "_view_module_version": "1.2.0",
            "_view_name": "LayoutView",
            "align_content": null,
            "align_items": null,
            "align_self": null,
            "border": null,
            "bottom": null,
            "display": null,
            "flex": null,
            "flex_flow": null,
            "grid_area": null,
            "grid_auto_columns": null,
            "grid_auto_flow": null,
            "grid_auto_rows": null,
            "grid_column": null,
            "grid_gap": null,
            "grid_row": null,
            "grid_template_areas": null,
            "grid_template_columns": null,
            "grid_template_rows": null,
            "height": null,
            "justify_content": null,
            "justify_items": null,
            "left": null,
            "margin": null,
            "max_height": null,
            "max_width": null,
            "min_height": null,
            "min_width": null,
            "object_fit": null,
            "object_position": null,
            "order": null,
            "overflow": null,
            "overflow_x": null,
            "overflow_y": null,
            "padding": null,
            "right": null,
            "top": null,
            "visibility": null,
            "width": null
          }
        },
        "3bc60aaced494958925b0661b5c7323f": {
          "model_module": "@jupyter-widgets/controls",
          "model_name": "DescriptionStyleModel",
          "model_module_version": "1.5.0",
          "state": {
            "_model_module": "@jupyter-widgets/controls",
            "_model_module_version": "1.5.0",
            "_model_name": "DescriptionStyleModel",
            "_view_count": null,
            "_view_module": "@jupyter-widgets/base",
            "_view_module_version": "1.2.0",
            "_view_name": "StyleView",
            "description_width": ""
          }
        },
        "772d8eeff82640d69185e90f4e9570d1": {
          "model_module": "@jupyter-widgets/controls",
          "model_name": "HBoxModel",
          "model_module_version": "1.5.0",
          "state": {
            "_dom_classes": [],
            "_model_module": "@jupyter-widgets/controls",
            "_model_module_version": "1.5.0",
            "_model_name": "HBoxModel",
            "_view_count": null,
            "_view_module": "@jupyter-widgets/controls",
            "_view_module_version": "1.5.0",
            "_view_name": "HBoxView",
            "box_style": "",
            "children": [
              "IPY_MODEL_2b6f388b58884c8786745fa641fae671",
              "IPY_MODEL_ca58f176d209479fba0230e533035f22",
              "IPY_MODEL_774a9e20ae1941299c0bc1386e9503ff"
            ],
            "layout": "IPY_MODEL_8dc596b8f80c420c875f922e44b62bac"
          }
        },
        "2b6f388b58884c8786745fa641fae671": {
          "model_module": "@jupyter-widgets/controls",
          "model_name": "HTMLModel",
          "model_module_version": "1.5.0",
          "state": {
            "_dom_classes": [],
            "_model_module": "@jupyter-widgets/controls",
            "_model_module_version": "1.5.0",
            "_model_name": "HTMLModel",
            "_view_count": null,
            "_view_module": "@jupyter-widgets/controls",
            "_view_module_version": "1.5.0",
            "_view_name": "HTMLView",
            "description": "",
            "description_tooltip": null,
            "layout": "IPY_MODEL_f18d509b48d049478055f33052aa59d9",
            "placeholder": "​",
            "style": "IPY_MODEL_b3267d99eeec47a9be23924b575fd980",
            "value": "100%"
          }
        },
        "ca58f176d209479fba0230e533035f22": {
          "model_module": "@jupyter-widgets/controls",
          "model_name": "FloatProgressModel",
          "model_module_version": "1.5.0",
          "state": {
            "_dom_classes": [],
            "_model_module": "@jupyter-widgets/controls",
            "_model_module_version": "1.5.0",
            "_model_name": "FloatProgressModel",
            "_view_count": null,
            "_view_module": "@jupyter-widgets/controls",
            "_view_module_version": "1.5.0",
            "_view_name": "ProgressView",
            "bar_style": "success",
            "description": "",
            "description_tooltip": null,
            "layout": "IPY_MODEL_8964cf7488d14f739a8ef2c5bccd2290",
            "max": 29515,
            "min": 0,
            "orientation": "horizontal",
            "style": "IPY_MODEL_27e5f7aad8254518bb128b2afdf080b6",
            "value": 29515
          }
        },
        "774a9e20ae1941299c0bc1386e9503ff": {
          "model_module": "@jupyter-widgets/controls",
          "model_name": "HTMLModel",
          "model_module_version": "1.5.0",
          "state": {
            "_dom_classes": [],
            "_model_module": "@jupyter-widgets/controls",
            "_model_module_version": "1.5.0",
            "_model_name": "HTMLModel",
            "_view_count": null,
            "_view_module": "@jupyter-widgets/controls",
            "_view_module_version": "1.5.0",
            "_view_name": "HTMLView",
            "description": "",
            "description_tooltip": null,
            "layout": "IPY_MODEL_93a826035dbb44d9b42b01ec7cc1d6b9",
            "placeholder": "​",
            "style": "IPY_MODEL_4cd98f1327594eedb1a21b344efebb7a",
            "value": " 29515/29515 [00:00&lt;00:00, 147339.78it/s]"
          }
        },
        "8dc596b8f80c420c875f922e44b62bac": {
          "model_module": "@jupyter-widgets/base",
          "model_name": "LayoutModel",
          "model_module_version": "1.2.0",
          "state": {
            "_model_module": "@jupyter-widgets/base",
            "_model_module_version": "1.2.0",
            "_model_name": "LayoutModel",
            "_view_count": null,
            "_view_module": "@jupyter-widgets/base",
            "_view_module_version": "1.2.0",
            "_view_name": "LayoutView",
            "align_content": null,
            "align_items": null,
            "align_self": null,
            "border": null,
            "bottom": null,
            "display": null,
            "flex": null,
            "flex_flow": null,
            "grid_area": null,
            "grid_auto_columns": null,
            "grid_auto_flow": null,
            "grid_auto_rows": null,
            "grid_column": null,
            "grid_gap": null,
            "grid_row": null,
            "grid_template_areas": null,
            "grid_template_columns": null,
            "grid_template_rows": null,
            "height": null,
            "justify_content": null,
            "justify_items": null,
            "left": null,
            "margin": null,
            "max_height": null,
            "max_width": null,
            "min_height": null,
            "min_width": null,
            "object_fit": null,
            "object_position": null,
            "order": null,
            "overflow": null,
            "overflow_x": null,
            "overflow_y": null,
            "padding": null,
            "right": null,
            "top": null,
            "visibility": null,
            "width": null
          }
        },
        "f18d509b48d049478055f33052aa59d9": {
          "model_module": "@jupyter-widgets/base",
          "model_name": "LayoutModel",
          "model_module_version": "1.2.0",
          "state": {
            "_model_module": "@jupyter-widgets/base",
            "_model_module_version": "1.2.0",
            "_model_name": "LayoutModel",
            "_view_count": null,
            "_view_module": "@jupyter-widgets/base",
            "_view_module_version": "1.2.0",
            "_view_name": "LayoutView",
            "align_content": null,
            "align_items": null,
            "align_self": null,
            "border": null,
            "bottom": null,
            "display": null,
            "flex": null,
            "flex_flow": null,
            "grid_area": null,
            "grid_auto_columns": null,
            "grid_auto_flow": null,
            "grid_auto_rows": null,
            "grid_column": null,
            "grid_gap": null,
            "grid_row": null,
            "grid_template_areas": null,
            "grid_template_columns": null,
            "grid_template_rows": null,
            "height": null,
            "justify_content": null,
            "justify_items": null,
            "left": null,
            "margin": null,
            "max_height": null,
            "max_width": null,
            "min_height": null,
            "min_width": null,
            "object_fit": null,
            "object_position": null,
            "order": null,
            "overflow": null,
            "overflow_x": null,
            "overflow_y": null,
            "padding": null,
            "right": null,
            "top": null,
            "visibility": null,
            "width": null
          }
        },
        "b3267d99eeec47a9be23924b575fd980": {
          "model_module": "@jupyter-widgets/controls",
          "model_name": "DescriptionStyleModel",
          "model_module_version": "1.5.0",
          "state": {
            "_model_module": "@jupyter-widgets/controls",
            "_model_module_version": "1.5.0",
            "_model_name": "DescriptionStyleModel",
            "_view_count": null,
            "_view_module": "@jupyter-widgets/base",
            "_view_module_version": "1.2.0",
            "_view_name": "StyleView",
            "description_width": ""
          }
        },
        "8964cf7488d14f739a8ef2c5bccd2290": {
          "model_module": "@jupyter-widgets/base",
          "model_name": "LayoutModel",
          "model_module_version": "1.2.0",
          "state": {
            "_model_module": "@jupyter-widgets/base",
            "_model_module_version": "1.2.0",
            "_model_name": "LayoutModel",
            "_view_count": null,
            "_view_module": "@jupyter-widgets/base",
            "_view_module_version": "1.2.0",
            "_view_name": "LayoutView",
            "align_content": null,
            "align_items": null,
            "align_self": null,
            "border": null,
            "bottom": null,
            "display": null,
            "flex": null,
            "flex_flow": null,
            "grid_area": null,
            "grid_auto_columns": null,
            "grid_auto_flow": null,
            "grid_auto_rows": null,
            "grid_column": null,
            "grid_gap": null,
            "grid_row": null,
            "grid_template_areas": null,
            "grid_template_columns": null,
            "grid_template_rows": null,
            "height": null,
            "justify_content": null,
            "justify_items": null,
            "left": null,
            "margin": null,
            "max_height": null,
            "max_width": null,
            "min_height": null,
            "min_width": null,
            "object_fit": null,
            "object_position": null,
            "order": null,
            "overflow": null,
            "overflow_x": null,
            "overflow_y": null,
            "padding": null,
            "right": null,
            "top": null,
            "visibility": null,
            "width": null
          }
        },
        "27e5f7aad8254518bb128b2afdf080b6": {
          "model_module": "@jupyter-widgets/controls",
          "model_name": "ProgressStyleModel",
          "model_module_version": "1.5.0",
          "state": {
            "_model_module": "@jupyter-widgets/controls",
            "_model_module_version": "1.5.0",
            "_model_name": "ProgressStyleModel",
            "_view_count": null,
            "_view_module": "@jupyter-widgets/base",
            "_view_module_version": "1.2.0",
            "_view_name": "StyleView",
            "bar_color": null,
            "description_width": ""
          }
        },
        "93a826035dbb44d9b42b01ec7cc1d6b9": {
          "model_module": "@jupyter-widgets/base",
          "model_name": "LayoutModel",
          "model_module_version": "1.2.0",
          "state": {
            "_model_module": "@jupyter-widgets/base",
            "_model_module_version": "1.2.0",
            "_model_name": "LayoutModel",
            "_view_count": null,
            "_view_module": "@jupyter-widgets/base",
            "_view_module_version": "1.2.0",
            "_view_name": "LayoutView",
            "align_content": null,
            "align_items": null,
            "align_self": null,
            "border": null,
            "bottom": null,
            "display": null,
            "flex": null,
            "flex_flow": null,
            "grid_area": null,
            "grid_auto_columns": null,
            "grid_auto_flow": null,
            "grid_auto_rows": null,
            "grid_column": null,
            "grid_gap": null,
            "grid_row": null,
            "grid_template_areas": null,
            "grid_template_columns": null,
            "grid_template_rows": null,
            "height": null,
            "justify_content": null,
            "justify_items": null,
            "left": null,
            "margin": null,
            "max_height": null,
            "max_width": null,
            "min_height": null,
            "min_width": null,
            "object_fit": null,
            "object_position": null,
            "order": null,
            "overflow": null,
            "overflow_x": null,
            "overflow_y": null,
            "padding": null,
            "right": null,
            "top": null,
            "visibility": null,
            "width": null
          }
        },
        "4cd98f1327594eedb1a21b344efebb7a": {
          "model_module": "@jupyter-widgets/controls",
          "model_name": "DescriptionStyleModel",
          "model_module_version": "1.5.0",
          "state": {
            "_model_module": "@jupyter-widgets/controls",
            "_model_module_version": "1.5.0",
            "_model_name": "DescriptionStyleModel",
            "_view_count": null,
            "_view_module": "@jupyter-widgets/base",
            "_view_module_version": "1.2.0",
            "_view_name": "StyleView",
            "description_width": ""
          }
        },
        "3653da675a794d80892f97c678669a5e": {
          "model_module": "@jupyter-widgets/controls",
          "model_name": "HBoxModel",
          "model_module_version": "1.5.0",
          "state": {
            "_dom_classes": [],
            "_model_module": "@jupyter-widgets/controls",
            "_model_module_version": "1.5.0",
            "_model_name": "HBoxModel",
            "_view_count": null,
            "_view_module": "@jupyter-widgets/controls",
            "_view_module_version": "1.5.0",
            "_view_name": "HBoxView",
            "box_style": "",
            "children": [
              "IPY_MODEL_da8e62f683fb4d0d8a99c7d4ef9a44ae",
              "IPY_MODEL_cbc3112f900d47c393e81a2de6ff7360",
              "IPY_MODEL_e5014ba472d943e084054db926760fd6"
            ],
            "layout": "IPY_MODEL_8a0b2ca4d5ad43cf9dc794d87cb3577b"
          }
        },
        "da8e62f683fb4d0d8a99c7d4ef9a44ae": {
          "model_module": "@jupyter-widgets/controls",
          "model_name": "HTMLModel",
          "model_module_version": "1.5.0",
          "state": {
            "_dom_classes": [],
            "_model_module": "@jupyter-widgets/controls",
            "_model_module_version": "1.5.0",
            "_model_name": "HTMLModel",
            "_view_count": null,
            "_view_module": "@jupyter-widgets/controls",
            "_view_module_version": "1.5.0",
            "_view_name": "HTMLView",
            "description": "",
            "description_tooltip": null,
            "layout": "IPY_MODEL_32393305b3784dfc839a514b22e65187",
            "placeholder": "​",
            "style": "IPY_MODEL_964a3a59d83a4aa5aa32d2560d8b4a0f",
            "value": "100%"
          }
        },
        "cbc3112f900d47c393e81a2de6ff7360": {
          "model_module": "@jupyter-widgets/controls",
          "model_name": "FloatProgressModel",
          "model_module_version": "1.5.0",
          "state": {
            "_dom_classes": [],
            "_model_module": "@jupyter-widgets/controls",
            "_model_module_version": "1.5.0",
            "_model_name": "FloatProgressModel",
            "_view_count": null,
            "_view_module": "@jupyter-widgets/controls",
            "_view_module_version": "1.5.0",
            "_view_name": "ProgressView",
            "bar_style": "success",
            "description": "",
            "description_tooltip": null,
            "layout": "IPY_MODEL_2652a6c5245149c29701432ef938ec69",
            "max": 4422102,
            "min": 0,
            "orientation": "horizontal",
            "style": "IPY_MODEL_da41ac73691649b386797965b1948166",
            "value": 4422102
          }
        },
        "e5014ba472d943e084054db926760fd6": {
          "model_module": "@jupyter-widgets/controls",
          "model_name": "HTMLModel",
          "model_module_version": "1.5.0",
          "state": {
            "_dom_classes": [],
            "_model_module": "@jupyter-widgets/controls",
            "_model_module_version": "1.5.0",
            "_model_name": "HTMLModel",
            "_view_count": null,
            "_view_module": "@jupyter-widgets/controls",
            "_view_module_version": "1.5.0",
            "_view_name": "HTMLView",
            "description": "",
            "description_tooltip": null,
            "layout": "IPY_MODEL_21cd6d120db94db5a0884001f0d60471",
            "placeholder": "​",
            "style": "IPY_MODEL_7aa3c3984e294c8f82526676afcaf503",
            "value": " 4422102/4422102 [00:01&lt;00:00, 4596369.28it/s]"
          }
        },
        "8a0b2ca4d5ad43cf9dc794d87cb3577b": {
          "model_module": "@jupyter-widgets/base",
          "model_name": "LayoutModel",
          "model_module_version": "1.2.0",
          "state": {
            "_model_module": "@jupyter-widgets/base",
            "_model_module_version": "1.2.0",
            "_model_name": "LayoutModel",
            "_view_count": null,
            "_view_module": "@jupyter-widgets/base",
            "_view_module_version": "1.2.0",
            "_view_name": "LayoutView",
            "align_content": null,
            "align_items": null,
            "align_self": null,
            "border": null,
            "bottom": null,
            "display": null,
            "flex": null,
            "flex_flow": null,
            "grid_area": null,
            "grid_auto_columns": null,
            "grid_auto_flow": null,
            "grid_auto_rows": null,
            "grid_column": null,
            "grid_gap": null,
            "grid_row": null,
            "grid_template_areas": null,
            "grid_template_columns": null,
            "grid_template_rows": null,
            "height": null,
            "justify_content": null,
            "justify_items": null,
            "left": null,
            "margin": null,
            "max_height": null,
            "max_width": null,
            "min_height": null,
            "min_width": null,
            "object_fit": null,
            "object_position": null,
            "order": null,
            "overflow": null,
            "overflow_x": null,
            "overflow_y": null,
            "padding": null,
            "right": null,
            "top": null,
            "visibility": null,
            "width": null
          }
        },
        "32393305b3784dfc839a514b22e65187": {
          "model_module": "@jupyter-widgets/base",
          "model_name": "LayoutModel",
          "model_module_version": "1.2.0",
          "state": {
            "_model_module": "@jupyter-widgets/base",
            "_model_module_version": "1.2.0",
            "_model_name": "LayoutModel",
            "_view_count": null,
            "_view_module": "@jupyter-widgets/base",
            "_view_module_version": "1.2.0",
            "_view_name": "LayoutView",
            "align_content": null,
            "align_items": null,
            "align_self": null,
            "border": null,
            "bottom": null,
            "display": null,
            "flex": null,
            "flex_flow": null,
            "grid_area": null,
            "grid_auto_columns": null,
            "grid_auto_flow": null,
            "grid_auto_rows": null,
            "grid_column": null,
            "grid_gap": null,
            "grid_row": null,
            "grid_template_areas": null,
            "grid_template_columns": null,
            "grid_template_rows": null,
            "height": null,
            "justify_content": null,
            "justify_items": null,
            "left": null,
            "margin": null,
            "max_height": null,
            "max_width": null,
            "min_height": null,
            "min_width": null,
            "object_fit": null,
            "object_position": null,
            "order": null,
            "overflow": null,
            "overflow_x": null,
            "overflow_y": null,
            "padding": null,
            "right": null,
            "top": null,
            "visibility": null,
            "width": null
          }
        },
        "964a3a59d83a4aa5aa32d2560d8b4a0f": {
          "model_module": "@jupyter-widgets/controls",
          "model_name": "DescriptionStyleModel",
          "model_module_version": "1.5.0",
          "state": {
            "_model_module": "@jupyter-widgets/controls",
            "_model_module_version": "1.5.0",
            "_model_name": "DescriptionStyleModel",
            "_view_count": null,
            "_view_module": "@jupyter-widgets/base",
            "_view_module_version": "1.2.0",
            "_view_name": "StyleView",
            "description_width": ""
          }
        },
        "2652a6c5245149c29701432ef938ec69": {
          "model_module": "@jupyter-widgets/base",
          "model_name": "LayoutModel",
          "model_module_version": "1.2.0",
          "state": {
            "_model_module": "@jupyter-widgets/base",
            "_model_module_version": "1.2.0",
            "_model_name": "LayoutModel",
            "_view_count": null,
            "_view_module": "@jupyter-widgets/base",
            "_view_module_version": "1.2.0",
            "_view_name": "LayoutView",
            "align_content": null,
            "align_items": null,
            "align_self": null,
            "border": null,
            "bottom": null,
            "display": null,
            "flex": null,
            "flex_flow": null,
            "grid_area": null,
            "grid_auto_columns": null,
            "grid_auto_flow": null,
            "grid_auto_rows": null,
            "grid_column": null,
            "grid_gap": null,
            "grid_row": null,
            "grid_template_areas": null,
            "grid_template_columns": null,
            "grid_template_rows": null,
            "height": null,
            "justify_content": null,
            "justify_items": null,
            "left": null,
            "margin": null,
            "max_height": null,
            "max_width": null,
            "min_height": null,
            "min_width": null,
            "object_fit": null,
            "object_position": null,
            "order": null,
            "overflow": null,
            "overflow_x": null,
            "overflow_y": null,
            "padding": null,
            "right": null,
            "top": null,
            "visibility": null,
            "width": null
          }
        },
        "da41ac73691649b386797965b1948166": {
          "model_module": "@jupyter-widgets/controls",
          "model_name": "ProgressStyleModel",
          "model_module_version": "1.5.0",
          "state": {
            "_model_module": "@jupyter-widgets/controls",
            "_model_module_version": "1.5.0",
            "_model_name": "ProgressStyleModel",
            "_view_count": null,
            "_view_module": "@jupyter-widgets/base",
            "_view_module_version": "1.2.0",
            "_view_name": "StyleView",
            "bar_color": null,
            "description_width": ""
          }
        },
        "21cd6d120db94db5a0884001f0d60471": {
          "model_module": "@jupyter-widgets/base",
          "model_name": "LayoutModel",
          "model_module_version": "1.2.0",
          "state": {
            "_model_module": "@jupyter-widgets/base",
            "_model_module_version": "1.2.0",
            "_model_name": "LayoutModel",
            "_view_count": null,
            "_view_module": "@jupyter-widgets/base",
            "_view_module_version": "1.2.0",
            "_view_name": "LayoutView",
            "align_content": null,
            "align_items": null,
            "align_self": null,
            "border": null,
            "bottom": null,
            "display": null,
            "flex": null,
            "flex_flow": null,
            "grid_area": null,
            "grid_auto_columns": null,
            "grid_auto_flow": null,
            "grid_auto_rows": null,
            "grid_column": null,
            "grid_gap": null,
            "grid_row": null,
            "grid_template_areas": null,
            "grid_template_columns": null,
            "grid_template_rows": null,
            "height": null,
            "justify_content": null,
            "justify_items": null,
            "left": null,
            "margin": null,
            "max_height": null,
            "max_width": null,
            "min_height": null,
            "min_width": null,
            "object_fit": null,
            "object_position": null,
            "order": null,
            "overflow": null,
            "overflow_x": null,
            "overflow_y": null,
            "padding": null,
            "right": null,
            "top": null,
            "visibility": null,
            "width": null
          }
        },
        "7aa3c3984e294c8f82526676afcaf503": {
          "model_module": "@jupyter-widgets/controls",
          "model_name": "DescriptionStyleModel",
          "model_module_version": "1.5.0",
          "state": {
            "_model_module": "@jupyter-widgets/controls",
            "_model_module_version": "1.5.0",
            "_model_name": "DescriptionStyleModel",
            "_view_count": null,
            "_view_module": "@jupyter-widgets/base",
            "_view_module_version": "1.2.0",
            "_view_name": "StyleView",
            "description_width": ""
          }
        },
        "cf49778eea184c28823e367d48aa5187": {
          "model_module": "@jupyter-widgets/controls",
          "model_name": "HBoxModel",
          "model_module_version": "1.5.0",
          "state": {
            "_dom_classes": [],
            "_model_module": "@jupyter-widgets/controls",
            "_model_module_version": "1.5.0",
            "_model_name": "HBoxModel",
            "_view_count": null,
            "_view_module": "@jupyter-widgets/controls",
            "_view_module_version": "1.5.0",
            "_view_name": "HBoxView",
            "box_style": "",
            "children": [
              "IPY_MODEL_91399a00f3cf4cedabc77b968971d20e",
              "IPY_MODEL_c28a211958a04235a79b5f4e676df43d",
              "IPY_MODEL_27c6628a7b0a4a3c82e50fe0e70d1ae0"
            ],
            "layout": "IPY_MODEL_183fe8a5d8e645189308e4a2e9fd17f9"
          }
        },
        "91399a00f3cf4cedabc77b968971d20e": {
          "model_module": "@jupyter-widgets/controls",
          "model_name": "HTMLModel",
          "model_module_version": "1.5.0",
          "state": {
            "_dom_classes": [],
            "_model_module": "@jupyter-widgets/controls",
            "_model_module_version": "1.5.0",
            "_model_name": "HTMLModel",
            "_view_count": null,
            "_view_module": "@jupyter-widgets/controls",
            "_view_module_version": "1.5.0",
            "_view_name": "HTMLView",
            "description": "",
            "description_tooltip": null,
            "layout": "IPY_MODEL_ea601ecaa7174b939bd79c0d74c386d1",
            "placeholder": "​",
            "style": "IPY_MODEL_43268c71a5b84f19a3566284735697e9",
            "value": "100%"
          }
        },
        "c28a211958a04235a79b5f4e676df43d": {
          "model_module": "@jupyter-widgets/controls",
          "model_name": "FloatProgressModel",
          "model_module_version": "1.5.0",
          "state": {
            "_dom_classes": [],
            "_model_module": "@jupyter-widgets/controls",
            "_model_module_version": "1.5.0",
            "_model_name": "FloatProgressModel",
            "_view_count": null,
            "_view_module": "@jupyter-widgets/controls",
            "_view_module_version": "1.5.0",
            "_view_name": "ProgressView",
            "bar_style": "success",
            "description": "",
            "description_tooltip": null,
            "layout": "IPY_MODEL_57117b8c028e47aca40884412de758fd",
            "max": 5148,
            "min": 0,
            "orientation": "horizontal",
            "style": "IPY_MODEL_b5f1a3f7ceac466b8ac781ee6493d6cd",
            "value": 5148
          }
        },
        "27c6628a7b0a4a3c82e50fe0e70d1ae0": {
          "model_module": "@jupyter-widgets/controls",
          "model_name": "HTMLModel",
          "model_module_version": "1.5.0",
          "state": {
            "_dom_classes": [],
            "_model_module": "@jupyter-widgets/controls",
            "_model_module_version": "1.5.0",
            "_model_name": "HTMLModel",
            "_view_count": null,
            "_view_module": "@jupyter-widgets/controls",
            "_view_module_version": "1.5.0",
            "_view_name": "HTMLView",
            "description": "",
            "description_tooltip": null,
            "layout": "IPY_MODEL_d622dcb4b3d04e01abd3e6bbbca33119",
            "placeholder": "​",
            "style": "IPY_MODEL_76c25f9afdd54316ac5333d986986e2d",
            "value": " 5148/5148 [00:00&lt;00:00, 163896.96it/s]"
          }
        },
        "183fe8a5d8e645189308e4a2e9fd17f9": {
          "model_module": "@jupyter-widgets/base",
          "model_name": "LayoutModel",
          "model_module_version": "1.2.0",
          "state": {
            "_model_module": "@jupyter-widgets/base",
            "_model_module_version": "1.2.0",
            "_model_name": "LayoutModel",
            "_view_count": null,
            "_view_module": "@jupyter-widgets/base",
            "_view_module_version": "1.2.0",
            "_view_name": "LayoutView",
            "align_content": null,
            "align_items": null,
            "align_self": null,
            "border": null,
            "bottom": null,
            "display": null,
            "flex": null,
            "flex_flow": null,
            "grid_area": null,
            "grid_auto_columns": null,
            "grid_auto_flow": null,
            "grid_auto_rows": null,
            "grid_column": null,
            "grid_gap": null,
            "grid_row": null,
            "grid_template_areas": null,
            "grid_template_columns": null,
            "grid_template_rows": null,
            "height": null,
            "justify_content": null,
            "justify_items": null,
            "left": null,
            "margin": null,
            "max_height": null,
            "max_width": null,
            "min_height": null,
            "min_width": null,
            "object_fit": null,
            "object_position": null,
            "order": null,
            "overflow": null,
            "overflow_x": null,
            "overflow_y": null,
            "padding": null,
            "right": null,
            "top": null,
            "visibility": null,
            "width": null
          }
        },
        "ea601ecaa7174b939bd79c0d74c386d1": {
          "model_module": "@jupyter-widgets/base",
          "model_name": "LayoutModel",
          "model_module_version": "1.2.0",
          "state": {
            "_model_module": "@jupyter-widgets/base",
            "_model_module_version": "1.2.0",
            "_model_name": "LayoutModel",
            "_view_count": null,
            "_view_module": "@jupyter-widgets/base",
            "_view_module_version": "1.2.0",
            "_view_name": "LayoutView",
            "align_content": null,
            "align_items": null,
            "align_self": null,
            "border": null,
            "bottom": null,
            "display": null,
            "flex": null,
            "flex_flow": null,
            "grid_area": null,
            "grid_auto_columns": null,
            "grid_auto_flow": null,
            "grid_auto_rows": null,
            "grid_column": null,
            "grid_gap": null,
            "grid_row": null,
            "grid_template_areas": null,
            "grid_template_columns": null,
            "grid_template_rows": null,
            "height": null,
            "justify_content": null,
            "justify_items": null,
            "left": null,
            "margin": null,
            "max_height": null,
            "max_width": null,
            "min_height": null,
            "min_width": null,
            "object_fit": null,
            "object_position": null,
            "order": null,
            "overflow": null,
            "overflow_x": null,
            "overflow_y": null,
            "padding": null,
            "right": null,
            "top": null,
            "visibility": null,
            "width": null
          }
        },
        "43268c71a5b84f19a3566284735697e9": {
          "model_module": "@jupyter-widgets/controls",
          "model_name": "DescriptionStyleModel",
          "model_module_version": "1.5.0",
          "state": {
            "_model_module": "@jupyter-widgets/controls",
            "_model_module_version": "1.5.0",
            "_model_name": "DescriptionStyleModel",
            "_view_count": null,
            "_view_module": "@jupyter-widgets/base",
            "_view_module_version": "1.2.0",
            "_view_name": "StyleView",
            "description_width": ""
          }
        },
        "57117b8c028e47aca40884412de758fd": {
          "model_module": "@jupyter-widgets/base",
          "model_name": "LayoutModel",
          "model_module_version": "1.2.0",
          "state": {
            "_model_module": "@jupyter-widgets/base",
            "_model_module_version": "1.2.0",
            "_model_name": "LayoutModel",
            "_view_count": null,
            "_view_module": "@jupyter-widgets/base",
            "_view_module_version": "1.2.0",
            "_view_name": "LayoutView",
            "align_content": null,
            "align_items": null,
            "align_self": null,
            "border": null,
            "bottom": null,
            "display": null,
            "flex": null,
            "flex_flow": null,
            "grid_area": null,
            "grid_auto_columns": null,
            "grid_auto_flow": null,
            "grid_auto_rows": null,
            "grid_column": null,
            "grid_gap": null,
            "grid_row": null,
            "grid_template_areas": null,
            "grid_template_columns": null,
            "grid_template_rows": null,
            "height": null,
            "justify_content": null,
            "justify_items": null,
            "left": null,
            "margin": null,
            "max_height": null,
            "max_width": null,
            "min_height": null,
            "min_width": null,
            "object_fit": null,
            "object_position": null,
            "order": null,
            "overflow": null,
            "overflow_x": null,
            "overflow_y": null,
            "padding": null,
            "right": null,
            "top": null,
            "visibility": null,
            "width": null
          }
        },
        "b5f1a3f7ceac466b8ac781ee6493d6cd": {
          "model_module": "@jupyter-widgets/controls",
          "model_name": "ProgressStyleModel",
          "model_module_version": "1.5.0",
          "state": {
            "_model_module": "@jupyter-widgets/controls",
            "_model_module_version": "1.5.0",
            "_model_name": "ProgressStyleModel",
            "_view_count": null,
            "_view_module": "@jupyter-widgets/base",
            "_view_module_version": "1.2.0",
            "_view_name": "StyleView",
            "bar_color": null,
            "description_width": ""
          }
        },
        "d622dcb4b3d04e01abd3e6bbbca33119": {
          "model_module": "@jupyter-widgets/base",
          "model_name": "LayoutModel",
          "model_module_version": "1.2.0",
          "state": {
            "_model_module": "@jupyter-widgets/base",
            "_model_module_version": "1.2.0",
            "_model_name": "LayoutModel",
            "_view_count": null,
            "_view_module": "@jupyter-widgets/base",
            "_view_module_version": "1.2.0",
            "_view_name": "LayoutView",
            "align_content": null,
            "align_items": null,
            "align_self": null,
            "border": null,
            "bottom": null,
            "display": null,
            "flex": null,
            "flex_flow": null,
            "grid_area": null,
            "grid_auto_columns": null,
            "grid_auto_flow": null,
            "grid_auto_rows": null,
            "grid_column": null,
            "grid_gap": null,
            "grid_row": null,
            "grid_template_areas": null,
            "grid_template_columns": null,
            "grid_template_rows": null,
            "height": null,
            "justify_content": null,
            "justify_items": null,
            "left": null,
            "margin": null,
            "max_height": null,
            "max_width": null,
            "min_height": null,
            "min_width": null,
            "object_fit": null,
            "object_position": null,
            "order": null,
            "overflow": null,
            "overflow_x": null,
            "overflow_y": null,
            "padding": null,
            "right": null,
            "top": null,
            "visibility": null,
            "width": null
          }
        },
        "76c25f9afdd54316ac5333d986986e2d": {
          "model_module": "@jupyter-widgets/controls",
          "model_name": "DescriptionStyleModel",
          "model_module_version": "1.5.0",
          "state": {
            "_model_module": "@jupyter-widgets/controls",
            "_model_module_version": "1.5.0",
            "_model_name": "DescriptionStyleModel",
            "_view_count": null,
            "_view_module": "@jupyter-widgets/base",
            "_view_module_version": "1.2.0",
            "_view_name": "StyleView",
            "description_width": ""
          }
        },
        "d0a98dbfdb3c407a80b21e7841d62517": {
          "model_module": "@jupyter-widgets/controls",
          "model_name": "HBoxModel",
          "model_module_version": "1.5.0",
          "state": {
            "_dom_classes": [],
            "_model_module": "@jupyter-widgets/controls",
            "_model_module_version": "1.5.0",
            "_model_name": "HBoxModel",
            "_view_count": null,
            "_view_module": "@jupyter-widgets/controls",
            "_view_module_version": "1.5.0",
            "_view_name": "HBoxView",
            "box_style": "",
            "children": [
              "IPY_MODEL_cf6a6e93a5be42ac87ba57d801a36f0a",
              "IPY_MODEL_70fa8703f9814b0fade1fba99c989923",
              "IPY_MODEL_67ffc49e6af5455cad037072b1bffe00"
            ],
            "layout": "IPY_MODEL_a88636a90b6644f6bf6152e70ddb470d"
          }
        },
        "cf6a6e93a5be42ac87ba57d801a36f0a": {
          "model_module": "@jupyter-widgets/controls",
          "model_name": "HTMLModel",
          "model_module_version": "1.5.0",
          "state": {
            "_dom_classes": [],
            "_model_module": "@jupyter-widgets/controls",
            "_model_module_version": "1.5.0",
            "_model_name": "HTMLModel",
            "_view_count": null,
            "_view_module": "@jupyter-widgets/controls",
            "_view_module_version": "1.5.0",
            "_view_name": "HTMLView",
            "description": "",
            "description_tooltip": null,
            "layout": "IPY_MODEL_c203a61ef7144bd59b9b011b17066add",
            "placeholder": "​",
            "style": "IPY_MODEL_558642c4a6f2435cbcba34f44079bbe1",
            "value": "100%"
          }
        },
        "70fa8703f9814b0fade1fba99c989923": {
          "model_module": "@jupyter-widgets/controls",
          "model_name": "FloatProgressModel",
          "model_module_version": "1.5.0",
          "state": {
            "_dom_classes": [],
            "_model_module": "@jupyter-widgets/controls",
            "_model_module_version": "1.5.0",
            "_model_name": "FloatProgressModel",
            "_view_count": null,
            "_view_module": "@jupyter-widgets/controls",
            "_view_module_version": "1.5.0",
            "_view_name": "ProgressView",
            "bar_style": "success",
            "description": "",
            "description_tooltip": null,
            "layout": "IPY_MODEL_0b153e8e223a406e9bacec585b53ffd7",
            "max": 3,
            "min": 0,
            "orientation": "horizontal",
            "style": "IPY_MODEL_6e949e5190b44e939969a6cf81041c68",
            "value": 3
          }
        },
        "67ffc49e6af5455cad037072b1bffe00": {
          "model_module": "@jupyter-widgets/controls",
          "model_name": "HTMLModel",
          "model_module_version": "1.5.0",
          "state": {
            "_dom_classes": [],
            "_model_module": "@jupyter-widgets/controls",
            "_model_module_version": "1.5.0",
            "_model_name": "HTMLModel",
            "_view_count": null,
            "_view_module": "@jupyter-widgets/controls",
            "_view_module_version": "1.5.0",
            "_view_name": "HTMLView",
            "description": "",
            "description_tooltip": null,
            "layout": "IPY_MODEL_8bdf7bf7d23e4df6962751a1603e1014",
            "placeholder": "​",
            "style": "IPY_MODEL_9a94534ed9374e448d500527d106d644",
            "value": " 3/3 [00:21&lt;00:00,  7.29s/it]"
          }
        },
        "a88636a90b6644f6bf6152e70ddb470d": {
          "model_module": "@jupyter-widgets/base",
          "model_name": "LayoutModel",
          "model_module_version": "1.2.0",
          "state": {
            "_model_module": "@jupyter-widgets/base",
            "_model_module_version": "1.2.0",
            "_model_name": "LayoutModel",
            "_view_count": null,
            "_view_module": "@jupyter-widgets/base",
            "_view_module_version": "1.2.0",
            "_view_name": "LayoutView",
            "align_content": null,
            "align_items": null,
            "align_self": null,
            "border": null,
            "bottom": null,
            "display": null,
            "flex": null,
            "flex_flow": null,
            "grid_area": null,
            "grid_auto_columns": null,
            "grid_auto_flow": null,
            "grid_auto_rows": null,
            "grid_column": null,
            "grid_gap": null,
            "grid_row": null,
            "grid_template_areas": null,
            "grid_template_columns": null,
            "grid_template_rows": null,
            "height": null,
            "justify_content": null,
            "justify_items": null,
            "left": null,
            "margin": null,
            "max_height": null,
            "max_width": null,
            "min_height": null,
            "min_width": null,
            "object_fit": null,
            "object_position": null,
            "order": null,
            "overflow": null,
            "overflow_x": null,
            "overflow_y": null,
            "padding": null,
            "right": null,
            "top": null,
            "visibility": null,
            "width": null
          }
        },
        "c203a61ef7144bd59b9b011b17066add": {
          "model_module": "@jupyter-widgets/base",
          "model_name": "LayoutModel",
          "model_module_version": "1.2.0",
          "state": {
            "_model_module": "@jupyter-widgets/base",
            "_model_module_version": "1.2.0",
            "_model_name": "LayoutModel",
            "_view_count": null,
            "_view_module": "@jupyter-widgets/base",
            "_view_module_version": "1.2.0",
            "_view_name": "LayoutView",
            "align_content": null,
            "align_items": null,
            "align_self": null,
            "border": null,
            "bottom": null,
            "display": null,
            "flex": null,
            "flex_flow": null,
            "grid_area": null,
            "grid_auto_columns": null,
            "grid_auto_flow": null,
            "grid_auto_rows": null,
            "grid_column": null,
            "grid_gap": null,
            "grid_row": null,
            "grid_template_areas": null,
            "grid_template_columns": null,
            "grid_template_rows": null,
            "height": null,
            "justify_content": null,
            "justify_items": null,
            "left": null,
            "margin": null,
            "max_height": null,
            "max_width": null,
            "min_height": null,
            "min_width": null,
            "object_fit": null,
            "object_position": null,
            "order": null,
            "overflow": null,
            "overflow_x": null,
            "overflow_y": null,
            "padding": null,
            "right": null,
            "top": null,
            "visibility": null,
            "width": null
          }
        },
        "558642c4a6f2435cbcba34f44079bbe1": {
          "model_module": "@jupyter-widgets/controls",
          "model_name": "DescriptionStyleModel",
          "model_module_version": "1.5.0",
          "state": {
            "_model_module": "@jupyter-widgets/controls",
            "_model_module_version": "1.5.0",
            "_model_name": "DescriptionStyleModel",
            "_view_count": null,
            "_view_module": "@jupyter-widgets/base",
            "_view_module_version": "1.2.0",
            "_view_name": "StyleView",
            "description_width": ""
          }
        },
        "0b153e8e223a406e9bacec585b53ffd7": {
          "model_module": "@jupyter-widgets/base",
          "model_name": "LayoutModel",
          "model_module_version": "1.2.0",
          "state": {
            "_model_module": "@jupyter-widgets/base",
            "_model_module_version": "1.2.0",
            "_model_name": "LayoutModel",
            "_view_count": null,
            "_view_module": "@jupyter-widgets/base",
            "_view_module_version": "1.2.0",
            "_view_name": "LayoutView",
            "align_content": null,
            "align_items": null,
            "align_self": null,
            "border": null,
            "bottom": null,
            "display": null,
            "flex": null,
            "flex_flow": null,
            "grid_area": null,
            "grid_auto_columns": null,
            "grid_auto_flow": null,
            "grid_auto_rows": null,
            "grid_column": null,
            "grid_gap": null,
            "grid_row": null,
            "grid_template_areas": null,
            "grid_template_columns": null,
            "grid_template_rows": null,
            "height": null,
            "justify_content": null,
            "justify_items": null,
            "left": null,
            "margin": null,
            "max_height": null,
            "max_width": null,
            "min_height": null,
            "min_width": null,
            "object_fit": null,
            "object_position": null,
            "order": null,
            "overflow": null,
            "overflow_x": null,
            "overflow_y": null,
            "padding": null,
            "right": null,
            "top": null,
            "visibility": null,
            "width": null
          }
        },
        "6e949e5190b44e939969a6cf81041c68": {
          "model_module": "@jupyter-widgets/controls",
          "model_name": "ProgressStyleModel",
          "model_module_version": "1.5.0",
          "state": {
            "_model_module": "@jupyter-widgets/controls",
            "_model_module_version": "1.5.0",
            "_model_name": "ProgressStyleModel",
            "_view_count": null,
            "_view_module": "@jupyter-widgets/base",
            "_view_module_version": "1.2.0",
            "_view_name": "StyleView",
            "bar_color": null,
            "description_width": ""
          }
        },
        "8bdf7bf7d23e4df6962751a1603e1014": {
          "model_module": "@jupyter-widgets/base",
          "model_name": "LayoutModel",
          "model_module_version": "1.2.0",
          "state": {
            "_model_module": "@jupyter-widgets/base",
            "_model_module_version": "1.2.0",
            "_model_name": "LayoutModel",
            "_view_count": null,
            "_view_module": "@jupyter-widgets/base",
            "_view_module_version": "1.2.0",
            "_view_name": "LayoutView",
            "align_content": null,
            "align_items": null,
            "align_self": null,
            "border": null,
            "bottom": null,
            "display": null,
            "flex": null,
            "flex_flow": null,
            "grid_area": null,
            "grid_auto_columns": null,
            "grid_auto_flow": null,
            "grid_auto_rows": null,
            "grid_column": null,
            "grid_gap": null,
            "grid_row": null,
            "grid_template_areas": null,
            "grid_template_columns": null,
            "grid_template_rows": null,
            "height": null,
            "justify_content": null,
            "justify_items": null,
            "left": null,
            "margin": null,
            "max_height": null,
            "max_width": null,
            "min_height": null,
            "min_width": null,
            "object_fit": null,
            "object_position": null,
            "order": null,
            "overflow": null,
            "overflow_x": null,
            "overflow_y": null,
            "padding": null,
            "right": null,
            "top": null,
            "visibility": null,
            "width": null
          }
        },
        "9a94534ed9374e448d500527d106d644": {
          "model_module": "@jupyter-widgets/controls",
          "model_name": "DescriptionStyleModel",
          "model_module_version": "1.5.0",
          "state": {
            "_model_module": "@jupyter-widgets/controls",
            "_model_module_version": "1.5.0",
            "_model_name": "DescriptionStyleModel",
            "_view_count": null,
            "_view_module": "@jupyter-widgets/base",
            "_view_module_version": "1.2.0",
            "_view_name": "StyleView",
            "description_width": ""
          }
        },
        "379d008c849a40528af1f86bcd2be21f": {
          "model_module": "@jupyter-widgets/controls",
          "model_name": "HBoxModel",
          "model_module_version": "1.5.0",
          "state": {
            "_dom_classes": [],
            "_model_module": "@jupyter-widgets/controls",
            "_model_module_version": "1.5.0",
            "_model_name": "HBoxModel",
            "_view_count": null,
            "_view_module": "@jupyter-widgets/controls",
            "_view_module_version": "1.5.0",
            "_view_name": "HBoxView",
            "box_style": "",
            "children": [
              "IPY_MODEL_61f0eb99df6a4a7ea89a62746e94f01f",
              "IPY_MODEL_b6c16ca07ac4483dadac8b52a62173a5",
              "IPY_MODEL_0e78b9e89ac64a47aa6ff5e66b6132f1"
            ],
            "layout": "IPY_MODEL_6d25a75aeb8444e69dd6911e899162a4"
          }
        },
        "61f0eb99df6a4a7ea89a62746e94f01f": {
          "model_module": "@jupyter-widgets/controls",
          "model_name": "HTMLModel",
          "model_module_version": "1.5.0",
          "state": {
            "_dom_classes": [],
            "_model_module": "@jupyter-widgets/controls",
            "_model_module_version": "1.5.0",
            "_model_name": "HTMLModel",
            "_view_count": null,
            "_view_module": "@jupyter-widgets/controls",
            "_view_module_version": "1.5.0",
            "_view_name": "HTMLView",
            "description": "",
            "description_tooltip": null,
            "layout": "IPY_MODEL_45825d96426547a097bae87b53ebee8a",
            "placeholder": "​",
            "style": "IPY_MODEL_240a32c956ca4d39a76f478e671c5add",
            "value": "100%"
          }
        },
        "b6c16ca07ac4483dadac8b52a62173a5": {
          "model_module": "@jupyter-widgets/controls",
          "model_name": "FloatProgressModel",
          "model_module_version": "1.5.0",
          "state": {
            "_dom_classes": [],
            "_model_module": "@jupyter-widgets/controls",
            "_model_module_version": "1.5.0",
            "_model_name": "FloatProgressModel",
            "_view_count": null,
            "_view_module": "@jupyter-widgets/controls",
            "_view_module_version": "1.5.0",
            "_view_name": "ProgressView",
            "bar_style": "success",
            "description": "",
            "description_tooltip": null,
            "layout": "IPY_MODEL_9462374066934f5fb06665dc93804df6",
            "max": 3,
            "min": 0,
            "orientation": "horizontal",
            "style": "IPY_MODEL_c9492ee6f06f48dab71c3085d7b9329f",
            "value": 3
          }
        },
        "0e78b9e89ac64a47aa6ff5e66b6132f1": {
          "model_module": "@jupyter-widgets/controls",
          "model_name": "HTMLModel",
          "model_module_version": "1.5.0",
          "state": {
            "_dom_classes": [],
            "_model_module": "@jupyter-widgets/controls",
            "_model_module_version": "1.5.0",
            "_model_name": "HTMLModel",
            "_view_count": null,
            "_view_module": "@jupyter-widgets/controls",
            "_view_module_version": "1.5.0",
            "_view_name": "HTMLView",
            "description": "",
            "description_tooltip": null,
            "layout": "IPY_MODEL_f865481349f444b2be05e901c2e5825f",
            "placeholder": "​",
            "style": "IPY_MODEL_cc485ef502a24dae8aaecfa7524c9eaa",
            "value": " 3/3 [00:21&lt;00:00,  7.26s/it]"
          }
        },
        "6d25a75aeb8444e69dd6911e899162a4": {
          "model_module": "@jupyter-widgets/base",
          "model_name": "LayoutModel",
          "model_module_version": "1.2.0",
          "state": {
            "_model_module": "@jupyter-widgets/base",
            "_model_module_version": "1.2.0",
            "_model_name": "LayoutModel",
            "_view_count": null,
            "_view_module": "@jupyter-widgets/base",
            "_view_module_version": "1.2.0",
            "_view_name": "LayoutView",
            "align_content": null,
            "align_items": null,
            "align_self": null,
            "border": null,
            "bottom": null,
            "display": null,
            "flex": null,
            "flex_flow": null,
            "grid_area": null,
            "grid_auto_columns": null,
            "grid_auto_flow": null,
            "grid_auto_rows": null,
            "grid_column": null,
            "grid_gap": null,
            "grid_row": null,
            "grid_template_areas": null,
            "grid_template_columns": null,
            "grid_template_rows": null,
            "height": null,
            "justify_content": null,
            "justify_items": null,
            "left": null,
            "margin": null,
            "max_height": null,
            "max_width": null,
            "min_height": null,
            "min_width": null,
            "object_fit": null,
            "object_position": null,
            "order": null,
            "overflow": null,
            "overflow_x": null,
            "overflow_y": null,
            "padding": null,
            "right": null,
            "top": null,
            "visibility": null,
            "width": null
          }
        },
        "45825d96426547a097bae87b53ebee8a": {
          "model_module": "@jupyter-widgets/base",
          "model_name": "LayoutModel",
          "model_module_version": "1.2.0",
          "state": {
            "_model_module": "@jupyter-widgets/base",
            "_model_module_version": "1.2.0",
            "_model_name": "LayoutModel",
            "_view_count": null,
            "_view_module": "@jupyter-widgets/base",
            "_view_module_version": "1.2.0",
            "_view_name": "LayoutView",
            "align_content": null,
            "align_items": null,
            "align_self": null,
            "border": null,
            "bottom": null,
            "display": null,
            "flex": null,
            "flex_flow": null,
            "grid_area": null,
            "grid_auto_columns": null,
            "grid_auto_flow": null,
            "grid_auto_rows": null,
            "grid_column": null,
            "grid_gap": null,
            "grid_row": null,
            "grid_template_areas": null,
            "grid_template_columns": null,
            "grid_template_rows": null,
            "height": null,
            "justify_content": null,
            "justify_items": null,
            "left": null,
            "margin": null,
            "max_height": null,
            "max_width": null,
            "min_height": null,
            "min_width": null,
            "object_fit": null,
            "object_position": null,
            "order": null,
            "overflow": null,
            "overflow_x": null,
            "overflow_y": null,
            "padding": null,
            "right": null,
            "top": null,
            "visibility": null,
            "width": null
          }
        },
        "240a32c956ca4d39a76f478e671c5add": {
          "model_module": "@jupyter-widgets/controls",
          "model_name": "DescriptionStyleModel",
          "model_module_version": "1.5.0",
          "state": {
            "_model_module": "@jupyter-widgets/controls",
            "_model_module_version": "1.5.0",
            "_model_name": "DescriptionStyleModel",
            "_view_count": null,
            "_view_module": "@jupyter-widgets/base",
            "_view_module_version": "1.2.0",
            "_view_name": "StyleView",
            "description_width": ""
          }
        },
        "9462374066934f5fb06665dc93804df6": {
          "model_module": "@jupyter-widgets/base",
          "model_name": "LayoutModel",
          "model_module_version": "1.2.0",
          "state": {
            "_model_module": "@jupyter-widgets/base",
            "_model_module_version": "1.2.0",
            "_model_name": "LayoutModel",
            "_view_count": null,
            "_view_module": "@jupyter-widgets/base",
            "_view_module_version": "1.2.0",
            "_view_name": "LayoutView",
            "align_content": null,
            "align_items": null,
            "align_self": null,
            "border": null,
            "bottom": null,
            "display": null,
            "flex": null,
            "flex_flow": null,
            "grid_area": null,
            "grid_auto_columns": null,
            "grid_auto_flow": null,
            "grid_auto_rows": null,
            "grid_column": null,
            "grid_gap": null,
            "grid_row": null,
            "grid_template_areas": null,
            "grid_template_columns": null,
            "grid_template_rows": null,
            "height": null,
            "justify_content": null,
            "justify_items": null,
            "left": null,
            "margin": null,
            "max_height": null,
            "max_width": null,
            "min_height": null,
            "min_width": null,
            "object_fit": null,
            "object_position": null,
            "order": null,
            "overflow": null,
            "overflow_x": null,
            "overflow_y": null,
            "padding": null,
            "right": null,
            "top": null,
            "visibility": null,
            "width": null
          }
        },
        "c9492ee6f06f48dab71c3085d7b9329f": {
          "model_module": "@jupyter-widgets/controls",
          "model_name": "ProgressStyleModel",
          "model_module_version": "1.5.0",
          "state": {
            "_model_module": "@jupyter-widgets/controls",
            "_model_module_version": "1.5.0",
            "_model_name": "ProgressStyleModel",
            "_view_count": null,
            "_view_module": "@jupyter-widgets/base",
            "_view_module_version": "1.2.0",
            "_view_name": "StyleView",
            "bar_color": null,
            "description_width": ""
          }
        },
        "f865481349f444b2be05e901c2e5825f": {
          "model_module": "@jupyter-widgets/base",
          "model_name": "LayoutModel",
          "model_module_version": "1.2.0",
          "state": {
            "_model_module": "@jupyter-widgets/base",
            "_model_module_version": "1.2.0",
            "_model_name": "LayoutModel",
            "_view_count": null,
            "_view_module": "@jupyter-widgets/base",
            "_view_module_version": "1.2.0",
            "_view_name": "LayoutView",
            "align_content": null,
            "align_items": null,
            "align_self": null,
            "border": null,
            "bottom": null,
            "display": null,
            "flex": null,
            "flex_flow": null,
            "grid_area": null,
            "grid_auto_columns": null,
            "grid_auto_flow": null,
            "grid_auto_rows": null,
            "grid_column": null,
            "grid_gap": null,
            "grid_row": null,
            "grid_template_areas": null,
            "grid_template_columns": null,
            "grid_template_rows": null,
            "height": null,
            "justify_content": null,
            "justify_items": null,
            "left": null,
            "margin": null,
            "max_height": null,
            "max_width": null,
            "min_height": null,
            "min_width": null,
            "object_fit": null,
            "object_position": null,
            "order": null,
            "overflow": null,
            "overflow_x": null,
            "overflow_y": null,
            "padding": null,
            "right": null,
            "top": null,
            "visibility": null,
            "width": null
          }
        },
        "cc485ef502a24dae8aaecfa7524c9eaa": {
          "model_module": "@jupyter-widgets/controls",
          "model_name": "DescriptionStyleModel",
          "model_module_version": "1.5.0",
          "state": {
            "_model_module": "@jupyter-widgets/controls",
            "_model_module_version": "1.5.0",
            "_model_name": "DescriptionStyleModel",
            "_view_count": null,
            "_view_module": "@jupyter-widgets/base",
            "_view_module_version": "1.2.0",
            "_view_name": "StyleView",
            "description_width": ""
          }
        },
        "feb91d59b0324994ba5baa0c7edebf1d": {
          "model_module": "@jupyter-widgets/controls",
          "model_name": "HBoxModel",
          "model_module_version": "1.5.0",
          "state": {
            "_dom_classes": [],
            "_model_module": "@jupyter-widgets/controls",
            "_model_module_version": "1.5.0",
            "_model_name": "HBoxModel",
            "_view_count": null,
            "_view_module": "@jupyter-widgets/controls",
            "_view_module_version": "1.5.0",
            "_view_name": "HBoxView",
            "box_style": "",
            "children": [
              "IPY_MODEL_cd6ddad0e14b400d8a39da09af71c169",
              "IPY_MODEL_9a6365df1f6c43e2a5c4a96e6114f576",
              "IPY_MODEL_958cecf3b9cd43a1978e6eb1a802b3c4"
            ],
            "layout": "IPY_MODEL_dc7658f1c3994241ad5b1d3d2bd15754"
          }
        },
        "cd6ddad0e14b400d8a39da09af71c169": {
          "model_module": "@jupyter-widgets/controls",
          "model_name": "HTMLModel",
          "model_module_version": "1.5.0",
          "state": {
            "_dom_classes": [],
            "_model_module": "@jupyter-widgets/controls",
            "_model_module_version": "1.5.0",
            "_model_name": "HTMLModel",
            "_view_count": null,
            "_view_module": "@jupyter-widgets/controls",
            "_view_module_version": "1.5.0",
            "_view_name": "HTMLView",
            "description": "",
            "description_tooltip": null,
            "layout": "IPY_MODEL_f9f3148ca922497c856215e0a3369439",
            "placeholder": "​",
            "style": "IPY_MODEL_1338b7e076404115a5b9f49cbd2a10ae",
            "value": "100%"
          }
        },
        "9a6365df1f6c43e2a5c4a96e6114f576": {
          "model_module": "@jupyter-widgets/controls",
          "model_name": "FloatProgressModel",
          "model_module_version": "1.5.0",
          "state": {
            "_dom_classes": [],
            "_model_module": "@jupyter-widgets/controls",
            "_model_module_version": "1.5.0",
            "_model_name": "FloatProgressModel",
            "_view_count": null,
            "_view_module": "@jupyter-widgets/controls",
            "_view_module_version": "1.5.0",
            "_view_name": "ProgressView",
            "bar_style": "success",
            "description": "",
            "description_tooltip": null,
            "layout": "IPY_MODEL_34677e891fea4eb98f67eaeb8ab24728",
            "max": 3,
            "min": 0,
            "orientation": "horizontal",
            "style": "IPY_MODEL_57ad75bbd8264e9ea9383c3cf4443968",
            "value": 3
          }
        },
        "958cecf3b9cd43a1978e6eb1a802b3c4": {
          "model_module": "@jupyter-widgets/controls",
          "model_name": "HTMLModel",
          "model_module_version": "1.5.0",
          "state": {
            "_dom_classes": [],
            "_model_module": "@jupyter-widgets/controls",
            "_model_module_version": "1.5.0",
            "_model_name": "HTMLModel",
            "_view_count": null,
            "_view_module": "@jupyter-widgets/controls",
            "_view_module_version": "1.5.0",
            "_view_name": "HTMLView",
            "description": "",
            "description_tooltip": null,
            "layout": "IPY_MODEL_fe6ae7ea9f54421eb1c63eae1b6dbf5a",
            "placeholder": "​",
            "style": "IPY_MODEL_fc68b6577c274c5d833fe3d86dd53167",
            "value": " 3/3 [01:51&lt;00:00, 36.89s/it]"
          }
        },
        "dc7658f1c3994241ad5b1d3d2bd15754": {
          "model_module": "@jupyter-widgets/base",
          "model_name": "LayoutModel",
          "model_module_version": "1.2.0",
          "state": {
            "_model_module": "@jupyter-widgets/base",
            "_model_module_version": "1.2.0",
            "_model_name": "LayoutModel",
            "_view_count": null,
            "_view_module": "@jupyter-widgets/base",
            "_view_module_version": "1.2.0",
            "_view_name": "LayoutView",
            "align_content": null,
            "align_items": null,
            "align_self": null,
            "border": null,
            "bottom": null,
            "display": null,
            "flex": null,
            "flex_flow": null,
            "grid_area": null,
            "grid_auto_columns": null,
            "grid_auto_flow": null,
            "grid_auto_rows": null,
            "grid_column": null,
            "grid_gap": null,
            "grid_row": null,
            "grid_template_areas": null,
            "grid_template_columns": null,
            "grid_template_rows": null,
            "height": null,
            "justify_content": null,
            "justify_items": null,
            "left": null,
            "margin": null,
            "max_height": null,
            "max_width": null,
            "min_height": null,
            "min_width": null,
            "object_fit": null,
            "object_position": null,
            "order": null,
            "overflow": null,
            "overflow_x": null,
            "overflow_y": null,
            "padding": null,
            "right": null,
            "top": null,
            "visibility": null,
            "width": null
          }
        },
        "f9f3148ca922497c856215e0a3369439": {
          "model_module": "@jupyter-widgets/base",
          "model_name": "LayoutModel",
          "model_module_version": "1.2.0",
          "state": {
            "_model_module": "@jupyter-widgets/base",
            "_model_module_version": "1.2.0",
            "_model_name": "LayoutModel",
            "_view_count": null,
            "_view_module": "@jupyter-widgets/base",
            "_view_module_version": "1.2.0",
            "_view_name": "LayoutView",
            "align_content": null,
            "align_items": null,
            "align_self": null,
            "border": null,
            "bottom": null,
            "display": null,
            "flex": null,
            "flex_flow": null,
            "grid_area": null,
            "grid_auto_columns": null,
            "grid_auto_flow": null,
            "grid_auto_rows": null,
            "grid_column": null,
            "grid_gap": null,
            "grid_row": null,
            "grid_template_areas": null,
            "grid_template_columns": null,
            "grid_template_rows": null,
            "height": null,
            "justify_content": null,
            "justify_items": null,
            "left": null,
            "margin": null,
            "max_height": null,
            "max_width": null,
            "min_height": null,
            "min_width": null,
            "object_fit": null,
            "object_position": null,
            "order": null,
            "overflow": null,
            "overflow_x": null,
            "overflow_y": null,
            "padding": null,
            "right": null,
            "top": null,
            "visibility": null,
            "width": null
          }
        },
        "1338b7e076404115a5b9f49cbd2a10ae": {
          "model_module": "@jupyter-widgets/controls",
          "model_name": "DescriptionStyleModel",
          "model_module_version": "1.5.0",
          "state": {
            "_model_module": "@jupyter-widgets/controls",
            "_model_module_version": "1.5.0",
            "_model_name": "DescriptionStyleModel",
            "_view_count": null,
            "_view_module": "@jupyter-widgets/base",
            "_view_module_version": "1.2.0",
            "_view_name": "StyleView",
            "description_width": ""
          }
        },
        "34677e891fea4eb98f67eaeb8ab24728": {
          "model_module": "@jupyter-widgets/base",
          "model_name": "LayoutModel",
          "model_module_version": "1.2.0",
          "state": {
            "_model_module": "@jupyter-widgets/base",
            "_model_module_version": "1.2.0",
            "_model_name": "LayoutModel",
            "_view_count": null,
            "_view_module": "@jupyter-widgets/base",
            "_view_module_version": "1.2.0",
            "_view_name": "LayoutView",
            "align_content": null,
            "align_items": null,
            "align_self": null,
            "border": null,
            "bottom": null,
            "display": null,
            "flex": null,
            "flex_flow": null,
            "grid_area": null,
            "grid_auto_columns": null,
            "grid_auto_flow": null,
            "grid_auto_rows": null,
            "grid_column": null,
            "grid_gap": null,
            "grid_row": null,
            "grid_template_areas": null,
            "grid_template_columns": null,
            "grid_template_rows": null,
            "height": null,
            "justify_content": null,
            "justify_items": null,
            "left": null,
            "margin": null,
            "max_height": null,
            "max_width": null,
            "min_height": null,
            "min_width": null,
            "object_fit": null,
            "object_position": null,
            "order": null,
            "overflow": null,
            "overflow_x": null,
            "overflow_y": null,
            "padding": null,
            "right": null,
            "top": null,
            "visibility": null,
            "width": null
          }
        },
        "57ad75bbd8264e9ea9383c3cf4443968": {
          "model_module": "@jupyter-widgets/controls",
          "model_name": "ProgressStyleModel",
          "model_module_version": "1.5.0",
          "state": {
            "_model_module": "@jupyter-widgets/controls",
            "_model_module_version": "1.5.0",
            "_model_name": "ProgressStyleModel",
            "_view_count": null,
            "_view_module": "@jupyter-widgets/base",
            "_view_module_version": "1.2.0",
            "_view_name": "StyleView",
            "bar_color": null,
            "description_width": ""
          }
        },
        "fe6ae7ea9f54421eb1c63eae1b6dbf5a": {
          "model_module": "@jupyter-widgets/base",
          "model_name": "LayoutModel",
          "model_module_version": "1.2.0",
          "state": {
            "_model_module": "@jupyter-widgets/base",
            "_model_module_version": "1.2.0",
            "_model_name": "LayoutModel",
            "_view_count": null,
            "_view_module": "@jupyter-widgets/base",
            "_view_module_version": "1.2.0",
            "_view_name": "LayoutView",
            "align_content": null,
            "align_items": null,
            "align_self": null,
            "border": null,
            "bottom": null,
            "display": null,
            "flex": null,
            "flex_flow": null,
            "grid_area": null,
            "grid_auto_columns": null,
            "grid_auto_flow": null,
            "grid_auto_rows": null,
            "grid_column": null,
            "grid_gap": null,
            "grid_row": null,
            "grid_template_areas": null,
            "grid_template_columns": null,
            "grid_template_rows": null,
            "height": null,
            "justify_content": null,
            "justify_items": null,
            "left": null,
            "margin": null,
            "max_height": null,
            "max_width": null,
            "min_height": null,
            "min_width": null,
            "object_fit": null,
            "object_position": null,
            "order": null,
            "overflow": null,
            "overflow_x": null,
            "overflow_y": null,
            "padding": null,
            "right": null,
            "top": null,
            "visibility": null,
            "width": null
          }
        },
        "fc68b6577c274c5d833fe3d86dd53167": {
          "model_module": "@jupyter-widgets/controls",
          "model_name": "DescriptionStyleModel",
          "model_module_version": "1.5.0",
          "state": {
            "_model_module": "@jupyter-widgets/controls",
            "_model_module_version": "1.5.0",
            "_model_name": "DescriptionStyleModel",
            "_view_count": null,
            "_view_module": "@jupyter-widgets/base",
            "_view_module_version": "1.2.0",
            "_view_name": "StyleView",
            "description_width": ""
          }
        },
        "6f83b7e21dc54698b31c4378ce6c7fb6": {
          "model_module": "@jupyter-widgets/controls",
          "model_name": "HBoxModel",
          "model_module_version": "1.5.0",
          "state": {
            "_dom_classes": [],
            "_model_module": "@jupyter-widgets/controls",
            "_model_module_version": "1.5.0",
            "_model_name": "HBoxModel",
            "_view_count": null,
            "_view_module": "@jupyter-widgets/controls",
            "_view_module_version": "1.5.0",
            "_view_name": "HBoxView",
            "box_style": "",
            "children": [
              "IPY_MODEL_936dda372bb34d39b1ac01abaf86366a",
              "IPY_MODEL_db2c86a6ad0a4bc190f96447bcf863e9",
              "IPY_MODEL_82c719318e1d445095ddc6066b36f9e0"
            ],
            "layout": "IPY_MODEL_46cee5e3886e4828b84cae864658a3c1"
          }
        },
        "936dda372bb34d39b1ac01abaf86366a": {
          "model_module": "@jupyter-widgets/controls",
          "model_name": "HTMLModel",
          "model_module_version": "1.5.0",
          "state": {
            "_dom_classes": [],
            "_model_module": "@jupyter-widgets/controls",
            "_model_module_version": "1.5.0",
            "_model_name": "HTMLModel",
            "_view_count": null,
            "_view_module": "@jupyter-widgets/controls",
            "_view_module_version": "1.5.0",
            "_view_name": "HTMLView",
            "description": "",
            "description_tooltip": null,
            "layout": "IPY_MODEL_ab22653d458b44ecac7c0e271ae27f10",
            "placeholder": "​",
            "style": "IPY_MODEL_cf82f8d77c184b04b6da45fa28b7e842",
            "value": "Making predictions: 100%"
          }
        },
        "db2c86a6ad0a4bc190f96447bcf863e9": {
          "model_module": "@jupyter-widgets/controls",
          "model_name": "FloatProgressModel",
          "model_module_version": "1.5.0",
          "state": {
            "_dom_classes": [],
            "_model_module": "@jupyter-widgets/controls",
            "_model_module_version": "1.5.0",
            "_model_name": "FloatProgressModel",
            "_view_count": null,
            "_view_module": "@jupyter-widgets/controls",
            "_view_module_version": "1.5.0",
            "_view_name": "ProgressView",
            "bar_style": "success",
            "description": "",
            "description_tooltip": null,
            "layout": "IPY_MODEL_ba5f650e5bbb4f56a305431dbdd060a3",
            "max": 313,
            "min": 0,
            "orientation": "horizontal",
            "style": "IPY_MODEL_cb13d759ebfe475b83018b50ed4c6c08",
            "value": 313
          }
        },
        "82c719318e1d445095ddc6066b36f9e0": {
          "model_module": "@jupyter-widgets/controls",
          "model_name": "HTMLModel",
          "model_module_version": "1.5.0",
          "state": {
            "_dom_classes": [],
            "_model_module": "@jupyter-widgets/controls",
            "_model_module_version": "1.5.0",
            "_model_name": "HTMLModel",
            "_view_count": null,
            "_view_module": "@jupyter-widgets/controls",
            "_view_module_version": "1.5.0",
            "_view_name": "HTMLView",
            "description": "",
            "description_tooltip": null,
            "layout": "IPY_MODEL_ded65d90680a4fb98dce197fd3f765a8",
            "placeholder": "​",
            "style": "IPY_MODEL_5080d0ece54844dd8aa7cd917d9eb480",
            "value": " 313/313 [00:03&lt;00:00, 109.15it/s]"
          }
        },
        "46cee5e3886e4828b84cae864658a3c1": {
          "model_module": "@jupyter-widgets/base",
          "model_name": "LayoutModel",
          "model_module_version": "1.2.0",
          "state": {
            "_model_module": "@jupyter-widgets/base",
            "_model_module_version": "1.2.0",
            "_model_name": "LayoutModel",
            "_view_count": null,
            "_view_module": "@jupyter-widgets/base",
            "_view_module_version": "1.2.0",
            "_view_name": "LayoutView",
            "align_content": null,
            "align_items": null,
            "align_self": null,
            "border": null,
            "bottom": null,
            "display": null,
            "flex": null,
            "flex_flow": null,
            "grid_area": null,
            "grid_auto_columns": null,
            "grid_auto_flow": null,
            "grid_auto_rows": null,
            "grid_column": null,
            "grid_gap": null,
            "grid_row": null,
            "grid_template_areas": null,
            "grid_template_columns": null,
            "grid_template_rows": null,
            "height": null,
            "justify_content": null,
            "justify_items": null,
            "left": null,
            "margin": null,
            "max_height": null,
            "max_width": null,
            "min_height": null,
            "min_width": null,
            "object_fit": null,
            "object_position": null,
            "order": null,
            "overflow": null,
            "overflow_x": null,
            "overflow_y": null,
            "padding": null,
            "right": null,
            "top": null,
            "visibility": null,
            "width": null
          }
        },
        "ab22653d458b44ecac7c0e271ae27f10": {
          "model_module": "@jupyter-widgets/base",
          "model_name": "LayoutModel",
          "model_module_version": "1.2.0",
          "state": {
            "_model_module": "@jupyter-widgets/base",
            "_model_module_version": "1.2.0",
            "_model_name": "LayoutModel",
            "_view_count": null,
            "_view_module": "@jupyter-widgets/base",
            "_view_module_version": "1.2.0",
            "_view_name": "LayoutView",
            "align_content": null,
            "align_items": null,
            "align_self": null,
            "border": null,
            "bottom": null,
            "display": null,
            "flex": null,
            "flex_flow": null,
            "grid_area": null,
            "grid_auto_columns": null,
            "grid_auto_flow": null,
            "grid_auto_rows": null,
            "grid_column": null,
            "grid_gap": null,
            "grid_row": null,
            "grid_template_areas": null,
            "grid_template_columns": null,
            "grid_template_rows": null,
            "height": null,
            "justify_content": null,
            "justify_items": null,
            "left": null,
            "margin": null,
            "max_height": null,
            "max_width": null,
            "min_height": null,
            "min_width": null,
            "object_fit": null,
            "object_position": null,
            "order": null,
            "overflow": null,
            "overflow_x": null,
            "overflow_y": null,
            "padding": null,
            "right": null,
            "top": null,
            "visibility": null,
            "width": null
          }
        },
        "cf82f8d77c184b04b6da45fa28b7e842": {
          "model_module": "@jupyter-widgets/controls",
          "model_name": "DescriptionStyleModel",
          "model_module_version": "1.5.0",
          "state": {
            "_model_module": "@jupyter-widgets/controls",
            "_model_module_version": "1.5.0",
            "_model_name": "DescriptionStyleModel",
            "_view_count": null,
            "_view_module": "@jupyter-widgets/base",
            "_view_module_version": "1.2.0",
            "_view_name": "StyleView",
            "description_width": ""
          }
        },
        "ba5f650e5bbb4f56a305431dbdd060a3": {
          "model_module": "@jupyter-widgets/base",
          "model_name": "LayoutModel",
          "model_module_version": "1.2.0",
          "state": {
            "_model_module": "@jupyter-widgets/base",
            "_model_module_version": "1.2.0",
            "_model_name": "LayoutModel",
            "_view_count": null,
            "_view_module": "@jupyter-widgets/base",
            "_view_module_version": "1.2.0",
            "_view_name": "LayoutView",
            "align_content": null,
            "align_items": null,
            "align_self": null,
            "border": null,
            "bottom": null,
            "display": null,
            "flex": null,
            "flex_flow": null,
            "grid_area": null,
            "grid_auto_columns": null,
            "grid_auto_flow": null,
            "grid_auto_rows": null,
            "grid_column": null,
            "grid_gap": null,
            "grid_row": null,
            "grid_template_areas": null,
            "grid_template_columns": null,
            "grid_template_rows": null,
            "height": null,
            "justify_content": null,
            "justify_items": null,
            "left": null,
            "margin": null,
            "max_height": null,
            "max_width": null,
            "min_height": null,
            "min_width": null,
            "object_fit": null,
            "object_position": null,
            "order": null,
            "overflow": null,
            "overflow_x": null,
            "overflow_y": null,
            "padding": null,
            "right": null,
            "top": null,
            "visibility": null,
            "width": null
          }
        },
        "cb13d759ebfe475b83018b50ed4c6c08": {
          "model_module": "@jupyter-widgets/controls",
          "model_name": "ProgressStyleModel",
          "model_module_version": "1.5.0",
          "state": {
            "_model_module": "@jupyter-widgets/controls",
            "_model_module_version": "1.5.0",
            "_model_name": "ProgressStyleModel",
            "_view_count": null,
            "_view_module": "@jupyter-widgets/base",
            "_view_module_version": "1.2.0",
            "_view_name": "StyleView",
            "bar_color": null,
            "description_width": ""
          }
        },
        "ded65d90680a4fb98dce197fd3f765a8": {
          "model_module": "@jupyter-widgets/base",
          "model_name": "LayoutModel",
          "model_module_version": "1.2.0",
          "state": {
            "_model_module": "@jupyter-widgets/base",
            "_model_module_version": "1.2.0",
            "_model_name": "LayoutModel",
            "_view_count": null,
            "_view_module": "@jupyter-widgets/base",
            "_view_module_version": "1.2.0",
            "_view_name": "LayoutView",
            "align_content": null,
            "align_items": null,
            "align_self": null,
            "border": null,
            "bottom": null,
            "display": null,
            "flex": null,
            "flex_flow": null,
            "grid_area": null,
            "grid_auto_columns": null,
            "grid_auto_flow": null,
            "grid_auto_rows": null,
            "grid_column": null,
            "grid_gap": null,
            "grid_row": null,
            "grid_template_areas": null,
            "grid_template_columns": null,
            "grid_template_rows": null,
            "height": null,
            "justify_content": null,
            "justify_items": null,
            "left": null,
            "margin": null,
            "max_height": null,
            "max_width": null,
            "min_height": null,
            "min_width": null,
            "object_fit": null,
            "object_position": null,
            "order": null,
            "overflow": null,
            "overflow_x": null,
            "overflow_y": null,
            "padding": null,
            "right": null,
            "top": null,
            "visibility": null,
            "width": null
          }
        },
        "5080d0ece54844dd8aa7cd917d9eb480": {
          "model_module": "@jupyter-widgets/controls",
          "model_name": "DescriptionStyleModel",
          "model_module_version": "1.5.0",
          "state": {
            "_model_module": "@jupyter-widgets/controls",
            "_model_module_version": "1.5.0",
            "_model_name": "DescriptionStyleModel",
            "_view_count": null,
            "_view_module": "@jupyter-widgets/base",
            "_view_module_version": "1.2.0",
            "_view_name": "StyleView",
            "description_width": ""
          }
        }
      }
    }
  },
  "cells": [
    {
      "cell_type": "code",
      "execution_count": 3,
      "metadata": {
        "id": "CIssIEx9mRYJ"
      },
      "outputs": [],
      "source": [
        "## Import libraries\n",
        "# Import PyTorch\n",
        "import torch\n",
        "from torch import nn\n",
        "\n",
        "# Import torchvision \n",
        "import torchvision\n",
        "from torchvision import datasets\n",
        "from torchvision.transforms import ToTensor\n",
        "\n",
        "# Import matplotlib for visualization\n",
        "import matplotlib.pyplot as plt"
      ]
    },
    {
      "cell_type": "code",
      "source": [
        "## Getting a dataset\n",
        "# Setup training data\n",
        "train_data = datasets.FashionMNIST(\n",
        "    root=\"data\", # where to download data to?\n",
        "    train=True, # get training data\n",
        "    download=True, # download data if it doesn't exist on disk\n",
        "    transform=ToTensor(), # images come as PIL format, we want to turn into Torch tensors\n",
        "    target_transform=None # you can transform labels as well\n",
        ")\n",
        "\n",
        "# Setup testing data\n",
        "test_data = datasets.FashionMNIST(\n",
        "    root=\"data\",\n",
        "    train=False, # get test data\n",
        "    download=True,\n",
        "    transform=ToTensor()\n",
        ")"
      ],
      "metadata": {
        "colab": {
          "base_uri": "https://localhost:8080/",
          "height": 423,
          "referenced_widgets": [
            "322f91e42651441f8f4d096f28cc2544",
            "dc38aac13e0a478780341d2fd33c7c58",
            "8e0994959dea4c4ba687d7f6c651e390",
            "a501c7b4bdb6450eb4fc55db39c2529a",
            "ab75bba9baa44741998a971fee93ec72",
            "69f444258af94d68b6974199d9f2c1d6",
            "46140cc5f02e4be6bcb66b33772cefdd",
            "f757c9c78d20415ea289487a15e2a12b",
            "8b0657b4ce47421e96c0276d6f0358f6",
            "00337ff784a14f66a50ac38e30c3cd66",
            "3bc60aaced494958925b0661b5c7323f",
            "772d8eeff82640d69185e90f4e9570d1",
            "2b6f388b58884c8786745fa641fae671",
            "ca58f176d209479fba0230e533035f22",
            "774a9e20ae1941299c0bc1386e9503ff",
            "8dc596b8f80c420c875f922e44b62bac",
            "f18d509b48d049478055f33052aa59d9",
            "b3267d99eeec47a9be23924b575fd980",
            "8964cf7488d14f739a8ef2c5bccd2290",
            "27e5f7aad8254518bb128b2afdf080b6",
            "93a826035dbb44d9b42b01ec7cc1d6b9",
            "4cd98f1327594eedb1a21b344efebb7a",
            "3653da675a794d80892f97c678669a5e",
            "da8e62f683fb4d0d8a99c7d4ef9a44ae",
            "cbc3112f900d47c393e81a2de6ff7360",
            "e5014ba472d943e084054db926760fd6",
            "8a0b2ca4d5ad43cf9dc794d87cb3577b",
            "32393305b3784dfc839a514b22e65187",
            "964a3a59d83a4aa5aa32d2560d8b4a0f",
            "2652a6c5245149c29701432ef938ec69",
            "da41ac73691649b386797965b1948166",
            "21cd6d120db94db5a0884001f0d60471",
            "7aa3c3984e294c8f82526676afcaf503",
            "cf49778eea184c28823e367d48aa5187",
            "91399a00f3cf4cedabc77b968971d20e",
            "c28a211958a04235a79b5f4e676df43d",
            "27c6628a7b0a4a3c82e50fe0e70d1ae0",
            "183fe8a5d8e645189308e4a2e9fd17f9",
            "ea601ecaa7174b939bd79c0d74c386d1",
            "43268c71a5b84f19a3566284735697e9",
            "57117b8c028e47aca40884412de758fd",
            "b5f1a3f7ceac466b8ac781ee6493d6cd",
            "d622dcb4b3d04e01abd3e6bbbca33119",
            "76c25f9afdd54316ac5333d986986e2d"
          ]
        },
        "id": "6fTAxe-gmXD5",
        "outputId": "267c1f20-3a22-4d90-e56a-93deb9260bb5"
      },
      "execution_count": 68,
      "outputs": [
        {
          "output_type": "stream",
          "name": "stdout",
          "text": [
            "Downloading http://fashion-mnist.s3-website.eu-central-1.amazonaws.com/train-images-idx3-ubyte.gz\n",
            "Downloading http://fashion-mnist.s3-website.eu-central-1.amazonaws.com/train-images-idx3-ubyte.gz to data/FashionMNIST/raw/train-images-idx3-ubyte.gz\n"
          ]
        },
        {
          "output_type": "display_data",
          "data": {
            "text/plain": [
              "  0%|          | 0/26421880 [00:00<?, ?it/s]"
            ],
            "application/vnd.jupyter.widget-view+json": {
              "version_major": 2,
              "version_minor": 0,
              "model_id": "322f91e42651441f8f4d096f28cc2544"
            }
          },
          "metadata": {}
        },
        {
          "output_type": "stream",
          "name": "stdout",
          "text": [
            "Extracting data/FashionMNIST/raw/train-images-idx3-ubyte.gz to data/FashionMNIST/raw\n",
            "\n",
            "Downloading http://fashion-mnist.s3-website.eu-central-1.amazonaws.com/train-labels-idx1-ubyte.gz\n",
            "Downloading http://fashion-mnist.s3-website.eu-central-1.amazonaws.com/train-labels-idx1-ubyte.gz to data/FashionMNIST/raw/train-labels-idx1-ubyte.gz\n"
          ]
        },
        {
          "output_type": "display_data",
          "data": {
            "text/plain": [
              "  0%|          | 0/29515 [00:00<?, ?it/s]"
            ],
            "application/vnd.jupyter.widget-view+json": {
              "version_major": 2,
              "version_minor": 0,
              "model_id": "772d8eeff82640d69185e90f4e9570d1"
            }
          },
          "metadata": {}
        },
        {
          "output_type": "stream",
          "name": "stdout",
          "text": [
            "Extracting data/FashionMNIST/raw/train-labels-idx1-ubyte.gz to data/FashionMNIST/raw\n",
            "\n",
            "Downloading http://fashion-mnist.s3-website.eu-central-1.amazonaws.com/t10k-images-idx3-ubyte.gz\n",
            "Downloading http://fashion-mnist.s3-website.eu-central-1.amazonaws.com/t10k-images-idx3-ubyte.gz to data/FashionMNIST/raw/t10k-images-idx3-ubyte.gz\n"
          ]
        },
        {
          "output_type": "display_data",
          "data": {
            "text/plain": [
              "  0%|          | 0/4422102 [00:00<?, ?it/s]"
            ],
            "application/vnd.jupyter.widget-view+json": {
              "version_major": 2,
              "version_minor": 0,
              "model_id": "3653da675a794d80892f97c678669a5e"
            }
          },
          "metadata": {}
        },
        {
          "output_type": "stream",
          "name": "stdout",
          "text": [
            "Extracting data/FashionMNIST/raw/t10k-images-idx3-ubyte.gz to data/FashionMNIST/raw\n",
            "\n",
            "Downloading http://fashion-mnist.s3-website.eu-central-1.amazonaws.com/t10k-labels-idx1-ubyte.gz\n",
            "Downloading http://fashion-mnist.s3-website.eu-central-1.amazonaws.com/t10k-labels-idx1-ubyte.gz to data/FashionMNIST/raw/t10k-labels-idx1-ubyte.gz\n"
          ]
        },
        {
          "output_type": "display_data",
          "data": {
            "text/plain": [
              "  0%|          | 0/5148 [00:00<?, ?it/s]"
            ],
            "application/vnd.jupyter.widget-view+json": {
              "version_major": 2,
              "version_minor": 0,
              "model_id": "cf49778eea184c28823e367d48aa5187"
            }
          },
          "metadata": {}
        },
        {
          "output_type": "stream",
          "name": "stdout",
          "text": [
            "Extracting data/FashionMNIST/raw/t10k-labels-idx1-ubyte.gz to data/FashionMNIST/raw\n",
            "\n"
          ]
        }
      ]
    },
    {
      "cell_type": "code",
      "source": [
        "# Check out the first sample of the training data\n",
        "image, label = train_data[0]\n",
        "image, label"
      ],
      "metadata": {
        "colab": {
          "base_uri": "https://localhost:8080/"
        },
        "id": "imuYMIWNmXGC",
        "outputId": "30de5dd8-f7f8-4ac0-c1ea-32d11921b6e1"
      },
      "execution_count": 69,
      "outputs": [
        {
          "output_type": "execute_result",
          "data": {
            "text/plain": [
              "(tensor([[[0.0000, 0.0000, 0.0000, 0.0000, 0.0000, 0.0000, 0.0000, 0.0000,\n",
              "           0.0000, 0.0000, 0.0000, 0.0000, 0.0000, 0.0000, 0.0000, 0.0000,\n",
              "           0.0000, 0.0000, 0.0000, 0.0000, 0.0000, 0.0000, 0.0000, 0.0000,\n",
              "           0.0000, 0.0000, 0.0000, 0.0000],\n",
              "          [0.0000, 0.0000, 0.0000, 0.0000, 0.0000, 0.0000, 0.0000, 0.0000,\n",
              "           0.0000, 0.0000, 0.0000, 0.0000, 0.0000, 0.0000, 0.0000, 0.0000,\n",
              "           0.0000, 0.0000, 0.0000, 0.0000, 0.0000, 0.0000, 0.0000, 0.0000,\n",
              "           0.0000, 0.0000, 0.0000, 0.0000],\n",
              "          [0.0000, 0.0000, 0.0000, 0.0000, 0.0000, 0.0000, 0.0000, 0.0000,\n",
              "           0.0000, 0.0000, 0.0000, 0.0000, 0.0000, 0.0000, 0.0000, 0.0000,\n",
              "           0.0000, 0.0000, 0.0000, 0.0000, 0.0000, 0.0000, 0.0000, 0.0000,\n",
              "           0.0000, 0.0000, 0.0000, 0.0000],\n",
              "          [0.0000, 0.0000, 0.0000, 0.0000, 0.0000, 0.0000, 0.0000, 0.0000,\n",
              "           0.0000, 0.0000, 0.0000, 0.0000, 0.0039, 0.0000, 0.0000, 0.0510,\n",
              "           0.2863, 0.0000, 0.0000, 0.0039, 0.0157, 0.0000, 0.0000, 0.0000,\n",
              "           0.0000, 0.0039, 0.0039, 0.0000],\n",
              "          [0.0000, 0.0000, 0.0000, 0.0000, 0.0000, 0.0000, 0.0000, 0.0000,\n",
              "           0.0000, 0.0000, 0.0000, 0.0000, 0.0118, 0.0000, 0.1412, 0.5333,\n",
              "           0.4980, 0.2431, 0.2118, 0.0000, 0.0000, 0.0000, 0.0039, 0.0118,\n",
              "           0.0157, 0.0000, 0.0000, 0.0118],\n",
              "          [0.0000, 0.0000, 0.0000, 0.0000, 0.0000, 0.0000, 0.0000, 0.0000,\n",
              "           0.0000, 0.0000, 0.0000, 0.0000, 0.0235, 0.0000, 0.4000, 0.8000,\n",
              "           0.6902, 0.5255, 0.5647, 0.4824, 0.0902, 0.0000, 0.0000, 0.0000,\n",
              "           0.0000, 0.0471, 0.0392, 0.0000],\n",
              "          [0.0000, 0.0000, 0.0000, 0.0000, 0.0000, 0.0000, 0.0000, 0.0000,\n",
              "           0.0000, 0.0000, 0.0000, 0.0000, 0.0000, 0.0000, 0.6078, 0.9255,\n",
              "           0.8118, 0.6980, 0.4196, 0.6118, 0.6314, 0.4275, 0.2510, 0.0902,\n",
              "           0.3020, 0.5098, 0.2824, 0.0588],\n",
              "          [0.0000, 0.0000, 0.0000, 0.0000, 0.0000, 0.0000, 0.0000, 0.0000,\n",
              "           0.0000, 0.0000, 0.0000, 0.0039, 0.0000, 0.2706, 0.8118, 0.8745,\n",
              "           0.8549, 0.8471, 0.8471, 0.6392, 0.4980, 0.4745, 0.4784, 0.5725,\n",
              "           0.5529, 0.3451, 0.6745, 0.2588],\n",
              "          [0.0000, 0.0000, 0.0000, 0.0000, 0.0000, 0.0000, 0.0000, 0.0000,\n",
              "           0.0000, 0.0039, 0.0039, 0.0039, 0.0000, 0.7843, 0.9098, 0.9098,\n",
              "           0.9137, 0.8980, 0.8745, 0.8745, 0.8431, 0.8353, 0.6431, 0.4980,\n",
              "           0.4824, 0.7686, 0.8980, 0.0000],\n",
              "          [0.0000, 0.0000, 0.0000, 0.0000, 0.0000, 0.0000, 0.0000, 0.0000,\n",
              "           0.0000, 0.0000, 0.0000, 0.0000, 0.0000, 0.7176, 0.8824, 0.8471,\n",
              "           0.8745, 0.8941, 0.9216, 0.8902, 0.8784, 0.8706, 0.8784, 0.8667,\n",
              "           0.8745, 0.9608, 0.6784, 0.0000],\n",
              "          [0.0000, 0.0000, 0.0000, 0.0000, 0.0000, 0.0000, 0.0000, 0.0000,\n",
              "           0.0000, 0.0000, 0.0000, 0.0000, 0.0000, 0.7569, 0.8941, 0.8549,\n",
              "           0.8353, 0.7765, 0.7059, 0.8314, 0.8235, 0.8275, 0.8353, 0.8745,\n",
              "           0.8627, 0.9529, 0.7922, 0.0000],\n",
              "          [0.0000, 0.0000, 0.0000, 0.0000, 0.0000, 0.0000, 0.0000, 0.0000,\n",
              "           0.0000, 0.0039, 0.0118, 0.0000, 0.0471, 0.8588, 0.8627, 0.8314,\n",
              "           0.8549, 0.7529, 0.6627, 0.8902, 0.8157, 0.8549, 0.8784, 0.8314,\n",
              "           0.8863, 0.7725, 0.8196, 0.2039],\n",
              "          [0.0000, 0.0000, 0.0000, 0.0000, 0.0000, 0.0000, 0.0000, 0.0000,\n",
              "           0.0000, 0.0000, 0.0235, 0.0000, 0.3882, 0.9569, 0.8706, 0.8627,\n",
              "           0.8549, 0.7961, 0.7765, 0.8667, 0.8431, 0.8353, 0.8706, 0.8627,\n",
              "           0.9608, 0.4667, 0.6549, 0.2196],\n",
              "          [0.0000, 0.0000, 0.0000, 0.0000, 0.0000, 0.0000, 0.0000, 0.0000,\n",
              "           0.0000, 0.0157, 0.0000, 0.0000, 0.2157, 0.9255, 0.8941, 0.9020,\n",
              "           0.8941, 0.9412, 0.9098, 0.8353, 0.8549, 0.8745, 0.9176, 0.8510,\n",
              "           0.8510, 0.8196, 0.3608, 0.0000],\n",
              "          [0.0000, 0.0000, 0.0039, 0.0157, 0.0235, 0.0275, 0.0078, 0.0000,\n",
              "           0.0000, 0.0000, 0.0000, 0.0000, 0.9294, 0.8863, 0.8510, 0.8745,\n",
              "           0.8706, 0.8588, 0.8706, 0.8667, 0.8471, 0.8745, 0.8980, 0.8431,\n",
              "           0.8549, 1.0000, 0.3020, 0.0000],\n",
              "          [0.0000, 0.0118, 0.0000, 0.0000, 0.0000, 0.0000, 0.0000, 0.0000,\n",
              "           0.0000, 0.2431, 0.5686, 0.8000, 0.8941, 0.8118, 0.8353, 0.8667,\n",
              "           0.8549, 0.8157, 0.8275, 0.8549, 0.8784, 0.8745, 0.8588, 0.8431,\n",
              "           0.8784, 0.9569, 0.6235, 0.0000],\n",
              "          [0.0000, 0.0000, 0.0000, 0.0000, 0.0706, 0.1725, 0.3216, 0.4196,\n",
              "           0.7412, 0.8941, 0.8627, 0.8706, 0.8510, 0.8863, 0.7843, 0.8039,\n",
              "           0.8275, 0.9020, 0.8784, 0.9176, 0.6902, 0.7373, 0.9804, 0.9725,\n",
              "           0.9137, 0.9333, 0.8431, 0.0000],\n",
              "          [0.0000, 0.2235, 0.7333, 0.8157, 0.8784, 0.8667, 0.8784, 0.8157,\n",
              "           0.8000, 0.8392, 0.8157, 0.8196, 0.7843, 0.6235, 0.9608, 0.7569,\n",
              "           0.8078, 0.8745, 1.0000, 1.0000, 0.8667, 0.9176, 0.8667, 0.8275,\n",
              "           0.8627, 0.9098, 0.9647, 0.0000],\n",
              "          [0.0118, 0.7922, 0.8941, 0.8784, 0.8667, 0.8275, 0.8275, 0.8392,\n",
              "           0.8039, 0.8039, 0.8039, 0.8627, 0.9412, 0.3137, 0.5882, 1.0000,\n",
              "           0.8980, 0.8667, 0.7373, 0.6039, 0.7490, 0.8235, 0.8000, 0.8196,\n",
              "           0.8706, 0.8941, 0.8824, 0.0000],\n",
              "          [0.3843, 0.9137, 0.7765, 0.8235, 0.8706, 0.8980, 0.8980, 0.9176,\n",
              "           0.9765, 0.8627, 0.7608, 0.8431, 0.8510, 0.9451, 0.2549, 0.2863,\n",
              "           0.4157, 0.4588, 0.6588, 0.8588, 0.8667, 0.8431, 0.8510, 0.8745,\n",
              "           0.8745, 0.8784, 0.8980, 0.1137],\n",
              "          [0.2941, 0.8000, 0.8314, 0.8000, 0.7569, 0.8039, 0.8275, 0.8824,\n",
              "           0.8471, 0.7255, 0.7725, 0.8078, 0.7765, 0.8353, 0.9412, 0.7647,\n",
              "           0.8902, 0.9608, 0.9373, 0.8745, 0.8549, 0.8314, 0.8196, 0.8706,\n",
              "           0.8627, 0.8667, 0.9020, 0.2627],\n",
              "          [0.1882, 0.7961, 0.7176, 0.7608, 0.8353, 0.7725, 0.7255, 0.7451,\n",
              "           0.7608, 0.7529, 0.7922, 0.8392, 0.8588, 0.8667, 0.8627, 0.9255,\n",
              "           0.8824, 0.8471, 0.7804, 0.8078, 0.7294, 0.7098, 0.6941, 0.6745,\n",
              "           0.7098, 0.8039, 0.8078, 0.4510],\n",
              "          [0.0000, 0.4784, 0.8588, 0.7569, 0.7020, 0.6706, 0.7176, 0.7686,\n",
              "           0.8000, 0.8235, 0.8353, 0.8118, 0.8275, 0.8235, 0.7843, 0.7686,\n",
              "           0.7608, 0.7490, 0.7647, 0.7490, 0.7765, 0.7529, 0.6902, 0.6118,\n",
              "           0.6549, 0.6941, 0.8235, 0.3608],\n",
              "          [0.0000, 0.0000, 0.2902, 0.7412, 0.8314, 0.7490, 0.6863, 0.6745,\n",
              "           0.6863, 0.7098, 0.7255, 0.7373, 0.7412, 0.7373, 0.7569, 0.7765,\n",
              "           0.8000, 0.8196, 0.8235, 0.8235, 0.8275, 0.7373, 0.7373, 0.7608,\n",
              "           0.7529, 0.8471, 0.6667, 0.0000],\n",
              "          [0.0078, 0.0000, 0.0000, 0.0000, 0.2588, 0.7843, 0.8706, 0.9294,\n",
              "           0.9373, 0.9490, 0.9647, 0.9529, 0.9569, 0.8667, 0.8627, 0.7569,\n",
              "           0.7490, 0.7020, 0.7137, 0.7137, 0.7098, 0.6902, 0.6510, 0.6588,\n",
              "           0.3882, 0.2275, 0.0000, 0.0000],\n",
              "          [0.0000, 0.0000, 0.0000, 0.0000, 0.0000, 0.0000, 0.0000, 0.1569,\n",
              "           0.2392, 0.1725, 0.2824, 0.1608, 0.1373, 0.0000, 0.0000, 0.0000,\n",
              "           0.0000, 0.0000, 0.0000, 0.0000, 0.0000, 0.0000, 0.0000, 0.0000,\n",
              "           0.0000, 0.0000, 0.0000, 0.0000],\n",
              "          [0.0000, 0.0000, 0.0000, 0.0000, 0.0000, 0.0000, 0.0000, 0.0000,\n",
              "           0.0000, 0.0000, 0.0000, 0.0000, 0.0000, 0.0000, 0.0000, 0.0000,\n",
              "           0.0000, 0.0000, 0.0000, 0.0000, 0.0000, 0.0000, 0.0000, 0.0000,\n",
              "           0.0000, 0.0000, 0.0000, 0.0000],\n",
              "          [0.0000, 0.0000, 0.0000, 0.0000, 0.0000, 0.0000, 0.0000, 0.0000,\n",
              "           0.0000, 0.0000, 0.0000, 0.0000, 0.0000, 0.0000, 0.0000, 0.0000,\n",
              "           0.0000, 0.0000, 0.0000, 0.0000, 0.0000, 0.0000, 0.0000, 0.0000,\n",
              "           0.0000, 0.0000, 0.0000, 0.0000]]]), 9)"
            ]
          },
          "metadata": {},
          "execution_count": 69
        }
      ]
    },
    {
      "cell_type": "code",
      "source": [
        "# See classes\n",
        "class_names = train_data.classes \n",
        "class_names"
      ],
      "metadata": {
        "colab": {
          "base_uri": "https://localhost:8080/"
        },
        "id": "A-2ymPjxt84Q",
        "outputId": "8b8ac72b-7f64-4d42-da19-2f233be78c9a"
      },
      "execution_count": 70,
      "outputs": [
        {
          "output_type": "execute_result",
          "data": {
            "text/plain": [
              "['T-shirt/top',\n",
              " 'Trouser',\n",
              " 'Pullover',\n",
              " 'Dress',\n",
              " 'Coat',\n",
              " 'Sandal',\n",
              " 'Shirt',\n",
              " 'Sneaker',\n",
              " 'Bag',\n",
              " 'Ankle boot']"
            ]
          },
          "metadata": {},
          "execution_count": 70
        }
      ]
    },
    {
      "cell_type": "code",
      "source": [
        "# What's the shape of the image?\n",
        "image.shape    # [color_channels, height, width] "
      ],
      "metadata": {
        "colab": {
          "base_uri": "https://localhost:8080/"
        },
        "id": "2XRKijACmXIT",
        "outputId": "7204dbdb-1432-46f2-bf18-5add3e651a82"
      },
      "execution_count": 71,
      "outputs": [
        {
          "output_type": "execute_result",
          "data": {
            "text/plain": [
              "torch.Size([1, 28, 28])"
            ]
          },
          "metadata": {},
          "execution_count": 71
        }
      ]
    },
    {
      "cell_type": "code",
      "source": [
        "# How many samples are there? \n",
        "len(train_data), len(test_data)"
      ],
      "metadata": {
        "colab": {
          "base_uri": "https://localhost:8080/"
        },
        "id": "HEMTYcRWmXKg",
        "outputId": "1034a8c0-1c71-408f-ed0f-04c9de394ed5"
      },
      "execution_count": 72,
      "outputs": [
        {
          "output_type": "execute_result",
          "data": {
            "text/plain": [
              "(60000, 10000)"
            ]
          },
          "metadata": {},
          "execution_count": 72
        }
      ]
    },
    {
      "cell_type": "code",
      "source": [
        "## Visualizing the data\n",
        "image, label = train_data[0]\n",
        "print(f\"Image shape: {image.shape}\")\n",
        "plt.imshow(image.squeeze())\n",
        "plt.title(label);\n"
      ],
      "metadata": {
        "colab": {
          "base_uri": "https://localhost:8080/",
          "height": 298
        },
        "id": "POoi6LSxmXMl",
        "outputId": "ced6b2af-86d4-4dec-adad-78dc114f8466"
      },
      "execution_count": 74,
      "outputs": [
        {
          "output_type": "stream",
          "name": "stdout",
          "text": [
            "Image shape: torch.Size([1, 28, 28])\n"
          ]
        },
        {
          "output_type": "display_data",
          "data": {
            "text/plain": [
              "<Figure size 432x288 with 1 Axes>"
            ],
            "image/png": "[encoded data removed]"
          },
          "metadata": {
            "needs_background": "light"
          }
        }
      ]
    },
    {
      "cell_type": "code",
      "source": [
        "# Turn the image into grayscale\n",
        "plt.imshow(image.squeeze(), cmap=\"gray\")\n",
        "plt.title(class_names[label]);"
      ],
      "metadata": {
        "colab": {
          "base_uri": "https://localhost:8080/",
          "height": 281
        },
        "id": "Tva3TwDVmXPL",
        "outputId": "b05f6165-0fde-471d-e091-2b2447b3e325"
      },
      "execution_count": 75,
      "outputs": [
        {
          "output_type": "display_data",
          "data": {
            "text/plain": [
              "<Figure size 432x288 with 1 Axes>"
            ],
            "image/png": "[encoded data removed]"
          },
          "metadata": {
            "needs_background": "light"
          }
        }
      ]
    },
    {
      "cell_type": "code",
      "source": [
        "# Plot more images\n",
        "torch.manual_seed(41)\n",
        "fig = plt.figure(figsize=(9, 9))\n",
        "rows, cols = 4, 4\n",
        "for i in range(1, rows * cols + 1):\n",
        "    random_idx = torch.randint(0, len(train_data), size=[1]).item()\n",
        "    img, label = train_data[random_idx]\n",
        "    fig.add_subplot(rows, cols, i)\n",
        "    plt.imshow(img.squeeze(), cmap=\"gray\")\n",
        "    plt.axis(False);"
      ],
      "metadata": {
        "colab": {
          "base_uri": "https://localhost:8080/",
          "height": 520
        },
        "id": "ea6Hw7_emXQ1",
        "outputId": "361fd6d1-3abf-4bab-816b-acb07cb4079e"
      },
      "execution_count": 76,
      "outputs": [
        {
          "output_type": "display_data",
          "data": {
            "text/plain": [
              "<Figure size 648x648 with 16 Axes>"
            ],
            "image/png": "[encoded data removed]"
          },
          "metadata": {
            "needs_background": "light"
          }
        }
      ]
    },
    {
      "cell_type": "code",
      "source": [
        "## Prepare DataLoader\n",
        "from torch.utils.data import DataLoader\n",
        "\n",
        "# Setup the batch size hyperparameter\n",
        "BATCH_SIZE = 32 \n",
        "\n",
        "# Turn datasets into iterables (batches)\n",
        "train_dataloader = DataLoader(train_data, # dataset to turn into iterable \n",
        "    batch_size=BATCH_SIZE, # how many samples per batch? \n",
        "    shuffle=True # shuffle data every epoch?\n",
        ")\n",
        "\n",
        "test_dataloader = DataLoader(test_data,   \n",
        "    batch_size=BATCH_SIZE,\n",
        "    shuffle=False # don't necessarily have to shuffle the testing data\n",
        ")\n",
        "\n",
        "# Let's check out what we've created\n",
        "print(f\"Dataloaders: {train_dataloader, test_dataloader}\") \n",
        "print(f\"Length of train dataloader: {len(train_dataloader)} batches of {BATCH_SIZE}\")\n",
        "print(f\"Length of test dataloader: {len(test_dataloader)} batches of {BATCH_SIZE}\")"
      ],
      "metadata": {
        "colab": {
          "base_uri": "https://localhost:8080/"
        },
        "id": "v6UgNm0QukTV",
        "outputId": "80f9d2ce-b3ca-4d20-9527-8d51cb910ec1"
      },
      "execution_count": 77,
      "outputs": [
        {
          "output_type": "stream",
          "name": "stdout",
          "text": [
            "Dataloaders: (<torch.utils.data.dataloader.DataLoader object at 0x7f9dee558d90>, <torch.utils.data.dataloader.DataLoader object at 0x7f9dee631050>)\n",
            "Length of train dataloader: 1875 batches of 32\n",
            "Length of test dataloader: 313 batches of 32\n"
          ]
        }
      ]
    },
    {
      "cell_type": "code",
      "source": [
        "# Check out what's inside the training dataloader\n",
        "train_features_batch, train_labels_batch = next(iter(train_dataloader))\n",
        "train_features_batch.shape, train_labels_batch.shape"
      ],
      "metadata": {
        "colab": {
          "base_uri": "https://localhost:8080/"
        },
        "id": "b0PB55lcuvTn",
        "outputId": "cfc1dab6-2f3a-4929-8295-d1a1119b1dca"
      },
      "execution_count": 78,
      "outputs": [
        {
          "output_type": "execute_result",
          "data": {
            "text/plain": [
              "(torch.Size([32, 1, 28, 28]), torch.Size([32]))"
            ]
          },
          "metadata": {},
          "execution_count": 78
        }
      ]
    },
    {
      "cell_type": "code",
      "source": [
        "# Show a sample to prove no change in data\n",
        "torch.manual_seed(41)\n",
        "random_idx = torch.randint(0, len(train_features_batch), size=[1]).item()\n",
        "img, label = train_features_batch[random_idx], train_labels_batch[random_idx]\n",
        "plt.imshow(img.squeeze(), cmap=\"gray\")\n",
        "plt.axis(\"Off\");\n",
        "print(f\"Image size: {img.shape}\")\n",
        "print(f\"Label: {label}, label size: {label.shape}\")"
      ],
      "metadata": {
        "colab": {
          "base_uri": "https://localhost:8080/",
          "height": 283
        },
        "id": "xKVpK3_LuvWD",
        "outputId": "fa13f826-00ef-4613-9cf5-03dcfa8da22c"
      },
      "execution_count": 79,
      "outputs": [
        {
          "output_type": "stream",
          "name": "stdout",
          "text": [
            "Image size: torch.Size([1, 28, 28])\n",
            "Label: 1, label size: torch.Size([])\n"
          ]
        },
        {
          "output_type": "display_data",
          "data": {
            "text/plain": [
              "<Figure size 432x288 with 1 Axes>"
            ],
            "image/png": "[encoded data removed]"
          },
          "metadata": {
            "needs_background": "light"
          }
        }
      ]
    },
    {
      "cell_type": "code",
      "source": [
        "## Model 0: Build a baseline model\n",
        "# Create a flatten layer (compresses the dimensions of a tensor into a single vector)\n",
        "flatten_model = nn.Flatten() # all nn modules function as a model (can do a forward pass) \n",
        "\n",
        "# Get a single sample\n",
        "x = train_features_batch[0]\n",
        "\n",
        "# Flatten the sample\n",
        "output = flatten_model(x) # perform forward pass\n",
        "\n",
        "# Print out what happened\n",
        "print(f\"Shape before flattening: {x.shape} -> [color_channels, height, width]\")\n",
        "print(f\"Shape after flattening: {output.shape} -> [color_channels, height*width]\")\n",
        "\n",
        "#  See what happens\n",
        "print(x)\n",
        "print(output) # turned  pixel data from height and width dimensions into one long feature vector"
      ],
      "metadata": {
        "colab": {
          "base_uri": "https://localhost:8080/"
        },
        "id": "lNs5EcWZuvYO",
        "outputId": "ece08edd-d510-421c-c1d7-60c8ba2a669b"
      },
      "execution_count": 80,
      "outputs": [
        {
          "output_type": "stream",
          "name": "stdout",
          "text": [
            "Shape before flattening: torch.Size([1, 28, 28]) -> [color_channels, height, width]\n",
            "Shape after flattening: torch.Size([1, 784]) -> [color_channels, height*width]\n",
            "tensor([[[0.0000, 0.0000, 0.0000, 0.0000, 0.0000, 0.0000, 0.0000, 0.0000,\n",
            "          0.1020, 0.3255, 0.6549, 0.7882, 0.6510, 0.5059, 0.4588, 0.6863,\n",
            "          0.9255, 0.5686, 0.2588, 0.0588, 0.0000, 0.0000, 0.0000, 0.0000,\n",
            "          0.0000, 0.0000, 0.0000, 0.0000],\n",
            "         [0.0000, 0.0000, 0.0000, 0.0078, 0.0000, 0.0000, 0.2824, 0.7843,\n",
            "          0.9373, 0.9216, 0.8039, 0.9490, 1.0000, 0.9333, 0.9569, 1.0000,\n",
            "          0.8549, 0.7922, 0.9373, 0.9137, 0.7529, 0.4353, 0.0157, 0.0000,\n",
            "          0.0078, 0.0000, 0.0000, 0.0000],\n",
            "         [0.0000, 0.0000, 0.0000, 0.0000, 0.0000, 0.7725, 0.8588, 0.8275,\n",
            "          0.7882, 0.7882, 0.7843, 0.7294, 0.7333, 0.7882, 0.7922, 0.7176,\n",
            "          0.7216, 0.7647, 0.7451, 0.7725, 0.8000, 0.8353, 0.8314, 0.0000,\n",
            "          0.0000, 0.0078, 0.0000, 0.0000],\n",
            "         [0.0000, 0.0000, 0.0039, 0.0000, 0.4784, 0.9294, 0.7804, 0.7961,\n",
            "          0.8118, 0.8078, 0.8235, 0.8275, 0.8078, 0.7804, 0.7882, 0.8039,\n",
            "          0.7686, 0.7686, 0.7765, 0.7765, 0.7725, 0.7529, 0.8078, 0.3804,\n",
            "          0.0000, 0.0000, 0.0000, 0.0000],\n",
            "         [0.0000, 0.0000, 0.0000, 0.0000, 0.7373, 0.9137, 0.8275, 0.7725,\n",
            "          0.8157, 0.8039, 0.8039, 0.7961, 0.7961, 0.8078, 0.7922, 0.7647,\n",
            "          0.8000, 0.8157, 0.7882, 0.8000, 0.8000, 0.7882, 0.8314, 0.7333,\n",
            "          0.0000, 0.0000, 0.0000, 0.0000],\n",
            "         [0.0000, 0.0000, 0.0000, 0.0000, 0.8510, 0.8902, 0.8980, 0.8000,\n",
            "          0.8118, 0.8078, 0.8000, 0.7961, 0.7961, 0.7922, 0.7961, 0.8196,\n",
            "          0.7333, 0.6431, 0.7216, 0.7529, 0.8157, 0.7922, 0.8510, 0.8235,\n",
            "          0.0000, 0.0000, 0.0000, 0.0000],\n",
            "         [0.0000, 0.0000, 0.0000, 0.1922, 0.9137, 0.8784, 0.9490, 0.8235,\n",
            "          0.8314, 0.8196, 0.8157, 0.8078, 0.8039, 0.8000, 0.8039, 0.8157,\n",
            "          0.7647, 0.6549, 0.6510, 0.6863, 0.8039, 0.8196, 0.8353, 0.7804,\n",
            "          0.0510, 0.0000, 0.0000, 0.0000],\n",
            "         [0.0000, 0.0000, 0.0000, 0.3529, 0.9098, 0.8784, 0.9490, 0.8549,\n",
            "          0.8667, 0.8392, 0.8431, 0.8314, 0.8157, 0.8235, 0.8353, 0.8235,\n",
            "          0.8235, 0.8471, 0.8196, 0.8157, 0.8235, 0.8353, 0.8118, 0.8196,\n",
            "          0.1882, 0.0000, 0.0000, 0.0000],\n",
            "         [0.0000, 0.0000, 0.0000, 0.4941, 0.9098, 0.8627, 0.9882, 0.8667,\n",
            "          0.8784, 0.8784, 0.8745, 0.8824, 0.8667, 0.8471, 0.8549, 0.8588,\n",
            "          0.8510, 0.8431, 0.8039, 0.8039, 0.8392, 0.8353, 0.8078, 0.8275,\n",
            "          0.3059, 0.0000, 0.0000, 0.0000],\n",
            "         [0.0000, 0.0000, 0.0000, 0.6118, 0.9216, 0.8667, 0.9882, 0.8863,\n",
            "          0.8941, 0.9098, 0.8863, 0.8902, 0.8824, 0.8627, 0.8706, 0.8667,\n",
            "          0.8588, 0.8549, 0.8118, 0.8118, 0.8510, 0.8314, 0.8196, 0.8471,\n",
            "          0.3765, 0.0000, 0.0000, 0.0000],\n",
            "         [0.0000, 0.0000, 0.0000, 0.7725, 0.9333, 0.8784, 0.9765, 0.9098,\n",
            "          0.9098, 0.9176, 0.8824, 0.8784, 0.8784, 0.8745, 0.8784, 0.8706,\n",
            "          0.8627, 0.8627, 0.8078, 0.8196, 0.8588, 0.8431, 0.8392, 0.8549,\n",
            "          0.5059, 0.0000, 0.0000, 0.0000],\n",
            "         [0.0000, 0.0000, 0.0000, 0.8706, 0.9294, 0.8980, 0.9529, 0.9255,\n",
            "          0.9176, 0.9098, 0.8824, 0.8745, 0.8784, 0.8706, 0.8745, 0.8706,\n",
            "          0.8549, 0.8549, 0.8078, 0.8078, 0.8549, 0.8588, 0.8510, 0.8510,\n",
            "          0.6039, 0.0000, 0.0000, 0.0000],\n",
            "         [0.0000, 0.0000, 0.0000, 0.9255, 0.8941, 0.9176, 0.9647, 0.9333,\n",
            "          0.9255, 0.9137, 0.8863, 0.8902, 0.8941, 0.8667, 0.8745, 0.8745,\n",
            "          0.8471, 0.8745, 0.8314, 0.7961, 0.8588, 0.8627, 0.8667, 0.8314,\n",
            "          0.7176, 0.0000, 0.0000, 0.0000],\n",
            "         [0.0000, 0.0000, 0.0000, 0.9725, 0.8667, 0.9098, 0.9961, 0.9255,\n",
            "          0.9176, 0.9255, 0.8941, 0.8980, 0.9020, 0.8784, 0.8784, 0.8745,\n",
            "          0.8431, 0.8902, 0.8471, 0.7882, 0.8667, 0.8980, 0.9216, 0.8353,\n",
            "          0.8000, 0.0000, 0.0000, 0.0000],\n",
            "         [0.0000, 0.0000, 0.0314, 0.9961, 0.8471, 0.8824, 0.9961, 0.9412,\n",
            "          0.9216, 0.9333, 0.8980, 0.9020, 0.9059, 0.8863, 0.8824, 0.8784,\n",
            "          0.8392, 0.8863, 0.8627, 0.7882, 0.8627, 0.9098, 0.9098, 0.8314,\n",
            "          0.8431, 0.0000, 0.0000, 0.0000],\n",
            "         [0.0000, 0.0000, 0.1176, 1.0000, 0.8275, 0.8431, 0.9569, 0.9569,\n",
            "          0.9373, 0.9294, 0.8902, 0.9020, 0.9020, 0.8824, 0.8902, 0.8784,\n",
            "          0.8392, 0.8784, 0.8784, 0.7882, 0.8510, 0.9098, 0.8980, 0.8275,\n",
            "          0.8902, 0.0157, 0.0000, 0.0000],\n",
            "         [0.0000, 0.0000, 0.2275, 1.0000, 0.8314, 0.8471, 0.9647, 0.9647,\n",
            "          0.9647, 0.9216, 0.8863, 0.9059, 0.9020, 0.8745, 0.8980, 0.8745,\n",
            "          0.8431, 0.8863, 0.9020, 0.7804, 0.8549, 0.9294, 0.8980, 0.8196,\n",
            "          0.9098, 0.1020, 0.0000, 0.0000],\n",
            "         [0.0000, 0.0000, 0.2235, 1.0000, 0.8392, 0.8196, 0.9176, 0.9961,\n",
            "          0.9725, 0.9098, 0.9020, 0.9098, 0.9059, 0.8863, 0.9059, 0.8784,\n",
            "          0.8549, 0.8784, 0.9059, 0.7882, 0.8549, 0.9412, 0.8980, 0.8118,\n",
            "          0.9020, 0.1647, 0.0000, 0.0000],\n",
            "         [0.0000, 0.0000, 0.2157, 1.0000, 0.8392, 0.8784, 0.8863, 1.0000,\n",
            "          0.9882, 0.9137, 0.9098, 0.9098, 0.9020, 0.8902, 0.9059, 0.8745,\n",
            "          0.8627, 0.8784, 0.9216, 0.8039, 0.8667, 0.9922, 0.9216, 0.8078,\n",
            "          0.9216, 0.2353, 0.0000, 0.0000],\n",
            "         [0.0000, 0.0000, 0.2667, 1.0000, 0.8549, 0.9294, 0.7804, 0.8784,\n",
            "          1.0000, 0.9255, 0.9137, 0.9176, 0.9098, 0.8980, 0.8980, 0.8627,\n",
            "          0.8549, 0.8706, 0.9412, 0.8314, 0.8784, 0.8392, 0.9608, 0.8196,\n",
            "          0.9255, 0.2549, 0.0000, 0.0000],\n",
            "         [0.0000, 0.0000, 0.3294, 1.0000, 0.8510, 0.9961, 0.4627, 0.7804,\n",
            "          1.0000, 0.9020, 0.9216, 0.9294, 0.9294, 0.9216, 0.8980, 0.8667,\n",
            "          0.8627, 0.8667, 0.9294, 0.8706, 0.8745, 0.5176, 1.0000, 0.8196,\n",
            "          0.9412, 0.3059, 0.0000, 0.0000],\n",
            "         [0.0000, 0.0000, 0.3725, 1.0000, 0.8549, 1.0000, 0.1608, 0.7490,\n",
            "          1.0000, 0.9176, 0.9216, 0.9294, 0.9294, 0.9137, 0.9059, 0.8941,\n",
            "          0.8863, 0.8706, 0.9373, 0.9255, 0.8000, 0.2588, 1.0000, 0.8196,\n",
            "          0.9255, 0.3804, 0.0000, 0.0000],\n",
            "         [0.0000, 0.0000, 0.4549, 0.9490, 0.8588, 1.0000, 0.0000, 0.7843,\n",
            "          1.0000, 0.9216, 0.9216, 0.9333, 0.9412, 0.9176, 0.9137, 0.9020,\n",
            "          0.8941, 0.9059, 0.9098, 0.9922, 0.7412, 0.1490, 1.0000, 0.8314,\n",
            "          0.9333, 0.4157, 0.0000, 0.0000],\n",
            "         [0.0000, 0.0000, 0.4863, 0.9451, 0.8745, 0.9961, 0.0000, 0.5608,\n",
            "          0.9961, 0.9255, 0.9333, 0.9294, 0.9216, 0.9137, 0.9176, 0.8902,\n",
            "          0.8627, 0.8784, 0.8824, 0.9608, 0.4471, 0.0000, 1.0000, 0.8314,\n",
            "          0.9216, 0.4510, 0.0000, 0.0000],\n",
            "         [0.0000, 0.0000, 0.4980, 0.9529, 0.8824, 0.9961, 0.0000, 0.2980,\n",
            "          1.0000, 0.9255, 0.9294, 0.9294, 0.9216, 0.9451, 0.9490, 0.9294,\n",
            "          0.9059, 0.9020, 0.8706, 0.9922, 0.3294, 0.0000, 1.0000, 0.8392,\n",
            "          0.8510, 0.5333, 0.0000, 0.0000],\n",
            "         [0.0000, 0.0000, 0.4275, 0.9804, 0.9412, 0.7922, 0.0000, 0.1098,\n",
            "          1.0000, 0.9176, 0.9098, 0.9020, 0.8941, 0.8745, 0.8627, 0.8588,\n",
            "          0.8549, 0.8353, 0.8196, 1.0000, 0.2471, 0.0000, 0.9843, 0.9020,\n",
            "          0.8863, 0.3725, 0.0000, 0.0000],\n",
            "         [0.0000, 0.0000, 0.1843, 0.9294, 0.9725, 0.3922, 0.0000, 0.0000,\n",
            "          0.0000, 0.0000, 0.0000, 0.0000, 0.0000, 0.0000, 0.0000, 0.0000,\n",
            "          0.0000, 0.0000, 0.0000, 0.0000, 0.0000, 0.0000, 0.5725, 0.9451,\n",
            "          0.8667, 0.1608, 0.0000, 0.0000],\n",
            "         [0.0000, 0.0000, 0.0314, 0.8667, 0.9098, 0.2196, 0.0000, 0.0000,\n",
            "          0.0000, 0.0000, 0.0000, 0.0000, 0.0000, 0.0000, 0.0000, 0.0000,\n",
            "          0.0000, 0.0000, 0.0000, 0.0000, 0.0000, 0.0000, 0.3020, 0.8627,\n",
            "          0.7333, 0.0706, 0.0000, 0.0000]]])\n",
            "tensor([[0.0000, 0.0000, 0.0000, 0.0000, 0.0000, 0.0000, 0.0000, 0.0000, 0.1020,\n",
            "         0.3255, 0.6549, 0.7882, 0.6510, 0.5059, 0.4588, 0.6863, 0.9255, 0.5686,\n",
            "         0.2588, 0.0588, 0.0000, 0.0000, 0.0000, 0.0000, 0.0000, 0.0000, 0.0000,\n",
            "         0.0000, 0.0000, 0.0000, 0.0000, 0.0078, 0.0000, 0.0000, 0.2824, 0.7843,\n",
            "         0.9373, 0.9216, 0.8039, 0.9490, 1.0000, 0.9333, 0.9569, 1.0000, 0.8549,\n",
            "         0.7922, 0.9373, 0.9137, 0.7529, 0.4353, 0.0157, 0.0000, 0.0078, 0.0000,\n",
            "         0.0000, 0.0000, 0.0000, 0.0000, 0.0000, 0.0000, 0.0000, 0.7725, 0.8588,\n",
            "         0.8275, 0.7882, 0.7882, 0.7843, 0.7294, 0.7333, 0.7882, 0.7922, 0.7176,\n",
            "         0.7216, 0.7647, 0.7451, 0.7725, 0.8000, 0.8353, 0.8314, 0.0000, 0.0000,\n",
            "         0.0078, 0.0000, 0.0000, 0.0000, 0.0000, 0.0039, 0.0000, 0.4784, 0.9294,\n",
            "         0.7804, 0.7961, 0.8118, 0.8078, 0.8235, 0.8275, 0.8078, 0.7804, 0.7882,\n",
            "         0.8039, 0.7686, 0.7686, 0.7765, 0.7765, 0.7725, 0.7529, 0.8078, 0.3804,\n",
            "         0.0000, 0.0000, 0.0000, 0.0000, 0.0000, 0.0000, 0.0000, 0.0000, 0.7373,\n",
            "         0.9137, 0.8275, 0.7725, 0.8157, 0.8039, 0.8039, 0.7961, 0.7961, 0.8078,\n",
            "         0.7922, 0.7647, 0.8000, 0.8157, 0.7882, 0.8000, 0.8000, 0.7882, 0.8314,\n",
            "         0.7333, 0.0000, 0.0000, 0.0000, 0.0000, 0.0000, 0.0000, 0.0000, 0.0000,\n",
            "         0.8510, 0.8902, 0.8980, 0.8000, 0.8118, 0.8078, 0.8000, 0.7961, 0.7961,\n",
            "         0.7922, 0.7961, 0.8196, 0.7333, 0.6431, 0.7216, 0.7529, 0.8157, 0.7922,\n",
            "         0.8510, 0.8235, 0.0000, 0.0000, 0.0000, 0.0000, 0.0000, 0.0000, 0.0000,\n",
            "         0.1922, 0.9137, 0.8784, 0.9490, 0.8235, 0.8314, 0.8196, 0.8157, 0.8078,\n",
            "         0.8039, 0.8000, 0.8039, 0.8157, 0.7647, 0.6549, 0.6510, 0.6863, 0.8039,\n",
            "         0.8196, 0.8353, 0.7804, 0.0510, 0.0000, 0.0000, 0.0000, 0.0000, 0.0000,\n",
            "         0.0000, 0.3529, 0.9098, 0.8784, 0.9490, 0.8549, 0.8667, 0.8392, 0.8431,\n",
            "         0.8314, 0.8157, 0.8235, 0.8353, 0.8235, 0.8235, 0.8471, 0.8196, 0.8157,\n",
            "         0.8235, 0.8353, 0.8118, 0.8196, 0.1882, 0.0000, 0.0000, 0.0000, 0.0000,\n",
            "         0.0000, 0.0000, 0.4941, 0.9098, 0.8627, 0.9882, 0.8667, 0.8784, 0.8784,\n",
            "         0.8745, 0.8824, 0.8667, 0.8471, 0.8549, 0.8588, 0.8510, 0.8431, 0.8039,\n",
            "         0.8039, 0.8392, 0.8353, 0.8078, 0.8275, 0.3059, 0.0000, 0.0000, 0.0000,\n",
            "         0.0000, 0.0000, 0.0000, 0.6118, 0.9216, 0.8667, 0.9882, 0.8863, 0.8941,\n",
            "         0.9098, 0.8863, 0.8902, 0.8824, 0.8627, 0.8706, 0.8667, 0.8588, 0.8549,\n",
            "         0.8118, 0.8118, 0.8510, 0.8314, 0.8196, 0.8471, 0.3765, 0.0000, 0.0000,\n",
            "         0.0000, 0.0000, 0.0000, 0.0000, 0.7725, 0.9333, 0.8784, 0.9765, 0.9098,\n",
            "         0.9098, 0.9176, 0.8824, 0.8784, 0.8784, 0.8745, 0.8784, 0.8706, 0.8627,\n",
            "         0.8627, 0.8078, 0.8196, 0.8588, 0.8431, 0.8392, 0.8549, 0.5059, 0.0000,\n",
            "         0.0000, 0.0000, 0.0000, 0.0000, 0.0000, 0.8706, 0.9294, 0.8980, 0.9529,\n",
            "         0.9255, 0.9176, 0.9098, 0.8824, 0.8745, 0.8784, 0.8706, 0.8745, 0.8706,\n",
            "         0.8549, 0.8549, 0.8078, 0.8078, 0.8549, 0.8588, 0.8510, 0.8510, 0.6039,\n",
            "         0.0000, 0.0000, 0.0000, 0.0000, 0.0000, 0.0000, 0.9255, 0.8941, 0.9176,\n",
            "         0.9647, 0.9333, 0.9255, 0.9137, 0.8863, 0.8902, 0.8941, 0.8667, 0.8745,\n",
            "         0.8745, 0.8471, 0.8745, 0.8314, 0.7961, 0.8588, 0.8627, 0.8667, 0.8314,\n",
            "         0.7176, 0.0000, 0.0000, 0.0000, 0.0000, 0.0000, 0.0000, 0.9725, 0.8667,\n",
            "         0.9098, 0.9961, 0.9255, 0.9176, 0.9255, 0.8941, 0.8980, 0.9020, 0.8784,\n",
            "         0.8784, 0.8745, 0.8431, 0.8902, 0.8471, 0.7882, 0.8667, 0.8980, 0.9216,\n",
            "         0.8353, 0.8000, 0.0000, 0.0000, 0.0000, 0.0000, 0.0000, 0.0314, 0.9961,\n",
            "         0.8471, 0.8824, 0.9961, 0.9412, 0.9216, 0.9333, 0.8980, 0.9020, 0.9059,\n",
            "         0.8863, 0.8824, 0.8784, 0.8392, 0.8863, 0.8627, 0.7882, 0.8627, 0.9098,\n",
            "         0.9098, 0.8314, 0.8431, 0.0000, 0.0000, 0.0000, 0.0000, 0.0000, 0.1176,\n",
            "         1.0000, 0.8275, 0.8431, 0.9569, 0.9569, 0.9373, 0.9294, 0.8902, 0.9020,\n",
            "         0.9020, 0.8824, 0.8902, 0.8784, 0.8392, 0.8784, 0.8784, 0.7882, 0.8510,\n",
            "         0.9098, 0.8980, 0.8275, 0.8902, 0.0157, 0.0000, 0.0000, 0.0000, 0.0000,\n",
            "         0.2275, 1.0000, 0.8314, 0.8471, 0.9647, 0.9647, 0.9647, 0.9216, 0.8863,\n",
            "         0.9059, 0.9020, 0.8745, 0.8980, 0.8745, 0.8431, 0.8863, 0.9020, 0.7804,\n",
            "         0.8549, 0.9294, 0.8980, 0.8196, 0.9098, 0.1020, 0.0000, 0.0000, 0.0000,\n",
            "         0.0000, 0.2235, 1.0000, 0.8392, 0.8196, 0.9176, 0.9961, 0.9725, 0.9098,\n",
            "         0.9020, 0.9098, 0.9059, 0.8863, 0.9059, 0.8784, 0.8549, 0.8784, 0.9059,\n",
            "         0.7882, 0.8549, 0.9412, 0.8980, 0.8118, 0.9020, 0.1647, 0.0000, 0.0000,\n",
            "         0.0000, 0.0000, 0.2157, 1.0000, 0.8392, 0.8784, 0.8863, 1.0000, 0.9882,\n",
            "         0.9137, 0.9098, 0.9098, 0.9020, 0.8902, 0.9059, 0.8745, 0.8627, 0.8784,\n",
            "         0.9216, 0.8039, 0.8667, 0.9922, 0.9216, 0.8078, 0.9216, 0.2353, 0.0000,\n",
            "         0.0000, 0.0000, 0.0000, 0.2667, 1.0000, 0.8549, 0.9294, 0.7804, 0.8784,\n",
            "         1.0000, 0.9255, 0.9137, 0.9176, 0.9098, 0.8980, 0.8980, 0.8627, 0.8549,\n",
            "         0.8706, 0.9412, 0.8314, 0.8784, 0.8392, 0.9608, 0.8196, 0.9255, 0.2549,\n",
            "         0.0000, 0.0000, 0.0000, 0.0000, 0.3294, 1.0000, 0.8510, 0.9961, 0.4627,\n",
            "         0.7804, 1.0000, 0.9020, 0.9216, 0.9294, 0.9294, 0.9216, 0.8980, 0.8667,\n",
            "         0.8627, 0.8667, 0.9294, 0.8706, 0.8745, 0.5176, 1.0000, 0.8196, 0.9412,\n",
            "         0.3059, 0.0000, 0.0000, 0.0000, 0.0000, 0.3725, 1.0000, 0.8549, 1.0000,\n",
            "         0.1608, 0.7490, 1.0000, 0.9176, 0.9216, 0.9294, 0.9294, 0.9137, 0.9059,\n",
            "         0.8941, 0.8863, 0.8706, 0.9373, 0.9255, 0.8000, 0.2588, 1.0000, 0.8196,\n",
            "         0.9255, 0.3804, 0.0000, 0.0000, 0.0000, 0.0000, 0.4549, 0.9490, 0.8588,\n",
            "         1.0000, 0.0000, 0.7843, 1.0000, 0.9216, 0.9216, 0.9333, 0.9412, 0.9176,\n",
            "         0.9137, 0.9020, 0.8941, 0.9059, 0.9098, 0.9922, 0.7412, 0.1490, 1.0000,\n",
            "         0.8314, 0.9333, 0.4157, 0.0000, 0.0000, 0.0000, 0.0000, 0.4863, 0.9451,\n",
            "         0.8745, 0.9961, 0.0000, 0.5608, 0.9961, 0.9255, 0.9333, 0.9294, 0.9216,\n",
            "         0.9137, 0.9176, 0.8902, 0.8627, 0.8784, 0.8824, 0.9608, 0.4471, 0.0000,\n",
            "         1.0000, 0.8314, 0.9216, 0.4510, 0.0000, 0.0000, 0.0000, 0.0000, 0.4980,\n",
            "         0.9529, 0.8824, 0.9961, 0.0000, 0.2980, 1.0000, 0.9255, 0.9294, 0.9294,\n",
            "         0.9216, 0.9451, 0.9490, 0.9294, 0.9059, 0.9020, 0.8706, 0.9922, 0.3294,\n",
            "         0.0000, 1.0000, 0.8392, 0.8510, 0.5333, 0.0000, 0.0000, 0.0000, 0.0000,\n",
            "         0.4275, 0.9804, 0.9412, 0.7922, 0.0000, 0.1098, 1.0000, 0.9176, 0.9098,\n",
            "         0.9020, 0.8941, 0.8745, 0.8627, 0.8588, 0.8549, 0.8353, 0.8196, 1.0000,\n",
            "         0.2471, 0.0000, 0.9843, 0.9020, 0.8863, 0.3725, 0.0000, 0.0000, 0.0000,\n",
            "         0.0000, 0.1843, 0.9294, 0.9725, 0.3922, 0.0000, 0.0000, 0.0000, 0.0000,\n",
            "         0.0000, 0.0000, 0.0000, 0.0000, 0.0000, 0.0000, 0.0000, 0.0000, 0.0000,\n",
            "         0.0000, 0.0000, 0.0000, 0.5725, 0.9451, 0.8667, 0.1608, 0.0000, 0.0000,\n",
            "         0.0000, 0.0000, 0.0314, 0.8667, 0.9098, 0.2196, 0.0000, 0.0000, 0.0000,\n",
            "         0.0000, 0.0000, 0.0000, 0.0000, 0.0000, 0.0000, 0.0000, 0.0000, 0.0000,\n",
            "         0.0000, 0.0000, 0.0000, 0.0000, 0.3020, 0.8627, 0.7333, 0.0706, 0.0000,\n",
            "         0.0000]])\n"
          ]
        }
      ]
    },
    {
      "cell_type": "code",
      "source": [
        "output.shape"
      ],
      "metadata": {
        "colab": {
          "base_uri": "https://localhost:8080/"
        },
        "id": "L1Er9BJvCqBo",
        "outputId": "cdd7b0e2-c57b-4fe5-8e4e-78d023c9f0e3"
      },
      "execution_count": 81,
      "outputs": [
        {
          "output_type": "execute_result",
          "data": {
            "text/plain": [
              "torch.Size([1, 784])"
            ]
          },
          "metadata": {},
          "execution_count": 81
        }
      ]
    },
    {
      "cell_type": "code",
      "source": [
        "# Create the first model using nn.Flatten() as the first layer\n",
        "from torch import nn\n",
        "class FashionModelV0(nn.Module):\n",
        "    def __init__(self, input_shape: int, hidden_units: int, output_shape: int):\n",
        "        super().__init__()\n",
        "        self.layer_stack = nn.Sequential(\n",
        "             nn.Flatten(), # neural networks like their inputs in vector form \n",
        "             nn.Linear(in_features=input_shape, out_features=hidden_units), # in_features = number of features in a data sample \n",
        "             nn.Linear(in_features=hidden_units, out_features=output_shape) # \n",
        "        )\n",
        "    \n",
        "    def forward(self, x):\n",
        "        return self.layer_stack(x)"
      ],
      "metadata": {
        "id": "IRXVhBcPuvaD"
      },
      "execution_count": 89,
      "outputs": []
    },
    {
      "cell_type": "code",
      "source": [
        "# Create an instance of the first model\n",
        "torch.manual_seed(41)\n",
        "# Need to setup model with input parameters\n",
        "model_0 = FashionModelV0(input_shape=784, # one for every pixel (28x28)\n",
        "    hidden_units=10, # how many units in the hiden layer\n",
        "    output_shape=len(class_names) # one for every class\n",
        ")"
      ],
      "metadata": {
        "id": "4k9I2X95ukVe"
      },
      "execution_count": 90,
      "outputs": []
    },
    {
      "cell_type": "code",
      "source": [
        "import requests\n",
        "from pathlib import Path \n",
        "\n",
        "# Download helper functions from Learn PyTorch repo (if not already downloaded)\n",
        "if Path(\"helper_functions.py\").is_file():\n",
        "  print(\"helper_functions.py already exists, skipping download\")\n",
        "else:\n",
        "  print(\"Downloading helper_functions.py\")\n",
        "  # Note: you need the \"raw\" GitHub URL for this to work\n",
        "  request = requests.get(\"https://raw.githubusercontent.com/mrdbourke/pytorch-deep-learning/main/helper_functions.py\")\n",
        "  with open(\"helper_functions.py\", \"wb\") as f:\n",
        "    f.write(request.content)"
      ],
      "metadata": {
        "colab": {
          "base_uri": "https://localhost:8080/"
        },
        "id": "EA8nQ85fxxOx",
        "outputId": "4a44f664-68fe-4b8b-e98e-b3e0cfa4d456"
      },
      "execution_count": 91,
      "outputs": [
        {
          "output_type": "stream",
          "name": "stdout",
          "text": [
            "helper_functions.py already exists, skipping download\n"
          ]
        }
      ]
    },
    {
      "cell_type": "code",
      "source": [
        "## Setup loss, optimizer and evaluation metrics\n",
        "# Import accuracy metric\n",
        "from helper_functions import accuracy_fn # Note: could also use torchmetrics.Accuracy()\n",
        "\n",
        "# Setup loss function and optimizer\n",
        "loss_fn = nn.CrossEntropyLoss() # this is also called \"criterion\"/\"cost function\" in some places\n",
        "optimizer = torch.optim.SGD(params=model_0.parameters(), lr=0.1)"
      ],
      "metadata": {
        "id": "kkGola-XukX2"
      },
      "execution_count": 92,
      "outputs": []
    },
    {
      "cell_type": "code",
      "source": [
        "## Creating a training loop and training a model on batches of data\n",
        "# Import tqdm for progress bar\n",
        "from tqdm.auto import tqdm\n",
        "\n",
        "# Set the number of epochs \n",
        "epochs = 3\n",
        "\n",
        "# Create training and testing loop\n",
        "for epoch in tqdm(range(epochs)):\n",
        "    print(f\"Epoch: {epoch}\\n-------\")\n",
        "    ### Training\n",
        "    train_loss = 0\n",
        "    # Add a loop to loop through training batches\n",
        "    for batch, (X, y) in enumerate(train_dataloader):\n",
        "        model_0.train() \n",
        "        # 1. Forward pass\n",
        "        y_pred = model_0(X)\n",
        "\n",
        "        # 2. Calculate loss (per batch)\n",
        "        loss = loss_fn(y_pred, y)\n",
        "        train_loss += loss # accumulatively add up the loss per epoch \n",
        "\n",
        "        # 3. Optimizer zero grad\n",
        "        optimizer.zero_grad()\n",
        "\n",
        "        # 4. Loss backward\n",
        "        loss.backward()\n",
        "\n",
        "        # 5. Optimizer step\n",
        "        optimizer.step()\n",
        "\n",
        "        # Print out how many samples have been seen\n",
        "        if batch % 400 == 0:\n",
        "            print(f\"Looked at {batch * len(X)}/{len(train_dataloader.dataset)} samples\")\n",
        "\n",
        "    # Divide total train loss by length of train dataloader (average loss per batch per epoch)\n",
        "    train_loss /= len(train_dataloader)\n",
        "    \n",
        "    ### Testing\n",
        "    # Setup variables for accumulatively adding up loss and accuracy \n",
        "    test_loss, test_acc = 0, 0 \n",
        "    model_0.eval()\n",
        "    with torch.inference_mode():\n",
        "        for X, y in test_dataloader:\n",
        "            # 1. Forward pass\n",
        "            test_pred = model_0(X)\n",
        "           \n",
        "            # 2. Calculate loss (accumatively)\n",
        "            test_loss += loss_fn(test_pred, y) # accumulatively add up the loss per epoch\n",
        "\n",
        "            # 3. Calculate accuracy (preds need to be same as y_true)\n",
        "            test_acc += accuracy_fn(y_true=y, y_pred=test_pred.argmax(dim=1))\n",
        "        \n",
        "        # Calculations on test metrics need to happen inside torch.inference_mode()\n",
        "        # Divide total test loss by length of test dataloader (per batch)\n",
        "        test_loss /= len(test_dataloader)\n",
        "\n",
        "        # Divide total accuracy by length of test dataloader (per batch)\n",
        "        test_acc /= len(test_dataloader)\n",
        "\n",
        "    ## Print out what's happening\n",
        "    print(f\"\\nTrain loss: {train_loss:.5f} | Test loss: {test_loss:.5f}, Test acc: {test_acc:.2f}%\\n\")  "
      ],
      "metadata": {
        "colab": {
          "base_uri": "https://localhost:8080/",
          "height": 570,
          "referenced_widgets": [
            "d0a98dbfdb3c407a80b21e7841d62517",
            "cf6a6e93a5be42ac87ba57d801a36f0a",
            "70fa8703f9814b0fade1fba99c989923",
            "67ffc49e6af5455cad037072b1bffe00",
            "a88636a90b6644f6bf6152e70ddb470d",
            "c203a61ef7144bd59b9b011b17066add",
            "558642c4a6f2435cbcba34f44079bbe1",
            "0b153e8e223a406e9bacec585b53ffd7",
            "6e949e5190b44e939969a6cf81041c68",
            "8bdf7bf7d23e4df6962751a1603e1014",
            "9a94534ed9374e448d500527d106d644"
          ]
        },
        "id": "r9kWn54KukZk",
        "outputId": "bfb3fa4b-7566-429a-f1c1-dbc77bb33d41"
      },
      "execution_count": 93,
      "outputs": [
        {
          "output_type": "display_data",
          "data": {
            "text/plain": [
              "  0%|          | 0/3 [00:00<?, ?it/s]"
            ],
            "application/vnd.jupyter.widget-view+json": {
              "version_major": 2,
              "version_minor": 0,
              "model_id": "d0a98dbfdb3c407a80b21e7841d62517"
            }
          },
          "metadata": {}
        },
        {
          "output_type": "stream",
          "name": "stdout",
          "text": [
            "Epoch: 0\n",
            "-------\n",
            "Looked at 0/60000 samples\n",
            "Looked at 12800/60000 samples\n",
            "Looked at 25600/60000 samples\n",
            "Looked at 38400/60000 samples\n",
            "Looked at 51200/60000 samples\n",
            "\n",
            "Train loss: 0.58483 | Test loss: 0.53243, Test acc: 80.72%\n",
            "\n",
            "Epoch: 1\n",
            "-------\n",
            "Looked at 0/60000 samples\n",
            "Looked at 12800/60000 samples\n",
            "Looked at 25600/60000 samples\n",
            "Looked at 38400/60000 samples\n",
            "Looked at 51200/60000 samples\n",
            "\n",
            "Train loss: 0.47511 | Test loss: 0.48639, Test acc: 82.82%\n",
            "\n",
            "Epoch: 2\n",
            "-------\n",
            "Looked at 0/60000 samples\n",
            "Looked at 12800/60000 samples\n",
            "Looked at 25600/60000 samples\n",
            "Looked at 38400/60000 samples\n",
            "Looked at 51200/60000 samples\n",
            "\n",
            "Train loss: 0.45480 | Test loss: 0.47962, Test acc: 83.25%\n",
            "\n"
          ]
        }
      ]
    },
    {
      "cell_type": "code",
      "source": [
        "## Make predictions and get Model 0 results\n",
        "torch.manual_seed(41)\n",
        "def eval_model(model: torch.nn.Module, \n",
        "               data_loader: torch.utils.data.DataLoader, \n",
        "               loss_fn: torch.nn.Module, \n",
        "               accuracy_fn):\n",
        "    \"\"\"Returns a dictionary containing the results of model predicting on data_loader.\n",
        "\n",
        "    Args:\n",
        "        model (torch.nn.Module): A PyTorch model capable of making predictions on data_loader.\n",
        "        data_loader (torch.utils.data.DataLoader): The target dataset to predict on.\n",
        "        loss_fn (torch.nn.Module): The loss function of model.\n",
        "        accuracy_fn: An accuracy function to compare the models predictions to the truth labels.\n",
        "\n",
        "    Returns:\n",
        "        (dict): Results of model making predictions on data_loader.\n",
        "    \"\"\"\n",
        "    loss, acc = 0, 0\n",
        "    model.eval()\n",
        "    with torch.inference_mode():\n",
        "        for X, y in data_loader:\n",
        "            # Make predictions with the model\n",
        "            y_pred = model(X)\n",
        "            \n",
        "            # Accumulate the loss and accuracy values per batch\n",
        "            loss += loss_fn(y_pred, y)\n",
        "            acc += accuracy_fn(y_true=y, \n",
        "                                y_pred=y_pred.argmax(dim=1)) # For accuracy, need the prediction labels (logits -> pred_prob -> pred_labels)\n",
        "        \n",
        "        # Scale loss and acc to find the average loss/acc per batch\n",
        "        loss /= len(data_loader)\n",
        "        acc /= len(data_loader)\n",
        "        \n",
        "    return {\"model_name\": model.__class__.__name__, # only works when model was created with a class\n",
        "            \"model_loss\": loss.item(),\n",
        "            \"model_acc\": acc}\n",
        "\n",
        "# Calculate model 0 results on test dataset\n",
        "model_0_results = eval_model(model=model_0, data_loader=test_dataloader,\n",
        "    loss_fn=loss_fn, accuracy_fn=accuracy_fn\n",
        ")\n",
        "model_0_results"
      ],
      "metadata": {
        "id": "AX8fTMJ0YOAo",
        "colab": {
          "base_uri": "https://localhost:8080/"
        },
        "outputId": "5701ebea-084c-4fb9-e33c-71e4c3af08bc"
      },
      "execution_count": 94,
      "outputs": [
        {
          "output_type": "execute_result",
          "data": {
            "text/plain": [
              "{'model_acc': 83.24680511182109,\n",
              " 'model_loss': 0.47962477803230286,\n",
              " 'model_name': 'FashionModelV0'}"
            ]
          },
          "metadata": {},
          "execution_count": 94
        }
      ]
    },
    {
      "cell_type": "code",
      "source": [
        "## Create another model - Model 1: Building a better model with non-linearity\n",
        "# Create a model with non-linear and linear layers\n",
        "class FashionModelV1(nn.Module):\n",
        "    def __init__(self, input_shape: int, hidden_units: int, output_shape: int):\n",
        "        super().__init__()\n",
        "        self.layer_stack = nn.Sequential(\n",
        "            nn.Flatten(), # flatten inputs into single vector\n",
        "            nn.Linear(in_features=input_shape, out_features=hidden_units),\n",
        "            nn.ReLU(),\n",
        "            nn.Linear(in_features=hidden_units, out_features=output_shape),\n",
        "            nn.ReLU()\n",
        "        )\n",
        "    \n",
        "    def forward(self, x: torch.Tensor):\n",
        "        return self.layer_stack(x)"
      ],
      "metadata": {
        "id": "LU4mNFlv_pZx"
      },
      "execution_count": 97,
      "outputs": []
    },
    {
      "cell_type": "code",
      "source": [
        "torch.manual_seed(41)\n",
        "model_1 = FashionModelV1(input_shape=784, # number of input features\n",
        "    hidden_units=10,\n",
        "    output_shape=len(class_names) # number of output classes desired\n",
        ") "
      ],
      "metadata": {
        "id": "SdSryIsE_pb-"
      },
      "execution_count": 98,
      "outputs": []
    },
    {
      "cell_type": "code",
      "source": [
        "# Setup loss, optimizer and evaluation metrics\n",
        "loss_fn = nn.CrossEntropyLoss()\n",
        "optimizer = torch.optim.SGD(params=model_1.parameters(), \n",
        "                            lr=0.1)"
      ],
      "metadata": {
        "id": "8AqfQw6u_peG"
      },
      "execution_count": 99,
      "outputs": []
    },
    {
      "cell_type": "code",
      "source": [
        "# Functionizing training and test loops\n",
        "def train_step(model: torch.nn.Module,\n",
        "               data_loader: torch.utils.data.DataLoader,\n",
        "               loss_fn: torch.nn.Module,\n",
        "               optimizer: torch.optim.Optimizer,\n",
        "               accuracy_fn):\n",
        "    train_loss, train_acc = 0, 0\n",
        "    for batch, (X, y) in enumerate(data_loader):\n",
        "        # 1. Forward pass\n",
        "        y_pred = model(X)\n",
        "\n",
        "        # 2. Calculate loss\n",
        "        loss = loss_fn(y_pred, y)\n",
        "        train_loss += loss\n",
        "        train_acc += accuracy_fn(y_true=y,\n",
        "                                 y_pred=y_pred.argmax(dim=1)) # Go from logits -> pred labels\n",
        "\n",
        "        # 3. Optimizer zero grad\n",
        "        optimizer.zero_grad()\n",
        "\n",
        "        # 4. Loss backward\n",
        "        loss.backward()\n",
        "\n",
        "        # 5. Optimizer step\n",
        "        optimizer.step()\n",
        "\n",
        "    # Calculate loss and accuracy per epoch and print out what's happening\n",
        "    train_loss /= len(data_loader)\n",
        "    train_acc /= len(data_loader)\n",
        "    print(f\"Train loss: {train_loss:.5f} | Train accuracy: {train_acc:.2f}%\")\n",
        "\n",
        "def test_step(data_loader: torch.utils.data.DataLoader,\n",
        "              model: torch.nn.Module,\n",
        "              loss_fn: torch.nn.Module,\n",
        "              accuracy_fn):\n",
        "    test_loss, test_acc = 0, 0\n",
        "    model.eval() # put model in eval mode\n",
        "    # Turn on inference context manager\n",
        "    with torch.inference_mode(): \n",
        "        for X, y in data_loader:\n",
        "            # 1. Forward pass\n",
        "            test_pred = model(X)\n",
        "            \n",
        "            # 2. Calculate loss and accuracy\n",
        "            test_loss += loss_fn(test_pred, y)\n",
        "            test_acc += accuracy_fn(y_true=y,\n",
        "                y_pred=test_pred.argmax(dim=1) # Go from logits -> pred labels\n",
        "            )\n",
        "        \n",
        "        # Adjust metrics and print out\n",
        "        test_loss /= len(data_loader)\n",
        "        test_acc /= len(data_loader)\n",
        "        print(f\"Test loss: {test_loss:.5f} | Test accuracy: {test_acc:.2f}%\\n\")"
      ],
      "metadata": {
        "id": "ukV3O59f_pgi"
      },
      "execution_count": 100,
      "outputs": []
    },
    {
      "cell_type": "code",
      "source": [
        "torch.manual_seed(41)\n",
        "\n",
        "epochs = 3\n",
        "for epoch in tqdm(range(epochs)):\n",
        "    print(f\"Epoch: {epoch}\\n---------\")\n",
        "    train_step(data_loader=train_dataloader, \n",
        "        model=model_1, \n",
        "        loss_fn=loss_fn,\n",
        "        optimizer=optimizer,\n",
        "        accuracy_fn=accuracy_fn\n",
        "    )\n",
        "    test_step(data_loader=test_dataloader,\n",
        "        model=model_1,\n",
        "        loss_fn=loss_fn,\n",
        "        accuracy_fn=accuracy_fn\n",
        "    )"
      ],
      "metadata": {
        "colab": {
          "base_uri": "https://localhost:8080/",
          "height": 309,
          "referenced_widgets": [
            "379d008c849a40528af1f86bcd2be21f",
            "61f0eb99df6a4a7ea89a62746e94f01f",
            "b6c16ca07ac4483dadac8b52a62173a5",
            "0e78b9e89ac64a47aa6ff5e66b6132f1",
            "6d25a75aeb8444e69dd6911e899162a4",
            "45825d96426547a097bae87b53ebee8a",
            "240a32c956ca4d39a76f478e671c5add",
            "9462374066934f5fb06665dc93804df6",
            "c9492ee6f06f48dab71c3085d7b9329f",
            "f865481349f444b2be05e901c2e5825f",
            "cc485ef502a24dae8aaecfa7524c9eaa"
          ]
        },
        "id": "SmE--2s6_pkE",
        "outputId": "384accf7-437d-41be-a433-74b0153238d1"
      },
      "execution_count": 101,
      "outputs": [
        {
          "output_type": "display_data",
          "data": {
            "text/plain": [
              "  0%|          | 0/3 [00:00<?, ?it/s]"
            ],
            "application/vnd.jupyter.widget-view+json": {
              "version_major": 2,
              "version_minor": 0,
              "model_id": "379d008c849a40528af1f86bcd2be21f"
            }
          },
          "metadata": {}
        },
        {
          "output_type": "stream",
          "name": "stdout",
          "text": [
            "Epoch: 0\n",
            "---------\n",
            "Train loss: 0.64576 | Train accuracy: 77.22%\n",
            "Test loss: 0.57509 | Test accuracy: 78.60%\n",
            "\n",
            "Epoch: 1\n",
            "---------\n",
            "Train loss: 0.46384 | Train accuracy: 83.66%\n",
            "Test loss: 0.45691 | Test accuracy: 83.66%\n",
            "\n",
            "Epoch: 2\n",
            "---------\n",
            "Train loss: 0.43787 | Train accuracy: 84.44%\n",
            "Test loss: 0.45104 | Test accuracy: 84.05%\n",
            "\n"
          ]
        }
      ]
    },
    {
      "cell_type": "code",
      "source": [
        "# Evaluate trained model_1 using  eval_model() function and see how it went\n",
        "torch.manual_seed(41)\n",
        "\n",
        "model_1_results = eval_model(model=model_1, \n",
        "    data_loader=test_dataloader,\n",
        "    loss_fn=loss_fn, \n",
        "    accuracy_fn=accuracy_fn) \n",
        "model_1_results "
      ],
      "metadata": {
        "colab": {
          "base_uri": "https://localhost:8080/"
        },
        "id": "0qTTS6YEEJZj",
        "outputId": "71eb9038-07ee-474d-cb1d-c012525562bd"
      },
      "execution_count": 102,
      "outputs": [
        {
          "output_type": "execute_result",
          "data": {
            "text/plain": [
              "{'model_acc': 84.04552715654953,\n",
              " 'model_loss': 0.45104044675827026,\n",
              " 'model_name': 'FashionModelV1'}"
            ]
          },
          "metadata": {},
          "execution_count": 102
        }
      ]
    },
    {
      "cell_type": "code",
      "source": [
        "# Check baseline results\n",
        "model_0_results"
      ],
      "metadata": {
        "colab": {
          "base_uri": "https://localhost:8080/"
        },
        "id": "O3huaGNWEJbW",
        "outputId": "6a67daf2-a030-42fe-9975-1c19af9c77e5"
      },
      "execution_count": 103,
      "outputs": [
        {
          "output_type": "execute_result",
          "data": {
            "text/plain": [
              "{'model_acc': 83.24680511182109,\n",
              " 'model_loss': 0.47962477803230286,\n",
              " 'model_name': 'FashionModelV0'}"
            ]
          },
          "metadata": {},
          "execution_count": 103
        }
      ]
    },
    {
      "cell_type": "code",
      "source": [
        "## Try another model - Model 2: Building a Convolutional Neural Network (CNN)\n",
        "# For CNN undersanding: https://poloclub.github.io/cnn-explainer/\n",
        "# Create a convolutional neural network \n",
        "class FashionModelV2(nn.Module):\n",
        "  \n",
        "    def __init__(self, input_shape: int, hidden_units: int, output_shape: int):\n",
        "        super().__init__()\n",
        "        self.block_1 = nn.Sequential(\n",
        "            nn.Conv2d(in_channels=input_shape, \n",
        "                      out_channels=hidden_units, \n",
        "                      kernel_size=3, # how big is the square that's going over the image?\n",
        "                      stride=1, # default\n",
        "                      padding=1),# options = \"valid\" (no padding) or \"same\" (output has same shape as input) or int for specific number \n",
        "            nn.ReLU(),\n",
        "            nn.Conv2d(in_channels=hidden_units, \n",
        "                      out_channels=hidden_units,\n",
        "                      kernel_size=3,\n",
        "                      stride=1,\n",
        "                      padding=1),\n",
        "            nn.ReLU(),\n",
        "            nn.MaxPool2d(kernel_size=2,\n",
        "                         stride=2) # default stride value is same as kernel_size\n",
        "        )\n",
        "        self.block_2 = nn.Sequential(\n",
        "            nn.Conv2d(hidden_units, hidden_units, 3, padding=1),\n",
        "            nn.ReLU(),\n",
        "            nn.Conv2d(hidden_units, hidden_units, 3, padding=1),\n",
        "            nn.ReLU(),\n",
        "            nn.MaxPool2d(2)\n",
        "        )\n",
        "        self.classifier = nn.Sequential(\n",
        "            nn.Flatten(),\n",
        "            # Where did this in_features shape come from? \n",
        "            # It's because each layer of our network compresses and changes the shape of our inputs data.\n",
        "            nn.Linear(in_features=hidden_units*7*7, \n",
        "                      out_features=output_shape)\n",
        "        )\n",
        "    \n",
        "    def forward(self, x: torch.Tensor):\n",
        "        x = self.block_1(x)\n",
        "        # print(x.shape)\n",
        "        x = self.block_2(x)\n",
        "        # print(x.shape)\n",
        "        x = self.classifier(x)\n",
        "        # print(x.shape)\n",
        "        return x\n",
        "\n",
        "torch.manual_seed(41)\n",
        "model_2 = FashionModelV2(input_shape=1, \n",
        "    hidden_units=10, \n",
        "    output_shape=len(class_names))\n",
        "model_2"
      ],
      "metadata": {
        "colab": {
          "base_uri": "https://localhost:8080/"
        },
        "id": "GIO0HeC5EJdl",
        "outputId": "e3f4541b-ce15-401c-9db6-7ea83ca8b938"
      },
      "execution_count": 104,
      "outputs": [
        {
          "output_type": "execute_result",
          "data": {
            "text/plain": [
              "FashionModelV2(\n",
              "  (block_1): Sequential(\n",
              "    (0): Conv2d(1, 10, kernel_size=(3, 3), stride=(1, 1), padding=(1, 1))\n",
              "    (1): ReLU()\n",
              "    (2): Conv2d(10, 10, kernel_size=(3, 3), stride=(1, 1), padding=(1, 1))\n",
              "    (3): ReLU()\n",
              "    (4): MaxPool2d(kernel_size=2, stride=2, padding=0, dilation=1, ceil_mode=False)\n",
              "  )\n",
              "  (block_2): Sequential(\n",
              "    (0): Conv2d(10, 10, kernel_size=(3, 3), stride=(1, 1), padding=(1, 1))\n",
              "    (1): ReLU()\n",
              "    (2): Conv2d(10, 10, kernel_size=(3, 3), stride=(1, 1), padding=(1, 1))\n",
              "    (3): ReLU()\n",
              "    (4): MaxPool2d(kernel_size=2, stride=2, padding=0, dilation=1, ceil_mode=False)\n",
              "  )\n",
              "  (classifier): Sequential(\n",
              "    (0): Flatten(start_dim=1, end_dim=-1)\n",
              "    (1): Linear(in_features=490, out_features=10, bias=True)\n",
              "  )\n",
              ")"
            ]
          },
          "metadata": {},
          "execution_count": 104
        }
      ]
    },
    {
      "cell_type": "code",
      "source": [
        "## Stepping through nn.Conv2d()\n",
        "# To test the layers out, let's create some toy data just like the data used on CNN Explainer\n",
        "torch.manual_seed(41)\n",
        "\n",
        "# Create sample batch of random numbers with same size as image batch\n",
        "images = torch.randn(size=(32, 3, 64, 64)) # [batch_size, color_channels, height, width]\n",
        "test_image = images[0] # get a single image for testing\n",
        "print(f\"Image batch shape: {images.shape} -> [batch_size, color_channels, height, width]\")\n",
        "print(f\"Single image shape: {test_image.shape} -> [color_channels, height, width]\") \n",
        "print(f\"Single image pixel values:\\n{test_image}\")"
      ],
      "metadata": {
        "colab": {
          "base_uri": "https://localhost:8080/"
        },
        "id": "DFCVLXnnEJfs",
        "outputId": "69be9805-6171-4481-f35a-ff435b9948d0"
      },
      "execution_count": 105,
      "outputs": [
        {
          "output_type": "stream",
          "name": "stdout",
          "text": [
            "Image batch shape: torch.Size([32, 3, 64, 64]) -> [batch_size, color_channels, height, width]\n",
            "Single image shape: torch.Size([3, 64, 64]) -> [color_channels, height, width]\n",
            "Single image pixel values:\n",
            "tensor([[[ 0.2465, -0.4717, -1.5184,  ...,  0.3517,  0.9366, -0.1875],\n",
            "         [ 1.3988, -0.0521, -1.0056,  ..., -0.0502,  0.5273,  0.2420],\n",
            "         [-0.8867, -0.9537, -0.3146,  ..., -0.8870, -0.0276,  1.0434],\n",
            "         ...,\n",
            "         [-2.1563, -0.7444,  0.5570,  ..., -1.7320, -0.7794,  0.2665],\n",
            "         [ 0.5765, -0.6415,  1.2170,  ...,  1.8902,  0.3429, -0.4304],\n",
            "         [ 1.4349, -0.5414,  1.4239,  ...,  0.1747, -1.1265,  0.7330]],\n",
            "\n",
            "        [[-1.0699, -0.0285,  0.7889,  ...,  0.4273,  0.5322,  0.6178],\n",
            "         [-0.4072,  1.1540, -0.6133,  ...,  1.7504, -0.4611, -0.1049],\n",
            "         [ 0.4974, -0.0802, -0.4262,  ..., -0.0150,  0.9742,  1.2118],\n",
            "         ...,\n",
            "         [-0.3660, -0.1211,  0.1356,  ...,  0.6888,  2.3868, -0.3121],\n",
            "         [ 0.6834,  0.0644,  1.7200,  ..., -1.4441, -0.8594, -2.1890],\n",
            "         [-0.3193, -0.3035, -0.7135,  ..., -0.2926,  1.0447, -0.3642]],\n",
            "\n",
            "        [[-0.5648,  0.1082,  0.3321,  ..., -0.7001,  0.6618,  0.3540],\n",
            "         [ 0.7338,  1.3977, -1.9941,  ..., -1.8549,  1.0953,  1.2950],\n",
            "         [ 1.2759,  0.6255, -0.0985,  ...,  0.5231,  0.0734,  0.0278],\n",
            "         ...,\n",
            "         [ 0.3680, -0.3279, -1.3471,  ..., -0.6592,  0.7753,  0.2673],\n",
            "         [ 0.6277, -0.2835, -0.3367,  ..., -0.5032, -0.3344,  0.5487],\n",
            "         [-0.0477,  0.4865, -1.5589,  ..., -0.0514, -0.1737,  0.3670]]])\n"
          ]
        }
      ]
    },
    {
      "cell_type": "code",
      "source": [
        "# Example of what happens when you change the hyperparameters of a nn.Conv2d() layer.\n",
        "torch.manual_seed(41)\n",
        "\n",
        "# Create a convolutional layer with same dimensions as TinyVGG \n",
        "# (try changing any of the parameters and see what happens)\n",
        "conv_layer = nn.Conv2d(in_channels=3,\n",
        "                       out_channels=10,\n",
        "                       kernel_size=3,\n",
        "                       stride=1,\n",
        "                       padding=0) # also try using \"valid\" or \"same\" here \n",
        "\n",
        "# Pass the data through the convolutional layer\n",
        "conv_layer(test_image) "
      ],
      "metadata": {
        "colab": {
          "base_uri": "https://localhost:8080/"
        },
        "id": "kGEHQgo8GDVJ",
        "outputId": "aa0734ba-2ccc-4939-bc90-bef8b5d69c26"
      },
      "execution_count": 106,
      "outputs": [
        {
          "output_type": "execute_result",
          "data": {
            "text/plain": [
              "tensor([[[-0.3191,  0.5302,  0.2166,  ...,  0.2140,  0.0962,  0.5712],\n",
              "         [ 0.3121,  0.9091,  0.5013,  ...,  0.2962, -0.1641, -0.0522],\n",
              "         [ 0.0146, -0.5046,  0.3179,  ..., -1.0945, -0.3034,  0.5466],\n",
              "         ...,\n",
              "         [ 0.2605,  0.7805, -0.2399,  ..., -0.6674, -0.6921,  0.5517],\n",
              "         [ 0.7806,  0.9453,  0.3957,  ...,  0.2328, -0.1982, -0.0814],\n",
              "         [ 0.6589,  0.4851, -0.5201,  ...,  0.8809,  0.0578,  0.2415]],\n",
              "\n",
              "        [[ 0.9318, -0.0938, -0.6411,  ...,  0.3223, -0.2508,  0.2313],\n",
              "         [-0.2921,  0.7380, -0.7764,  ...,  0.9893, -0.4947, -0.1232],\n",
              "         [-0.1041, -0.2048,  0.8841,  ...,  1.0838,  0.3816, -0.3084],\n",
              "         ...,\n",
              "         [ 0.4981,  0.2453, -0.5524,  ..., -0.1602, -0.6106,  0.3694],\n",
              "         [ 1.2323, -0.5513, -0.0240,  ...,  0.0880,  0.5943, -0.1289],\n",
              "         [ 0.7056,  0.1099, -0.2952,  ...,  0.5414,  0.0416, -0.3085]],\n",
              "\n",
              "        [[-0.0636,  0.8563,  0.4912,  ..., -0.1354,  0.5730,  0.0596],\n",
              "         [ 0.0237, -0.2047,  0.6623,  ..., -0.1659, -0.4241,  0.4644],\n",
              "         [-0.1052,  0.3607, -0.1442,  ...,  0.0096,  0.1739,  0.1175],\n",
              "         ...,\n",
              "         [-0.0497, -0.0979,  0.2009,  ..., -0.4771,  0.5671,  0.0830],\n",
              "         [ 0.2147,  0.9569, -0.3571,  ..., -0.3783, -0.0471, -0.9437],\n",
              "         [ 0.1839, -0.2113, -0.0130,  ..., -0.0370,  0.0561,  0.7067]],\n",
              "\n",
              "        ...,\n",
              "\n",
              "        [[ 0.0090,  0.1781,  0.2423,  ...,  0.3536,  0.5373, -0.4488],\n",
              "         [ 0.0998, -0.3936,  0.1519,  ..., -0.5854,  0.4657,  0.5464],\n",
              "         [-0.1302,  1.1026, -0.1113,  ...,  0.8094, -0.1109, -0.1958],\n",
              "         ...,\n",
              "         [ 0.2434,  0.0491,  0.0408,  ...,  0.5997,  0.6610,  0.5293],\n",
              "         [ 0.3661,  0.0386, -0.2422,  ..., -0.0179, -0.3477, -0.9190],\n",
              "         [ 0.1651, -0.1181,  0.0264,  ...,  0.5119, -0.2824,  0.0246]],\n",
              "\n",
              "        [[-0.3970, -0.8286, -0.3562,  ...,  0.6654, -0.0866, -0.3536],\n",
              "         [-0.6531,  1.0979, -0.1509,  ...,  0.5622,  0.0209,  0.2255],\n",
              "         [-0.5302, -0.4585,  0.6916,  ...,  0.1363, -0.5927, -0.4829],\n",
              "         ...,\n",
              "         [-0.3608, -0.3832, -0.4680,  ...,  0.2630, -0.9621,  0.3941],\n",
              "         [ 0.7811, -0.2612,  0.3941,  ..., -0.2803,  0.2713,  0.4368],\n",
              "         [ 0.7412,  0.2398, -0.9712,  ...,  0.1241, -0.3726, -0.4272]],\n",
              "\n",
              "        [[ 0.1763,  0.5558, -0.1599,  ...,  0.8699,  0.4025, -0.5583],\n",
              "         [ 0.7376,  0.7712, -0.7955,  ..., -0.8196, -0.6334,  0.3145],\n",
              "         [-0.1838, -0.7070,  0.2367,  ..., -0.4110, -0.1497, -0.1124],\n",
              "         ...,\n",
              "         [ 0.1362,  0.4649,  0.3593,  ...,  0.1059, -0.0807, -0.6144],\n",
              "         [ 0.5085, -0.3209, -0.4013,  ...,  0.4302, -0.4293,  0.4565],\n",
              "         [-0.6003,  0.4125, -0.1054,  ...,  0.8083, -0.4681, -0.7388]]],\n",
              "       grad_fn=<SqueezeBackward1>)"
            ]
          },
          "metadata": {},
          "execution_count": 106
        }
      ]
    },
    {
      "cell_type": "code",
      "source": [
        "# Add extra dimension to test image\n",
        "test_image.unsqueeze(dim=0).shape"
      ],
      "metadata": {
        "colab": {
          "base_uri": "https://localhost:8080/"
        },
        "id": "zv_Q2RDdGDXN",
        "outputId": "8dcc5107-3d44-4231-c1b9-327d7b90e599"
      },
      "execution_count": 107,
      "outputs": [
        {
          "output_type": "execute_result",
          "data": {
            "text/plain": [
              "torch.Size([1, 3, 64, 64])"
            ]
          },
          "metadata": {},
          "execution_count": 107
        }
      ]
    },
    {
      "cell_type": "code",
      "source": [
        "# Pass test image with extra dimension through conv_layer\n",
        "conv_layer(test_image.unsqueeze(dim=0)).shape"
      ],
      "metadata": {
        "colab": {
          "base_uri": "https://localhost:8080/"
        },
        "id": "lfGTZM5LGDZW",
        "outputId": "a6b80fa7-85a2-4d9c-da7a-b9ba72fa0b25"
      },
      "execution_count": 108,
      "outputs": [
        {
          "output_type": "execute_result",
          "data": {
            "text/plain": [
              "torch.Size([1, 10, 62, 62])"
            ]
          },
          "metadata": {},
          "execution_count": 108
        }
      ]
    },
    {
      "cell_type": "code",
      "source": [
        "torch.manual_seed(41)\n",
        "# Create a new conv_layer with different values \n",
        "conv_layer_2 = nn.Conv2d(in_channels=3, # same number of color channels as our input image\n",
        "                         out_channels=10,\n",
        "                         kernel_size=(5, 5), # kernel is usually a square so a tuple also works\n",
        "                         stride=2,\n",
        "                         padding=0)\n",
        "\n",
        "# Pass single image through new conv_layer_2 (this calls nn.Conv2d()'s forward() method on the input)\n",
        "conv_layer_2(test_image.unsqueeze(dim=0)).shape"
      ],
      "metadata": {
        "colab": {
          "base_uri": "https://localhost:8080/"
        },
        "id": "Q_mKMhcZGtBX",
        "outputId": "3df1bdda-301f-4ffa-8f61-e1b9f629c56d"
      },
      "execution_count": 109,
      "outputs": [
        {
          "output_type": "execute_result",
          "data": {
            "text/plain": [
              "torch.Size([1, 10, 30, 30])"
            ]
          },
          "metadata": {},
          "execution_count": 109
        }
      ]
    },
    {
      "cell_type": "code",
      "source": [
        "# Check out the conv_layer_2 internal parameters\n",
        "print(conv_layer_2.state_dict())"
      ],
      "metadata": {
        "colab": {
          "base_uri": "https://localhost:8080/"
        },
        "id": "UkdVh5aVGtDl",
        "outputId": "c922b531-390c-4e26-f42c-9ae4bb67def8"
      },
      "execution_count": 110,
      "outputs": [
        {
          "output_type": "stream",
          "name": "stdout",
          "text": [
            "OrderedDict([('weight', tensor([[[[-0.0609, -0.0631,  0.0694, -0.0764, -0.0543],\n",
            "          [ 0.0628, -0.0859,  0.0566,  0.0703,  0.0313],\n",
            "          [ 0.0207,  0.0446,  0.0874,  0.0094, -0.0831],\n",
            "          [ 0.1065,  0.0847, -0.0027, -0.0675, -0.0447],\n",
            "          [-0.1020,  0.0765, -0.0100,  0.0796,  0.0435]],\n",
            "\n",
            "         [[-0.0229, -0.0738,  0.0402, -0.0741, -0.0257],\n",
            "          [ 0.0686, -0.0629, -0.0056, -0.0157,  0.0132],\n",
            "          [ 0.1112,  0.0675, -0.0434,  0.1022, -0.0376],\n",
            "          [ 0.0476,  0.0478, -0.0035, -0.1075,  0.1086],\n",
            "          [-0.0267,  0.0786, -0.0693, -0.0118,  0.0990]],\n",
            "\n",
            "         [[-0.1002,  0.0045, -0.0015, -0.0987, -0.0224],\n",
            "          [-0.1058,  0.0249,  0.0194,  0.0661,  0.0029],\n",
            "          [-0.0465, -0.0416, -0.0431,  0.0898,  0.0370],\n",
            "          [-0.1150,  0.0206, -0.0154,  0.0842, -0.0338],\n",
            "          [ 0.1008,  0.0357, -0.1040,  0.0243, -0.0264]]],\n",
            "\n",
            "\n",
            "        [[[ 0.0578, -0.0991, -0.0084,  0.0763,  0.0409],\n",
            "          [ 0.0543,  0.0978,  0.0471,  0.0375,  0.0238],\n",
            "          [ 0.0076,  0.1005, -0.0266,  0.0152,  0.0016],\n",
            "          [-0.0319,  0.0844,  0.0065, -0.0982,  0.0783],\n",
            "          [-0.0382,  0.0113, -0.1047,  0.0458, -0.0792]],\n",
            "\n",
            "         [[-0.0131,  0.0991,  0.0276,  0.0963, -0.0626],\n",
            "          [-0.1074, -0.0924, -0.0395, -0.0360, -0.0078],\n",
            "          [ 0.0660,  0.1007, -0.1133, -0.0670,  0.0993],\n",
            "          [-0.0193, -0.0326, -0.1135, -0.0189, -0.1026],\n",
            "          [ 0.0978, -0.0530, -0.0356,  0.0215,  0.0525]],\n",
            "\n",
            "         [[ 0.1009, -0.0195, -0.0862,  0.1009, -0.0245],\n",
            "          [ 0.0422, -0.0874, -0.0740, -0.0087, -0.0383],\n",
            "          [ 0.0041,  0.0435,  0.0113, -0.0500, -0.0027],\n",
            "          [ 0.0892,  0.1012,  0.0963,  0.0764,  0.0634],\n",
            "          [ 0.1145, -0.1073, -0.1012,  0.0690,  0.1110]]],\n",
            "\n",
            "\n",
            "        [[[-0.0817,  0.0516, -0.0599, -0.0209,  0.1094],\n",
            "          [-0.0681,  0.0555,  0.0847,  0.0559, -0.0788],\n",
            "          [ 0.0354, -0.1043, -0.0595, -0.0671,  0.0786],\n",
            "          [ 0.0271,  0.1112,  0.0747, -0.0350,  0.1114],\n",
            "          [-0.0769, -0.0355, -0.0300,  0.0461, -0.0496]],\n",
            "\n",
            "         [[-0.0917,  0.0708,  0.0954,  0.0702,  0.0650],\n",
            "          [-0.0369, -0.0397, -0.1013,  0.0026,  0.0745],\n",
            "          [ 0.0598,  0.0991, -0.0895, -0.1010,  0.0539],\n",
            "          [ 0.1126, -0.0389,  0.0209,  0.0332,  0.0603],\n",
            "          [ 0.0172, -0.0991, -0.0203,  0.0597, -0.0054]],\n",
            "\n",
            "         [[-0.0836, -0.0724, -0.0380,  0.0862,  0.0185],\n",
            "          [ 0.0862,  0.0114,  0.0709,  0.0111,  0.0790],\n",
            "          [ 0.0999, -0.0966, -0.0851, -0.0430, -0.0030],\n",
            "          [-0.0370, -0.0992,  0.0013,  0.0756, -0.0925],\n",
            "          [ 0.0260, -0.0744,  0.0570, -0.0169,  0.0830]]],\n",
            "\n",
            "\n",
            "        [[[ 0.0596, -0.0828,  0.0969, -0.1030, -0.0110],\n",
            "          [ 0.0616,  0.0433, -0.0897,  0.0092, -0.0454],\n",
            "          [-0.0293, -0.0976,  0.0365,  0.0928,  0.0499],\n",
            "          [ 0.0412, -0.0719, -0.0676,  0.0115,  0.0405],\n",
            "          [-0.0715, -0.1089, -0.0058, -0.0287,  0.0422]],\n",
            "\n",
            "         [[ 0.0056, -0.0736, -0.0317, -0.0262, -0.1033],\n",
            "          [ 0.0648,  0.0859, -0.0919,  0.0557, -0.0646],\n",
            "          [ 0.0127, -0.0822, -0.0743, -0.0948,  0.0482],\n",
            "          [-0.0710, -0.0345,  0.0612, -0.0361,  0.1040],\n",
            "          [ 0.0603,  0.0483,  0.0548, -0.0473, -0.0225]],\n",
            "\n",
            "         [[ 0.0233, -0.0615,  0.0908, -0.0745, -0.0104],\n",
            "          [-0.0610, -0.0418,  0.1117,  0.1081, -0.0646],\n",
            "          [ 0.0488,  0.0083, -0.0299, -0.0503, -0.0164],\n",
            "          [ 0.0564,  0.0461,  0.0036, -0.0893,  0.0240],\n",
            "          [ 0.0701, -0.0120,  0.0619, -0.0536, -0.0039]]],\n",
            "\n",
            "\n",
            "        [[[ 0.0763, -0.0541, -0.0353, -0.0101, -0.1135],\n",
            "          [ 0.0522, -0.0868,  0.0086, -0.0880, -0.0529],\n",
            "          [-0.0787,  0.1107,  0.0119, -0.0861,  0.1072],\n",
            "          [-0.0753, -0.0581,  0.0138, -0.1069,  0.0185],\n",
            "          [ 0.0679,  0.1153, -0.0795,  0.0956, -0.0879]],\n",
            "\n",
            "         [[ 0.0153,  0.0768,  0.0259,  0.0925,  0.1144],\n",
            "          [-0.0617, -0.0789,  0.0807,  0.0325, -0.0714],\n",
            "          [-0.0059,  0.0130,  0.0589, -0.0061, -0.0206],\n",
            "          [ 0.0007, -0.0871, -0.0387, -0.1153,  0.0122],\n",
            "          [ 0.0066,  0.1010, -0.0240, -0.0213, -0.0718]],\n",
            "\n",
            "         [[-0.1143, -0.1088,  0.0040,  0.0568, -0.0336],\n",
            "          [ 0.0734,  0.0182, -0.0582,  0.0756, -0.0806],\n",
            "          [ 0.0345,  0.1112,  0.0279,  0.0475, -0.0580],\n",
            "          [-0.0154, -0.0992,  0.0903,  0.0316, -0.0308],\n",
            "          [-0.0959, -0.0307,  0.0576,  0.0821, -0.0152]]],\n",
            "\n",
            "\n",
            "        [[[-0.0838, -0.1091,  0.1103,  0.0025,  0.0312],\n",
            "          [-0.0847, -0.0703, -0.1009,  0.0762, -0.1063],\n",
            "          [-0.0705,  0.0720, -0.0992,  0.0872, -0.0771],\n",
            "          [ 0.0579, -0.0332,  0.0307,  0.0391, -0.0497],\n",
            "          [-0.0493,  0.1092,  0.0673,  0.1143,  0.0937]],\n",
            "\n",
            "         [[-0.0485,  0.0991, -0.0509, -0.0475,  0.0031],\n",
            "          [-0.0212,  0.0084,  0.1125, -0.0376,  0.0488],\n",
            "          [-0.0651, -0.0784,  0.1030,  0.0257,  0.1126],\n",
            "          [ 0.0300, -0.0449, -0.0329, -0.0779, -0.1034],\n",
            "          [ 0.1066, -0.0966, -0.0769, -0.0772, -0.0912]],\n",
            "\n",
            "         [[ 0.0227,  0.0465, -0.1011,  0.0611,  0.0061],\n",
            "          [-0.0750,  0.0579, -0.0520, -0.1020, -0.0341],\n",
            "          [-0.0088,  0.0355, -0.0023, -0.0556,  0.0440],\n",
            "          [ 0.1148, -0.0994, -0.0542, -0.0291, -0.0468],\n",
            "          [-0.0257, -0.0601,  0.0626, -0.1094,  0.0507]]],\n",
            "\n",
            "\n",
            "        [[[-0.0013,  0.0234,  0.0020, -0.0013, -0.1050],\n",
            "          [-0.0261, -0.0381,  0.1107,  0.0037, -0.0760],\n",
            "          [-0.0673,  0.0486,  0.0511,  0.0459, -0.0483],\n",
            "          [ 0.0340,  0.0754, -0.0666,  0.1145,  0.0892],\n",
            "          [ 0.0102,  0.1059,  0.0333,  0.0274, -0.0498]],\n",
            "\n",
            "         [[ 0.0730, -0.0849,  0.0571,  0.0183,  0.1112],\n",
            "          [ 0.0919,  0.1037,  0.0603, -0.0364, -0.0181],\n",
            "          [ 0.0782,  0.1080,  0.0474,  0.1100, -0.0488],\n",
            "          [ 0.0699, -0.1111, -0.0757,  0.0620,  0.1105],\n",
            "          [ 0.0726,  0.0883, -0.0844, -0.1069,  0.0570]],\n",
            "\n",
            "         [[-0.0730, -0.1095,  0.0052,  0.0341, -0.0383],\n",
            "          [ 0.0266, -0.1131, -0.0127,  0.0452, -0.0769],\n",
            "          [ 0.0640,  0.0294, -0.0355,  0.0610,  0.0997],\n",
            "          [ 0.0002,  0.0233, -0.0874,  0.0043,  0.0125],\n",
            "          [-0.0206,  0.0290, -0.0010,  0.0035,  0.0951]]],\n",
            "\n",
            "\n",
            "        [[[-0.0355, -0.0906, -0.0325, -0.0862, -0.0505],\n",
            "          [ 0.0684,  0.0839,  0.0060, -0.0351, -0.0415],\n",
            "          [-0.0801,  0.0606,  0.0587, -0.0071, -0.0932],\n",
            "          [ 0.0269, -0.0862, -0.0055, -0.0027,  0.0137],\n",
            "          [-0.0565, -0.1146, -0.0475,  0.0261,  0.0986]],\n",
            "\n",
            "         [[ 0.0477, -0.0662,  0.0779,  0.0252, -0.0819],\n",
            "          [-0.0252, -0.0675,  0.0452,  0.0684,  0.0719],\n",
            "          [-0.0982,  0.0780,  0.0627,  0.0437, -0.1130],\n",
            "          [-0.0262, -0.0442, -0.0442,  0.0018, -0.0691],\n",
            "          [-0.0098,  0.0141,  0.0277, -0.0694,  0.1008]],\n",
            "\n",
            "         [[ 0.0281, -0.1140,  0.0356,  0.1084, -0.1099],\n",
            "          [ 0.0747,  0.1053, -0.0997,  0.0248, -0.0917],\n",
            "          [-0.0906,  0.0246,  0.0790,  0.0384, -0.1074],\n",
            "          [ 0.0169, -0.0985, -0.0045, -0.0877, -0.0282],\n",
            "          [ 0.0106,  0.0555, -0.0193,  0.0343, -0.0856]]],\n",
            "\n",
            "\n",
            "        [[[-0.0301, -0.0842, -0.0009,  0.0173,  0.0426],\n",
            "          [ 0.0945,  0.0881, -0.0920, -0.0061, -0.0219],\n",
            "          [ 0.0434, -0.1135,  0.1017,  0.0151, -0.0474],\n",
            "          [-0.0234, -0.0192, -0.0974,  0.0622, -0.0789],\n",
            "          [ 0.0576,  0.0556, -0.1016,  0.0360, -0.0537]],\n",
            "\n",
            "         [[ 0.0942,  0.1154, -0.0415,  0.0134, -0.0829],\n",
            "          [-0.0206, -0.0174,  0.0541, -0.0943, -0.0736],\n",
            "          [ 0.0494, -0.0699,  0.0810,  0.0080,  0.0558],\n",
            "          [-0.1115,  0.0981, -0.0407, -0.0161, -0.0756],\n",
            "          [ 0.0443,  0.0669,  0.0505, -0.0720,  0.0164]],\n",
            "\n",
            "         [[-0.0752, -0.0083, -0.0538,  0.0901, -0.0148],\n",
            "          [-0.0788,  0.0017, -0.0015, -0.0549, -0.0073],\n",
            "          [-0.0342, -0.0090, -0.0062,  0.0622, -0.0383],\n",
            "          [ 0.0973,  0.0228, -0.0937, -0.0652, -0.0013],\n",
            "          [ 0.0929,  0.0979,  0.0713,  0.0651, -0.0262]]],\n",
            "\n",
            "\n",
            "        [[[-0.0018,  0.0402,  0.1044,  0.0771,  0.0721],\n",
            "          [ 0.0575,  0.0239, -0.0221, -0.0357, -0.0753],\n",
            "          [-0.0742,  0.0946,  0.0922, -0.0531,  0.0237],\n",
            "          [-0.0187, -0.0351,  0.0023, -0.0752, -0.0165],\n",
            "          [ 0.0363, -0.0950, -0.0265,  0.0672,  0.0389]],\n",
            "\n",
            "         [[ 0.0266, -0.0060,  0.0902,  0.0390, -0.0183],\n",
            "          [-0.0509, -0.0157, -0.0933, -0.0929,  0.1084],\n",
            "          [ 0.0974, -0.0651, -0.0175,  0.0285, -0.0244],\n",
            "          [ 0.0327, -0.1095,  0.0307,  0.1101,  0.0170],\n",
            "          [ 0.0874,  0.0119, -0.1026,  0.0425, -0.0206]],\n",
            "\n",
            "         [[ 0.1121,  0.1123, -0.0220, -0.1134, -0.0340],\n",
            "          [ 0.0641,  0.0128,  0.0281,  0.1135, -0.0920],\n",
            "          [-0.0802, -0.0001,  0.0592, -0.1018, -0.0486],\n",
            "          [-0.1092, -0.0886,  0.0228, -0.0982, -0.0127],\n",
            "          [-0.0489,  0.1053,  0.0446,  0.0411,  0.0225]]]])), ('bias', tensor([-0.0656,  0.0769,  0.0943,  0.0301, -0.1009,  0.0857, -0.0016,  0.0504,\n",
            "         0.0736, -0.0648]))])\n"
          ]
        }
      ]
    },
    {
      "cell_type": "code",
      "source": [
        "# Get shapes of weight and bias tensors within conv_layer_2\n",
        "print(f\"conv_layer_2 weight shape: \\n{conv_layer_2.weight.shape} -> [out_channels=10, in_channels=3, kernel_size=5, kernel_size=5]\")\n",
        "print(f\"\\nconv_layer_2 bias shape: \\n{conv_layer_2.bias.shape} -> [out_channels=10]\")"
      ],
      "metadata": {
        "colab": {
          "base_uri": "https://localhost:8080/"
        },
        "id": "kbK6jV5RGtFq",
        "outputId": "f0853a7a-7043-46a2-c07f-1183b45f7df1"
      },
      "execution_count": 111,
      "outputs": [
        {
          "output_type": "stream",
          "name": "stdout",
          "text": [
            "conv_layer_2 weight shape: \n",
            "torch.Size([10, 3, 5, 5]) -> [out_channels=10, in_channels=3, kernel_size=5, kernel_size=5]\n",
            "\n",
            "conv_layer_2 bias shape: \n",
            "torch.Size([10]) -> [out_channels=10]\n"
          ]
        }
      ]
    },
    {
      "cell_type": "code",
      "source": [
        "## Stepping through nn.MaxPool2d()\n",
        "# Print out original image shape without and with unsqueezed dimension\n",
        "print(f\"Test image original shape: {test_image.shape}\")\n",
        "print(f\"Test image with unsqueezed dimension: {test_image.unsqueeze(dim=0).shape}\")\n",
        "\n",
        "# Create a sample nn.MaxPoo2d() layer\n",
        "max_pool_layer = nn.MaxPool2d(kernel_size=2)\n",
        "\n",
        "# Pass data through just the conv_layer\n",
        "test_image_through_conv = conv_layer(test_image.unsqueeze(dim=0))\n",
        "print(f\"Shape after going through conv_layer(): {test_image_through_conv.shape}\")\n",
        "\n",
        "# Pass data through the max pool layer\n",
        "test_image_through_conv_and_max_pool = max_pool_layer(test_image_through_conv)\n",
        "print(f\"Shape after going through conv_layer() and max_pool_layer(): {test_image_through_conv_and_max_pool.shape}\")"
      ],
      "metadata": {
        "colab": {
          "base_uri": "https://localhost:8080/"
        },
        "id": "ZnqBnpvQGtHp",
        "outputId": "bb0a6102-ac9f-49cd-f94e-707152668a77"
      },
      "execution_count": 112,
      "outputs": [
        {
          "output_type": "stream",
          "name": "stdout",
          "text": [
            "Test image original shape: torch.Size([3, 64, 64])\n",
            "Test image with unsqueezed dimension: torch.Size([1, 3, 64, 64])\n",
            "Shape after going through conv_layer(): torch.Size([1, 10, 62, 62])\n",
            "Shape after going through conv_layer() and max_pool_layer(): torch.Size([1, 10, 31, 31])\n"
          ]
        }
      ]
    },
    {
      "cell_type": "code",
      "source": [
        "torch.manual_seed(41)\n",
        "# Create a random tensor with a similiar number of dimensions to our images\n",
        "random_tensor = torch.randn(size=(1, 1, 2, 2))\n",
        "print(f\"Random tensor:\\n{random_tensor}\")\n",
        "print(f\"Random tensor shape: {random_tensor.shape}\")\n",
        "\n",
        "# Create a max pool layer\n",
        "max_pool_layer = nn.MaxPool2d(kernel_size=2) # see what happens when you change the kernel_size value \n",
        "\n",
        "# Pass the random tensor through the max pool layer\n",
        "max_pool_tensor = max_pool_layer(random_tensor)\n",
        "print(f\"\\nMax pool tensor:\\n{max_pool_tensor} <- this is the maximum value from random_tensor\")\n",
        "print(f\"Max pool tensor shape: {max_pool_tensor.shape}\")\n",
        "\n",
        "# Essentially, every layer in a neural network is trying to compress data from higher dimensional space to lower dimensional space."
      ],
      "metadata": {
        "colab": {
          "base_uri": "https://localhost:8080/"
        },
        "id": "WEXOcgdwGtJ3",
        "outputId": "af952361-a8fe-46ff-b9b0-8bacb2745982"
      },
      "execution_count": 113,
      "outputs": [
        {
          "output_type": "stream",
          "name": "stdout",
          "text": [
            "Random tensor:\n",
            "tensor([[[[ 0.7906, -0.6410],\n",
            "          [ 0.1660,  0.1553]]]])\n",
            "Random tensor shape: torch.Size([1, 1, 2, 2])\n",
            "\n",
            "Max pool tensor:\n",
            "tensor([[[[0.7906]]]]) <- this is the maximum value from random_tensor\n",
            "Max pool tensor shape: torch.Size([1, 1, 1, 1])\n"
          ]
        }
      ]
    },
    {
      "cell_type": "code",
      "source": [
        "## Setup a loss function and optimizer for model_2\n",
        "# Setup loss and optimizer\n",
        "loss_fn = nn.CrossEntropyLoss()\n",
        "optimizer = torch.optim.SGD(params=model_2.parameters(), \n",
        "                             lr=0.1)"
      ],
      "metadata": {
        "id": "dWkalgpUGtL1"
      },
      "execution_count": 114,
      "outputs": []
    },
    {
      "cell_type": "code",
      "source": [
        "## Training and testing model_2 using our training and test functions\n",
        "torch.manual_seed(41)\n",
        "\n",
        "# Train and test model \n",
        "epochs = 3\n",
        "for epoch in tqdm(range(epochs)):\n",
        "    print(f\"Epoch: {epoch}\\n---------\")\n",
        "    train_step(data_loader=train_dataloader, \n",
        "        model=model_2, \n",
        "        loss_fn=loss_fn,\n",
        "        optimizer=optimizer,\n",
        "        accuracy_fn=accuracy_fn,\n",
        "    )\n",
        "    test_step(data_loader=test_dataloader,\n",
        "        model=model_2,\n",
        "        loss_fn=loss_fn,\n",
        "        accuracy_fn=accuracy_fn,\n",
        "    )"
      ],
      "metadata": {
        "colab": {
          "base_uri": "https://localhost:8080/",
          "height": 309,
          "referenced_widgets": [
            "feb91d59b0324994ba5baa0c7edebf1d",
            "cd6ddad0e14b400d8a39da09af71c169",
            "9a6365df1f6c43e2a5c4a96e6114f576",
            "958cecf3b9cd43a1978e6eb1a802b3c4",
            "dc7658f1c3994241ad5b1d3d2bd15754",
            "f9f3148ca922497c856215e0a3369439",
            "1338b7e076404115a5b9f49cbd2a10ae",
            "34677e891fea4eb98f67eaeb8ab24728",
            "57ad75bbd8264e9ea9383c3cf4443968",
            "fe6ae7ea9f54421eb1c63eae1b6dbf5a",
            "fc68b6577c274c5d833fe3d86dd53167"
          ]
        },
        "id": "TLKQIYtCGtOF",
        "outputId": "2fa59773-05ed-40a4-97de-7aa6ea1aa389"
      },
      "execution_count": 116,
      "outputs": [
        {
          "output_type": "display_data",
          "data": {
            "text/plain": [
              "  0%|          | 0/3 [00:00<?, ?it/s]"
            ],
            "application/vnd.jupyter.widget-view+json": {
              "version_major": 2,
              "version_minor": 0,
              "model_id": "feb91d59b0324994ba5baa0c7edebf1d"
            }
          },
          "metadata": {}
        },
        {
          "output_type": "stream",
          "name": "stdout",
          "text": [
            "Epoch: 0\n",
            "---------\n",
            "Train loss: 0.60811 | Train accuracy: 78.31%\n",
            "Test loss: 0.43114 | Test accuracy: 84.28%\n",
            "\n",
            "Epoch: 1\n",
            "---------\n",
            "Train loss: 0.36319 | Train accuracy: 86.94%\n",
            "Test loss: 0.34424 | Test accuracy: 87.64%\n",
            "\n",
            "Epoch: 2\n",
            "---------\n",
            "Train loss: 0.32349 | Train accuracy: 88.28%\n",
            "Test loss: 0.31807 | Test accuracy: 88.48%\n",
            "\n"
          ]
        }
      ]
    },
    {
      "cell_type": "code",
      "source": [
        "# Get model_2 results \n",
        "model_2_results = eval_model(\n",
        "    model=model_2,\n",
        "    data_loader=test_dataloader,\n",
        "    loss_fn=loss_fn,\n",
        "    accuracy_fn=accuracy_fn\n",
        ")\n",
        "model_2_results"
      ],
      "metadata": {
        "colab": {
          "base_uri": "https://localhost:8080/"
        },
        "id": "Q5cG7fzWGtP2",
        "outputId": "18488cf0-e397-46a8-f71f-c8a404add161"
      },
      "execution_count": 117,
      "outputs": [
        {
          "output_type": "execute_result",
          "data": {
            "text/plain": [
              "{'model_acc': 88.47843450479233,\n",
              " 'model_loss': 0.31806617975234985,\n",
              " 'model_name': 'FashionModelV2'}"
            ]
          },
          "metadata": {},
          "execution_count": 117
        }
      ]
    },
    {
      "cell_type": "code",
      "source": [
        "## Compare results\n",
        "import pandas as pd\n",
        "compare_results = pd.DataFrame([model_0_results, model_1_results, model_2_results])\n",
        "compare_results"
      ],
      "metadata": {
        "colab": {
          "base_uri": "https://localhost:8080/",
          "height": 143
        },
        "id": "nYAf3fccI_MV",
        "outputId": "a832f0d5-788d-46df-ef72-e1a4c821faa1"
      },
      "execution_count": 119,
      "outputs": [
        {
          "output_type": "execute_result",
          "data": {
            "text/plain": [
              "       model_name  model_loss  model_acc\n",
              "0  FashionModelV0    0.479625  83.246805\n",
              "1  FashionModelV1    0.451040  84.045527\n",
              "2  FashionModelV2    0.318066  88.478435"
            ],
            "text/html": [
              "\n",
              "  <div id=\"df-7ab9bc46-b24c-4d92-9eb5-f66c041a71ea\">\n",
              "    <div class=\"colab-df-container\">\n",
              "      <div>\n",
              "<style scoped>\n",
              "    .dataframe tbody tr th:only-of-type {\n",
              "        vertical-align: middle;\n",
              "    }\n",
              "\n",
              "    .dataframe tbody tr th {\n",
              "        vertical-align: top;\n",
              "    }\n",
              "\n",
              "    .dataframe thead th {\n",
              "        text-align: right;\n",
              "    }\n",
              "</style>\n",
              "<table border=\"1\" class=\"dataframe\">\n",
              "  <thead>\n",
              "    <tr style=\"text-align: right;\">\n",
              "      <th></th>\n",
              "      <th>model_name</th>\n",
              "      <th>model_loss</th>\n",
              "      <th>model_acc</th>\n",
              "    </tr>\n",
              "  </thead>\n",
              "  <tbody>\n",
              "    <tr>\n",
              "      <th>0</th>\n",
              "      <td>FashionModelV0</td>\n",
              "      <td>0.479625</td>\n",
              "      <td>83.246805</td>\n",
              "    </tr>\n",
              "    <tr>\n",
              "      <th>1</th>\n",
              "      <td>FashionModelV1</td>\n",
              "      <td>0.451040</td>\n",
              "      <td>84.045527</td>\n",
              "    </tr>\n",
              "    <tr>\n",
              "      <th>2</th>\n",
              "      <td>FashionModelV2</td>\n",
              "      <td>0.318066</td>\n",
              "      <td>88.478435</td>\n",
              "    </tr>\n",
              "  </tbody>\n",
              "</table>\n",
              "</div>\n",
              "      <button class=\"colab-df-convert\" onclick=\"convertToInteractive('df-7ab9bc46-b24c-4d92-9eb5-f66c041a71ea')\"\n",
              "              title=\"Convert this dataframe to an interactive table.\"\n",
              "              style=\"display:none;\">\n",
              "        \n",
              "  <svg xmlns=\"http://www.w3.org/2000/svg\" height=\"24px\"viewBox=\"0 0 24 24\"\n",
              "       width=\"24px\">\n",
              "    <path d=\"M0 0h24v24H0V0z\" fill=\"none\"/>\n",
              "    <path d=\"M18.56 5.44l.94 2.06.94-2.06 2.06-.94-2.06-.94-.94-2.06-.94 2.06-2.06.94zm-11 1L8.5 8.5l.94-2.06 2.06-.94-2.06-.94L8.5 2.5l-.94 2.06-2.06.94zm10 10l.94 2.06.94-2.06 2.06-.94-2.06-.94-.94-2.06-.94 2.06-2.06.94z\"/><path d=\"M17.41 7.96l-1.37-1.37c-.4-.4-.92-.59-1.43-.59-.52 0-1.04.2-1.43.59L10.3 9.45l-7.72 7.72c-.78.78-.78 2.05 0 2.83L4 21.41c.39.39.9.59 1.41.59.51 0 1.02-.2 1.41-.59l7.78-7.78 2.81-2.81c.8-.78.8-2.07 0-2.86zM5.41 20L4 18.59l7.72-7.72 1.47 1.35L5.41 20z\"/>\n",
              "  </svg>\n",
              "      </button>\n",
              "      \n",
              "  <style>\n",
              "    .colab-df-container {\n",
              "      display:flex;\n",
              "      flex-wrap:wrap;\n",
              "      gap: 12px;\n",
              "    }\n",
              "\n",
              "    .colab-df-convert {\n",
              "      background-color: #E8F0FE;\n",
              "      border: none;\n",
              "      border-radius: 50%;\n",
              "      cursor: pointer;\n",
              "      display: none;\n",
              "      fill: #1967D2;\n",
              "      height: 32px;\n",
              "      padding: 0 0 0 0;\n",
              "      width: 32px;\n",
              "    }\n",
              "\n",
              "    .colab-df-convert:hover {\n",
              "      background-color: #E2EBFA;\n",
              "      box-shadow: 0px 1px 2px rgba(60, 64, 67, 0.3), 0px 1px 3px 1px rgba(60, 64, 67, 0.15);\n",
              "      fill: #174EA6;\n",
              "    }\n",
              "\n",
              "    [theme=dark] .colab-df-convert {\n",
              "      background-color: #3B4455;\n",
              "      fill: #D2E3FC;\n",
              "    }\n",
              "\n",
              "    [theme=dark] .colab-df-convert:hover {\n",
              "      background-color: #434B5C;\n",
              "      box-shadow: 0px 1px 3px 1px rgba(0, 0, 0, 0.15);\n",
              "      filter: drop-shadow(0px 1px 2px rgba(0, 0, 0, 0.3));\n",
              "      fill: #FFFFFF;\n",
              "    }\n",
              "  </style>\n",
              "\n",
              "      <script>\n",
              "        const buttonEl =\n",
              "          document.querySelector('#df-7ab9bc46-b24c-4d92-9eb5-f66c041a71ea button.colab-df-convert');\n",
              "        buttonEl.style.display =\n",
              "          google.colab.kernel.accessAllowed ? 'block' : 'none';\n",
              "\n",
              "        async function convertToInteractive(key) {\n",
              "          const element = document.querySelector('#df-7ab9bc46-b24c-4d92-9eb5-f66c041a71ea');\n",
              "          const dataTable =\n",
              "            await google.colab.kernel.invokeFunction('convertToInteractive',\n",
              "                                                     [key], {});\n",
              "          if (!dataTable) return;\n",
              "\n",
              "          const docLinkHtml = 'Like what you see? Visit the ' +\n",
              "            '<a target=\"_blank\" href=https://colab.research.google.com/notebooks/data_table.ipynb>data table notebook</a>'\n",
              "            + ' to learn more about interactive tables.';\n",
              "          element.innerHTML = '';\n",
              "          dataTable['output_type'] = 'display_data';\n",
              "          await google.colab.output.renderOutput(dataTable, element);\n",
              "          const docLink = document.createElement('div');\n",
              "          docLink.innerHTML = docLinkHtml;\n",
              "          element.appendChild(docLink);\n",
              "        }\n",
              "      </script>\n",
              "    </div>\n",
              "  </div>\n",
              "  "
            ]
          },
          "metadata": {},
          "execution_count": 119
        }
      ]
    },
    {
      "cell_type": "code",
      "source": [
        "# Visualize our model results\n",
        "compare_results.set_index(\"model_name\")[\"model_acc\"].plot(kind=\"barh\")\n",
        "plt.xlabel(\"accuracy (%)\")\n",
        "plt.ylabel(\"model\");"
      ],
      "metadata": {
        "colab": {
          "base_uri": "https://localhost:8080/",
          "height": 279
        },
        "id": "KsErduooIeQm",
        "outputId": "7d157c5d-a907-48b5-d402-3461dc8464cc"
      },
      "execution_count": 120,
      "outputs": [
        {
          "output_type": "display_data",
          "data": {
            "text/plain": [
              "<Figure size 432x288 with 1 Axes>"
            ],
            "image/png": "[encoded data removed]"
          },
          "metadata": {
            "needs_background": "light"
          }
        }
      ]
    },
    {
      "cell_type": "code",
      "source": [
        "## Make and evaluate random predictions with best model\n",
        "def make_predictions(model: torch.nn.Module, data: list):\n",
        "    pred_probs = []\n",
        "    model.eval()\n",
        "    with torch.inference_mode():\n",
        "        for sample in data:\n",
        "            # Prepare sample\n",
        "            sample = torch.unsqueeze(sample, dim=0) # Add an extra dimension\n",
        "\n",
        "            # Forward pass (model outputs raw logit)\n",
        "            pred_logit = model(sample)\n",
        "\n",
        "            # Get prediction probability (logit -> prediction probability)\n",
        "            pred_prob = torch.softmax(pred_logit.squeeze(), dim=0)\n",
        "\n",
        "            # Get pred_prob off GPU for further calculations\n",
        "            pred_probs.append(pred_prob.cpu())\n",
        "            \n",
        "    # Stack the pred_probs to turn list into a tensor\n",
        "    return torch.stack(pred_probs)"
      ],
      "metadata": {
        "id": "od-wLuygIeSi"
      },
      "execution_count": 121,
      "outputs": []
    },
    {
      "cell_type": "code",
      "source": [
        "import random\n",
        "random.seed(41)\n",
        "test_samples = []\n",
        "test_labels = []\n",
        "for sample, label in random.sample(list(test_data), k=9):\n",
        "    test_samples.append(sample)\n",
        "    test_labels.append(label)\n",
        "\n",
        "# View the first test sample shape and label\n",
        "print(f\"Test sample image shape: {test_samples[0].shape}\\nTest sample label: {test_labels[0]} ({class_names[test_labels[0]]})\")"
      ],
      "metadata": {
        "colab": {
          "base_uri": "https://localhost:8080/"
        },
        "id": "p_i_F2DCJGRK",
        "outputId": "4d8cf7bd-0de4-4890-d5ad-4c67dcf5407f"
      },
      "execution_count": 122,
      "outputs": [
        {
          "output_type": "stream",
          "name": "stdout",
          "text": [
            "Test sample image shape: torch.Size([1, 28, 28])\n",
            "Test sample label: 4 (Coat)\n"
          ]
        }
      ]
    },
    {
      "cell_type": "code",
      "source": [
        "# Make predictions on test samples with model 2\n",
        "pred_probs= make_predictions(model=model_2, \n",
        "                             data=test_samples)\n",
        "\n",
        "# View first two prediction probabilities list\n",
        "pred_probs[:2]"
      ],
      "metadata": {
        "colab": {
          "base_uri": "https://localhost:8080/"
        },
        "id": "waIM1F2sJGTl",
        "outputId": "9bbc0c64-c5ca-424b-859f-0c25c862844b"
      },
      "execution_count": 123,
      "outputs": [
        {
          "output_type": "execute_result",
          "data": {
            "text/plain": [
              "tensor([[2.6909e-01, 8.3390e-06, 6.7102e-03, 2.9709e-01, 3.5501e-01, 8.8857e-06,\n",
              "         7.0438e-02, 3.1035e-06, 1.6375e-03, 2.2241e-06],\n",
              "        [9.5685e-01, 1.8503e-06, 3.8020e-04, 8.8892e-04, 1.2826e-05, 5.6760e-08,\n",
              "         4.1839e-02, 1.9597e-07, 2.8216e-05, 6.8519e-08]])"
            ]
          },
          "metadata": {},
          "execution_count": 123
        }
      ]
    },
    {
      "cell_type": "code",
      "source": [
        "# Turn the prediction probabilities into prediction labels by taking the argmax()\n",
        "pred_classes = pred_probs.argmax(dim=1)\n",
        "pred_classes"
      ],
      "metadata": {
        "colab": {
          "base_uri": "https://localhost:8080/"
        },
        "id": "UFNXLOMXJGVv",
        "outputId": "b2fc64f3-09c9-4a08-e6c6-27ccafa2f816"
      },
      "execution_count": 124,
      "outputs": [
        {
          "output_type": "execute_result",
          "data": {
            "text/plain": [
              "tensor([4, 0, 6, 8, 2, 7, 4, 0, 1])"
            ]
          },
          "metadata": {},
          "execution_count": 124
        }
      ]
    },
    {
      "cell_type": "code",
      "source": [
        "# Are our predictions in the same form as our test labels? \n",
        "test_labels, pred_classes"
      ],
      "metadata": {
        "colab": {
          "base_uri": "https://localhost:8080/"
        },
        "id": "OWaH9-ORJGYB",
        "outputId": "6bf28c24-2a07-4ad0-9be2-2d49776df4d2"
      },
      "execution_count": 125,
      "outputs": [
        {
          "output_type": "execute_result",
          "data": {
            "text/plain": [
              "([4, 0, 2, 8, 2, 7, 4, 0, 1], tensor([4, 0, 6, 8, 2, 7, 4, 0, 1]))"
            ]
          },
          "metadata": {},
          "execution_count": 125
        }
      ]
    },
    {
      "cell_type": "code",
      "source": [
        "# Plot predictions\n",
        "plt.figure(figsize=(9, 9))\n",
        "nrows = 3\n",
        "ncols = 3\n",
        "for i, sample in enumerate(test_samples):\n",
        "  # Create a subplot\n",
        "  plt.subplot(nrows, ncols, i+1)\n",
        "\n",
        "  # Plot the target image\n",
        "  plt.imshow(sample.squeeze(), cmap=\"gray\")\n",
        "\n",
        "  # Find the prediction label (in text form, e.g. \"Sandal\")\n",
        "  pred_label = class_names[pred_classes[i]]\n",
        "\n",
        "  # Get the truth label (in text form, e.g. \"T-shirt\")\n",
        "  truth_label = class_names[test_labels[i]] \n",
        "\n",
        "  # Create the title text of the plot\n",
        "  title_text = f\"Pred: {pred_label} | Truth: {truth_label}\"\n",
        "  \n",
        "  # Check for equality and change title colour accordingly\n",
        "  if pred_label == truth_label:\n",
        "      plt.title(title_text, fontsize=10, c=\"g\") # green text if correct\n",
        "  else:\n",
        "      plt.title(title_text, fontsize=10, c=\"r\") # red text if wrong\n",
        "  plt.axis(False);"
      ],
      "metadata": {
        "colab": {
          "base_uri": "https://localhost:8080/",
          "height": 534
        },
        "id": "AI9NX_-_JGaB",
        "outputId": "e97a0466-bdab-4449-fcaf-898614a5b513"
      },
      "execution_count": 126,
      "outputs": [
        {
          "output_type": "display_data",
          "data": {
            "text/plain": [
              "<Figure size 648x648 with 9 Axes>"
            ],
            "image/png": "[encoded data removed]"
          },
          "metadata": {
            "needs_background": "light"
          }
        }
      ]
    },
    {
      "cell_type": "code",
      "source": [
        "## Making a confusion matrix for further prediction evaluation\n",
        "# Import tqdm for progress bar\n",
        "from tqdm.auto import tqdm\n",
        "\n",
        "# 1. Make predictions with trained model\n",
        "y_preds = []\n",
        "model_2.eval()\n",
        "with torch.inference_mode():\n",
        "  for X, y in tqdm(test_dataloader, desc=\"Making predictions\"):\n",
        "    # Do the forward pass\n",
        "    y_logit = model_2(X)\n",
        "    # Turn predictions from logits -> prediction probabilities -> predictions labels\n",
        "    y_pred = torch.softmax(y_logit.squeeze(), dim=0).argmax(dim=1)\n",
        "    # Put predictions on CPU for evaluation\n",
        "    y_preds.append(y_pred)\n",
        "# Concatenate list of predictions into a tensor\n",
        "y_pred_tensor = torch.cat(y_preds)"
      ],
      "metadata": {
        "colab": {
          "base_uri": "https://localhost:8080/",
          "height": 49,
          "referenced_widgets": [
            "6f83b7e21dc54698b31c4378ce6c7fb6",
            "936dda372bb34d39b1ac01abaf86366a",
            "db2c86a6ad0a4bc190f96447bcf863e9",
            "82c719318e1d445095ddc6066b36f9e0",
            "46cee5e3886e4828b84cae864658a3c1",
            "ab22653d458b44ecac7c0e271ae27f10",
            "cf82f8d77c184b04b6da45fa28b7e842",
            "ba5f650e5bbb4f56a305431dbdd060a3",
            "cb13d759ebfe475b83018b50ed4c6c08",
            "ded65d90680a4fb98dce197fd3f765a8",
            "5080d0ece54844dd8aa7cd917d9eb480"
          ]
        },
        "id": "2wOLftUHJw5Q",
        "outputId": "f4be2442-854b-48e7-9221-e62e78c4e20b"
      },
      "execution_count": 127,
      "outputs": [
        {
          "output_type": "display_data",
          "data": {
            "text/plain": [
              "Making predictions:   0%|          | 0/313 [00:00<?, ?it/s]"
            ],
            "application/vnd.jupyter.widget-view+json": {
              "version_major": 2,
              "version_minor": 0,
              "model_id": "6f83b7e21dc54698b31c4378ce6c7fb6"
            }
          },
          "metadata": {}
        }
      ]
    },
    {
      "cell_type": "code",
      "source": [
        "# See if torchmetrics exists, if not, install it\n",
        "try:\n",
        "    import torchmetrics, mlxtend\n",
        "    print(f\"mlxtend version: {mlxtend.__version__}\")\n",
        "    assert int(mlxtend.__version__.split(\".\")[1]) >= 19, \"mlxtend verison should be 0.19.0 or higher\"\n",
        "except:\n",
        "    !pip install -q torchmetrics -U mlxtend # <- Note: If you're using Google Colab, this may require restarting the runtime\n",
        "    import torchmetrics, mlxtend\n",
        "    print(f\"mlxtend version: {mlxtend.__version__}\")"
      ],
      "metadata": {
        "colab": {
          "base_uri": "https://localhost:8080/"
        },
        "id": "C-g8XIO_Jw7i",
        "outputId": "bdce075b-f49d-40a0-ab7d-45bcaaa50f0e"
      },
      "execution_count": 128,
      "outputs": [
        {
          "output_type": "stream",
          "name": "stdout",
          "text": [
            "\u001b[K     |████████████████████████████████| 419 kB 30.9 MB/s \n",
            "\u001b[K     |████████████████████████████████| 1.3 MB 52.7 MB/s \n",
            "\u001b[?25hmlxtend version: 0.20.0\n"
          ]
        }
      ]
    },
    {
      "cell_type": "code",
      "source": [
        "import mlxtend \n",
        "from torchmetrics import ConfusionMatrix\n",
        "from mlxtend.plotting import plot_confusion_matrix\n",
        "\n",
        "# 2. Setup confusion matrix instance and compare predictions to targets\n",
        "confmat = ConfusionMatrix(num_classes=len(class_names))\n",
        "confmat_tensor = confmat(preds=y_pred_tensor,\n",
        "                         target=test_data.targets)\n",
        "\n",
        "# 3. Plot the confusion matrix\n",
        "fig, ax = plot_confusion_matrix(\n",
        "    conf_mat=confmat_tensor.numpy(), # matplotlib likes working with NumPy \n",
        "    class_names=class_names, # turn the row and column labels into class names\n",
        "    figsize=(10, 7)\n",
        ");"
      ],
      "metadata": {
        "colab": {
          "base_uri": "https://localhost:8080/",
          "height": 477
        },
        "id": "RO6BMY31KbF6",
        "outputId": "8be534fe-faa1-47c1-a18c-3bc545cbf655"
      },
      "execution_count": 129,
      "outputs": [
        {
          "output_type": "display_data",
          "data": {
            "text/plain": [
              "<Figure size 720x504 with 1 Axes>"
            ],
            "image/png": "[encoded data removed]"
          },
          "metadata": {
            "needs_background": "light"
          }
        }
      ]
    },
    {
      "cell_type": "code",
      "source": [
        "## Save and load best performing model\n",
        "from pathlib import Path\n",
        "\n",
        "# Create models directory (if it doesn't already exist), see: https://docs.python.org/3/library/pathlib.html#pathlib.Path.mkdir\n",
        "MODEL_PATH = Path(\"models\")\n",
        "MODEL_PATH.mkdir(parents=True, # create parent directories if needed\n",
        "                 exist_ok=True # if models directory already exists, don't error\n",
        ")\n",
        "\n",
        "# Create model save path\n",
        "MODEL_NAME = \"03_pytorch_computer_vision_model_2.pth\"\n",
        "MODEL_SAVE_PATH = MODEL_PATH / MODEL_NAME\n",
        "\n",
        "# Save the model state dict\n",
        "print(f\"Saving model to: {MODEL_SAVE_PATH}\")\n",
        "torch.save(obj=model_2.state_dict(), # only saving the state_dict() only saves the learned parameters\n",
        "           f=MODEL_SAVE_PATH)"
      ],
      "metadata": {
        "colab": {
          "base_uri": "https://localhost:8080/"
        },
        "id": "ZA0x0B8AKbIF",
        "outputId": "7aaaf24c-06cf-409b-e126-9716690325a4"
      },
      "execution_count": 130,
      "outputs": [
        {
          "output_type": "stream",
          "name": "stdout",
          "text": [
            "Saving model to: models/03_pytorch_computer_vision_model_2.pth\n"
          ]
        }
      ]
    },
    {
      "cell_type": "code",
      "source": [
        "# Create a new instance of FashionMNISTModelV2 (the same class as our saved state_dict())\n",
        "# Note: loading model will error if the shapes here aren't the same as the saved version\n",
        "loaded_model_2 = FashionModelV2(input_shape=1, \n",
        "                                    hidden_units=10, # try changing this to 128 and seeing what happens \n",
        "                                    output_shape=10) \n",
        "\n",
        "# Load in the saved state_dict()\n",
        "loaded_model_2.load_state_dict(torch.load(f=MODEL_SAVE_PATH))"
      ],
      "metadata": {
        "colab": {
          "base_uri": "https://localhost:8080/"
        },
        "id": "wsy_v1RZKwxU",
        "outputId": "8f641696-d330-4b98-c3d0-6d2c6f4a0fc8"
      },
      "execution_count": 131,
      "outputs": [
        {
          "output_type": "execute_result",
          "data": {
            "text/plain": [
              "<All keys matched successfully>"
            ]
          },
          "metadata": {},
          "execution_count": 131
        }
      ]
    },
    {
      "cell_type": "code",
      "source": [
        "# Evaluate loaded model\n",
        "torch.manual_seed(42)\n",
        "\n",
        "loaded_model_2_results = eval_model(\n",
        "    model=loaded_model_2,\n",
        "    data_loader=test_dataloader,\n",
        "    loss_fn=loss_fn, \n",
        "    accuracy_fn=accuracy_fn\n",
        ")\n",
        "\n",
        "loaded_model_2_results"
      ],
      "metadata": {
        "colab": {
          "base_uri": "https://localhost:8080/"
        },
        "id": "-0mm1J8hKw2G",
        "outputId": "51a9c866-2613-4510-830c-9597f54f8b42"
      },
      "execution_count": 132,
      "outputs": [
        {
          "output_type": "execute_result",
          "data": {
            "text/plain": [
              "{'model_acc': 88.47843450479233,\n",
              " 'model_loss': 0.31806617975234985,\n",
              " 'model_name': 'FashionModelV2'}"
            ]
          },
          "metadata": {},
          "execution_count": 132
        }
      ]
    },
    {
      "cell_type": "code",
      "source": [
        "model_2_results"
      ],
      "metadata": {
        "colab": {
          "base_uri": "https://localhost:8080/"
        },
        "id": "AEcZLPGAKjvE",
        "outputId": "893593d5-c65d-4496-8326-8a8c3efe042d"
      },
      "execution_count": 133,
      "outputs": [
        {
          "output_type": "execute_result",
          "data": {
            "text/plain": [
              "{'model_acc': 88.47843450479233,\n",
              " 'model_loss': 0.31806617975234985,\n",
              " 'model_name': 'FashionModelV2'}"
            ]
          },
          "metadata": {},
          "execution_count": 133
        }
      ]
    },
    {
      "cell_type": "code",
      "source": [
        "# Check to see if results are close to each other (if they are very far away, there may be an error)\n",
        "torch.isclose(torch.tensor(model_2_results[\"model_loss\"]), \n",
        "              torch.tensor(loaded_model_2_results[\"model_loss\"]),\n",
        "              atol=1e-08, # absolute tolerance\n",
        "              rtol=0.0001) # relative tolerance"
      ],
      "metadata": {
        "colab": {
          "base_uri": "https://localhost:8080/"
        },
        "id": "3D10Q6wTKjxU",
        "outputId": "abf70ec3-d6a6-4055-a1e8-989ad731498a"
      },
      "execution_count": 134,
      "outputs": [
        {
          "output_type": "execute_result",
          "data": {
            "text/plain": [
              "tensor(True)"
            ]
          },
          "metadata": {},
          "execution_count": 134
        }
      ]
    },
    {
      "cell_type": "code",
      "source": [
        ""
      ],
      "metadata": {
        "id": "AJdK6sHJK8cF"
      },
      "execution_count": null,
      "outputs": []
    },
    {
      "cell_type": "code",
      "source": [
        ""
      ],
      "metadata": {
        "id": "JWy9pHefK8eJ"
      },
      "execution_count": null,
      "outputs": []
    }
  ]
}