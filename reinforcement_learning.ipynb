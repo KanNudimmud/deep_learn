{
  "cells": [
    {
      "cell_type": "markdown",
      "metadata": {
        "id": "WoXYKhfZMHiw"
      },
      "source": [
        "# Reinforcement Learning\n",
        "\n",
        "Reinforcement learning (RL) is a subset of machine learning which poses learning problems as interactions between agents and environments. It often assumes agents have no prior knowledge of a world, so they must learn to navigate environments by optimizing a reward function. Within an environment, an agent can take certain actions and receive feedback, in the form of positive or negative rewards, with respect to their decision. As such, an agent's feedback loop is somewhat akin to the idea of \"trial and error\", or the manner in which a child might learn to distinguish between \"good\" and \"bad\" actions.\n",
        "\n",
        "In practical terms, our RL agent will interact with the environment by taking an action at each timestep, receiving a corresponding reward, and updating its state according to what it has \"learned\".  \n",
        "\n",
        "While the ultimate goal of reinforcement learning is to teach agents to act in the real, physical world, simulated environments -- like games and simulation engines -- provide a convenient proving ground for developing RL algorithms and agents.\n",
        "\n",
        "The goal of training an RL agent is to determine the best next step to take to earn the greatest final payoff or return. In this session, we focus on building a reinforcement learning algorithm to master two different environments with varying complexity. \n",
        "\n",
        "1.   **Cartpole**:   Balance a pole, protruding from a cart, in an upright position by only moving the base left or right. Environment with a low-dimensional observation space.\n",
        "2.   [**Driving in VISTA**](https://www.mit.edu/~amini/pubs/pdf/learning-in-simulation-vista.pdf): Learn a driving control policy for an autonomous vehicle, end-to-end from raw pixel inputs and entirely in the data-driven simulation environment of VISTA. Environment with a high-dimensional observation space -- learning directly from raw pixels.\n",
        "\n",
        "Let's get started! First we'll import TensorFlow, the course package, and some dependencies.\n"
      ]
    },
    {
      "cell_type": "code",
      "execution_count": 1,
      "metadata": {
        "id": "KR9QHuleJ9Bh",
        "colab": {
          "base_uri": "https://localhost:8080/"
        },
        "outputId": "1293f0b5-4105-4632-d42d-bd3b4f439a68"
      },
      "outputs": [
        {
          "output_type": "stream",
          "name": "stdout",
          "text": [
            "Colab only includes TensorFlow 2.x; %tensorflow_version has no effect.\n",
            "Installing MIT deep learning package... Done\n"
          ]
        }
      ],
      "source": [
        "# Import Tensorflow 2.0\n",
        "%tensorflow_version 2.x\n",
        "import tensorflow as tf\n",
        "\n",
        "gpus = tf.config.experimental.list_physical_devices('GPU')\n",
        "if gpus:\n",
        "    for gpu in gpus:\n",
        "        tf.config.experimental.set_memory_growth(gpu, True)\n",
        "\n",
        "# Download and import the MIT 6.S191 package\n",
        "!printf \"Installing MIT deep learning package... \"\n",
        "!pip install --upgrade git+https://github.com/aamini/introtodeeplearning.git &> /dev/null\n",
        "!echo \"Done\""
      ]
    },
    {
      "cell_type": "code",
      "execution_count": 2,
      "metadata": {
        "id": "EvdePP-VyVWp",
        "colab": {
          "base_uri": "https://localhost:8080/"
        },
        "outputId": "35cb343f-da13-4910-ca04-389fffa08f9f"
      },
      "outputs": [
        {
          "output_type": "stream",
          "name": "stderr",
          "text": [
            "/usr/local/lib/python3.7/dist-packages/tensorflow_probability/python/internal/backend/numpy/dtype.py:82: DeprecationWarning: `np.bool` is a deprecated alias for the builtin `bool`. To silence this warning, use `bool` by itself. Doing this will not modify any behavior and is safe. If you specifically wanted the numpy scalar type, use `np.bool_` here.\n",
            "Deprecated in NumPy 1.20; for more details and guidance: https://numpy.org/devdocs/release/1.20.0-notes.html#deprecations\n",
            "  bool = np.bool  # pylint: disable=redefined-builtin\n",
            "/usr/local/lib/python3.7/dist-packages/tensorflow_probability/python/internal/backend/numpy/dtype.py:112: DeprecationWarning: `np.str` is a deprecated alias for the builtin `str`. To silence this warning, use `str` by itself. Doing this will not modify any behavior and is safe. If you specifically wanted the numpy scalar type, use `np.str_` here.\n",
            "Deprecated in NumPy 1.20; for more details and guidance: https://numpy.org/devdocs/release/1.20.0-notes.html#deprecations\n",
            "  string = getattr(np, 'str', getattr(np, 'string', None))\n",
            "/usr/local/lib/python3.7/dist-packages/tensorflow_probability/python/mcmc/sample_halton_sequence.py:373: DeprecationWarning: `np.bool` is a deprecated alias for the builtin `bool`. To silence this warning, use `bool` by itself. Doing this will not modify any behavior and is safe. If you specifically wanted the numpy scalar type, use `np.bool_` here.\n",
            "Deprecated in NumPy 1.20; for more details and guidance: https://numpy.org/devdocs/release/1.20.0-notes.html#deprecations\n",
            "  sieve = np.ones(n // 3 + (n % 6 == 2), dtype=np.bool)\n"
          ]
        }
      ],
      "source": [
        "#Install some dependencies for visualizing the agents\n",
        "!apt-get install -y xvfb python-opengl x11-utils &> /dev/null\n",
        "!pip install gym pyvirtualdisplay scikit-video ffio pyrender &> /dev/null\n",
        "!pip install tensorflow_probability==0.12.0 &> /dev/null\n",
        "import os\n",
        "os.environ['PYOPENGL_PLATFORM'] = 'egl'\n",
        "\n",
        "import numpy as np\n",
        "import matplotlib, cv2\n",
        "import matplotlib.pyplot as plt\n",
        "import base64, io, os, time, gym\n",
        "import IPython, functools\n",
        "import time\n",
        "from tqdm import tqdm\n",
        "import tensorflow_probability as tfp\n",
        "\n",
        "import mitdeeplearning as mdl"
      ]
    },
    {
      "cell_type": "markdown",
      "metadata": {
        "id": "zmrHSiXKTXTY"
      },
      "source": [
        "Before we dive in, let's take a step back and outline our approach, which is generally applicable to reinforcement learning problems in general:\n",
        "\n",
        "1. **Initialize our environment and our agent**: here we will describe the different observations and actions the agent can make in the environemnt.\n",
        "2. **Define our agent's memory**: this will enable the agent to remember its past actions, observations, and rewards.\n",
        "3. **Define a reward function**: describes the reward associated with an action or sequence of actions.\n",
        "4. **Define the learning algorithm**: this will be used to reinforce the agent's good behaviors and discourage bad behaviors.\n"
      ]
    },
    {
      "cell_type": "markdown",
      "metadata": {
        "id": "UT7YL8KBJIIc"
      },
      "source": [
        "# Part 1: Cartpole\n",
        "\n",
        "## Define the Cartpole environment and agent\n",
        "\n",
        "### Environment \n",
        "\n",
        "In order to model the environment for the Cartpole task, we'll be using a toolkit developed by OpenAI called [OpenAI Gym](https://gym.openai.com/). It provides several pre-defined environments for training and testing reinforcement learning agents, including those for classic physics control tasks, Atari video games, and robotic simulations. To access the Cartpole environment, we can use `env = gym.make(\"CartPole-v0\")`, which we gained access to when we imported the `gym` package. We can instantiate different [environments](https://gym.openai.com/envs/#classic_control) by passing the environment name to the `make` function.\n",
        "\n",
        "One issue we might experience when developing RL algorithms is that many aspects of the learning process are inherently random: initializing game states, changes in the environment, and the agent's actions. As such, it can be helpful to set a initial \"seed\" for the environment to ensure some level of reproducibility. Much like you might use `numpy.random.seed`, we can call the comparable function in gym, `seed`, with our defined environment to ensure the environment's random variables are initialized the same each time."
      ]
    },
    {
      "cell_type": "code",
      "execution_count": 6,
      "metadata": {
        "id": "quv9SC0iIYFm",
        "colab": {
          "base_uri": "https://localhost:8080/"
        },
        "outputId": "63b04581-2b32-4901-d28f-3c6ebcfacfbd"
      },
      "outputs": [
        {
          "output_type": "execute_result",
          "data": {
            "text/plain": [
              "[1]"
            ]
          },
          "metadata": {},
          "execution_count": 6
        }
      ],
      "source": [
        "### Instantiate the Cartpole environment ###\n",
        "\n",
        "env = gym.make(\"CartPole-v1\",new_step_api=True)\n",
        "env.seed(1)"
      ]
    },
    {
      "cell_type": "markdown",
      "metadata": {
        "id": "mhEITUcKK455"
      },
      "source": [
        "In Cartpole, a pole is attached by an un-actuated joint to a cart, which moves along a frictionless track. The pole starts upright, and the goal is to prevent it from falling over. The system is controlled by applying a force of +1 or -1 to the cart. A reward of +1 is provided for every timestep that the pole remains upright. The episode ends when the pole is more than 15 degrees from vertical, or the cart moves more than 2.4 units from the center of the track. A visual summary of the cartpole environment is depicted below:\n",
        "\n",
        "<img width=\"400px\" src=\"https://danielpiedrahita.files.wordpress.com/2017/02/cart-pole.png\"></img>\n",
        "\n",
        "Given this setup for the environment and the objective of the game, we can think about: 1) what observations help define the environment's state; 2) what actions the agent can take. \n",
        "\n",
        "First, let's consider the observation space. In this Cartpole environment our observations are:\n",
        "\n",
        "1. Cart position\n",
        "2. Cart velocity\n",
        "3. Pole angle\n",
        "4. Pole rotation rate\n",
        "\n",
        "We can confirm the size of the space by querying the environment's observation space:\n"
      ]
    },
    {
      "cell_type": "code",
      "execution_count": 7,
      "metadata": {
        "id": "UVJaEcbdIX82",
        "colab": {
          "base_uri": "https://localhost:8080/"
        },
        "outputId": "e669ce9e-f781-45a3-c11a-a2fdc7ff0484"
      },
      "outputs": [
        {
          "output_type": "stream",
          "name": "stdout",
          "text": [
            "Environment has observation space = Box([-4.8000002e+00 -3.4028235e+38 -4.1887903e-01 -3.4028235e+38], [4.8000002e+00 3.4028235e+38 4.1887903e-01 3.4028235e+38], (4,), float32)\n"
          ]
        }
      ],
      "source": [
        "n_observations = env.observation_space\n",
        "print(\"Environment has observation space =\", n_observations)"
      ]
    },
    {
      "cell_type": "markdown",
      "metadata": {
        "id": "ZibGgjrALgPM"
      },
      "source": [
        "Second, we consider the action space. At every time step, the agent can move either right or left. Again we can confirm the size of the action space by querying the environment:"
      ]
    },
    {
      "cell_type": "code",
      "execution_count": 8,
      "metadata": {
        "id": "qc9SIPxBIXrm",
        "colab": {
          "base_uri": "https://localhost:8080/"
        },
        "outputId": "e7268d7c-e684-440c-a966-86e661c37158"
      },
      "outputs": [
        {
          "output_type": "stream",
          "name": "stdout",
          "text": [
            "Number of possible actions that the agent can choose from = 2\n"
          ]
        }
      ],
      "source": [
        "n_actions = env.action_space.n\n",
        "print(\"Number of possible actions that the agent can choose from =\", n_actions)"
      ]
    },
    {
      "cell_type": "markdown",
      "metadata": {
        "id": "pPfHME8aRKkb"
      },
      "source": [
        "### Cartpole agent\n",
        "\n",
        "Now that we have instantiated the environment and understood the dimensionality of the observation and action spaces, we are ready to define our agent. In deep reinforcement learning, a deep neural network defines the agent. This network will take as input an observation of the environment and output the probability of taking each of the possible actions. Since Cartpole is defined by a low-dimensional observation space, a simple feed-forward neural network should work well for our agent. We will define this using the `Sequential` API.\n"
      ]
    },
    {
      "cell_type": "code",
      "execution_count": 9,
      "metadata": {
        "id": "W-o_XK4oQ4eu"
      },
      "outputs": [],
      "source": [
        "### Define the Cartpole agent ###\n",
        "\n",
        "# Defines a feed-forward neural network\n",
        "def create_cartpole_model():\n",
        "    model = tf.keras.models.Sequential([\n",
        "        # First Dense layer\n",
        "        tf.keras.layers.Dense(units=32, activation='relu'),\n",
        "        \n",
        "        # Define the last Dense layer, which will provide the network's output.\n",
        "        tf.keras.layers.Dense(units=n_actions, activation=None)\n",
        "    ])\n",
        "    return model\n",
        "\n",
        "cartpole_model = create_cartpole_model()"
      ]
    },
    {
      "cell_type": "markdown",
      "metadata": {
        "id": "d5D5NSIYS2IW"
      },
      "source": [
        "Now that we have defined the core network architecture, we will define an *action function* that executes a forward pass through the network, given a set of observations, and samples from the output. This sampling from the output probabilities will be used to select the next action for the agent. We will also add support so that the `choose_action` function can handle either a single observation or a batch of observations.\n",
        "\n",
        "**Critically, this action function is totally general -- we will use this function for learning control algorithms for Cartpole, but it is applicable to other RL tasks, as well!**"
      ]
    },
    {
      "cell_type": "code",
      "execution_count": 10,
      "metadata": {
        "id": "E_vVZRr8Q4R_"
      },
      "outputs": [],
      "source": [
        "### Define the agent's action function ###\n",
        "\n",
        "# Function that takes observations as input, executes a forward pass through model, \n",
        "#   and outputs a sampled action.\n",
        "# Arguments:\n",
        "#   model: the network that defines our agent\n",
        "#   observation: observation(s) which is/are fed as input to the model\n",
        "#   single: flag as to whether we are handling a single observation or batch of\n",
        "#     observations, provided as an np.array\n",
        "# Returns:\n",
        "#   action: choice of agent action\n",
        "def choose_action(model, observation, single=True):\n",
        "    # add batch dimension to the observation if only a single example was provided\n",
        "    observation = np.expand_dims(observation, axis=0) if single else observation\n",
        "\n",
        "    # feed the observations through the model to predict the log probabilities of each possible action.\n",
        "    logits = model.predict(observation)\n",
        "\n",
        "    # Choose an action from the categorical distribution defined by the log probabilities of each possible action.\n",
        "    action = tf.random.categorical(logits, num_samples=1)\n",
        "\n",
        "    action = action.numpy().flatten()\n",
        "\n",
        "    return action[0] if single else action"
      ]
    },
    {
      "cell_type": "markdown",
      "metadata": {
        "id": "_tR9uAWcTnkr"
      },
      "source": [
        "## Define the agent's memory\n",
        "\n",
        "Now that we have instantiated the environment and defined the agent network architecture and action function, we are ready to move on to the next step in our RL workflow:\n",
        "1. **Initialize our environment and our agent**: here we will describe the different observations and actions the agent can make in the environemnt.\n",
        "2. **Define our agent's memory**: this will enable the agent to remember its past actions, observations, and rewards.\n",
        "3. **Define the learning algorithm**: this will be used to reinforce the agent's good behaviors and discourage bad behaviors.\n",
        "\n",
        "In reinforcement learning, training occurs alongside the agent's acting in the environment; an *episode* refers to a sequence of actions that ends in some terminal state, such as the pole falling down or the cart crashing. The agent will need to remember all of its observations and actions, such that once an episode ends, it can learn to \"reinforce\" the good actions and punish the undesirable actions via training. Our first step is to define a simple `Memory` buffer that contains the agent's observations, actions, and received rewards from a given episode. We will also add support to combine a list of `Memory` objects into a single `Memory`. This will be very useful for batching, which will help you accelerate training later on in the lab.\n",
        "\n",
        "**Once again, note the modularity of this memory buffer -- it can and will be applied to other RL tasks as well!**"
      ]
    },
    {
      "cell_type": "code",
      "execution_count": 11,
      "metadata": {
        "id": "8MM6JwXVQ4JG"
      },
      "outputs": [],
      "source": [
        "### Agent Memory ###\n",
        "\n",
        "class Memory:\n",
        "    def __init__(self): \n",
        "        self.clear()\n",
        "\n",
        "  # Resets/restarts the memory buffer\n",
        "    def clear(self): \n",
        "        self.observations = []\n",
        "        self.actions = []\n",
        "        self.rewards = []\n",
        "\n",
        "  # Add observations, actions, rewards to memory\n",
        "    def add_to_memory(self, new_observation, new_action, new_reward): \n",
        "        self.observations.append(new_observation)\n",
        "        # update the list of actions with new action\n",
        "        self.actions.append(new_action)\n",
        "        # update the list of rewards with new reward\n",
        "        self.rewards.append(new_reward)\n",
        "\n",
        "    def __len__(self):\n",
        "        return len(self.actions)\n",
        "\n",
        "# Instantiate a single Memory buffer\n",
        "memory = Memory()"
      ]
    },
    {
      "cell_type": "markdown",
      "metadata": {
        "id": "D4YhtPaUVj5m"
      },
      "source": [
        "## Reward function\n",
        "\n",
        "We're almost ready to begin the learning algorithm for our agent! The next step is to compute the rewards of our agent as it acts in the environment. Since we (and the agent) is uncertain about if and when the game or task will end (i.e., when the pole will fall), it is useful to emphasize getting rewards **now** rather than later in the future -- this is the idea of discounting. This is a similar concept to discounting money in the case of interest. Recall from lecture, we use reward discount to give more preference at getting rewards now rather than later in the future. The idea of discounting rewards is similar to discounting money in the case of interest.\n",
        "\n",
        "To compute the expected cumulative reward, known as the **return**, at a given timestep in a learning episode, we sum the discounted rewards expected at that time step $t$, within a learning episode, and projecting into the future. We define the return (cumulative reward) at a time step $t$, $R_{t}$ as:\n",
        "\n",
        ">$R_{t}=\\sum_{k=0}^\\infty\\gamma^kr_{t+k}$\n",
        "\n",
        "where  $0 < \\gamma < 1$ is the discount factor and $r_{t}$ is the reward at time step $t$, and the index $k$ increments projection into the future within a single learning episode. Intuitively, you can think of this function as depreciating any rewards received at later time steps, which will force the agent prioritize getting rewards now. Since we can't extend episodes to infinity, in practice the computation will be limited to the number of timesteps in an episode -- after that the reward is assumed to be zero.\n",
        "\n",
        "Take note of the form of this sum -- we'll have to be clever about how we implement this function. Specifically, we'll need to initialize an array of zeros, with length of the number of time steps, and fill it with the real discounted reward values as we loop through the rewards from the episode, which will have been saved in the agents memory. What we ultimately care about is which actions are better relative to other actions taken in that episode -- so, we'll normalize our computed rewards, using the mean and standard deviation of the rewards across the learning episode.\n",
        "\n",
        "We will use this definition of the reward function in both parts of the lab so make sure you have it executed!\n"
      ]
    },
    {
      "cell_type": "code",
      "execution_count": 12,
      "metadata": {
        "id": "5_Q2OFYtQ32X"
      },
      "outputs": [],
      "source": [
        "### Reward function ###\n",
        "\n",
        "# Helper function that normalizes an np.array x\n",
        "def normalize(x):\n",
        "    x -= np.mean(x)\n",
        "    x /= np.std(x)\n",
        "    return x.astype(np.float32)\n",
        "\n",
        "# Compute normalized, discounted, cumulative rewards (i.e., return)\n",
        "# Arguments:\n",
        "#   rewards: reward at timesteps in episode\n",
        "#   gamma: discounting factor\n",
        "# Returns:\n",
        "#   normalized discounted reward\n",
        "def discount_rewards(rewards, gamma=0.95): \n",
        "    discounted_rewards = np.zeros_like(rewards)\n",
        "    R = 0\n",
        "    for t in reversed(range(0, len(rewards))):\n",
        "        # update the total discounted reward\n",
        "        R = R * gamma + rewards[t]\n",
        "        discounted_rewards[t] = R\n",
        "      \n",
        "    return normalize(discounted_rewards)"
      ]
    },
    {
      "cell_type": "markdown",
      "metadata": {
        "id": "QzbY-mjGYcmt"
      },
      "source": [
        "## Learning algorithm\n",
        "\n",
        "Now we can start to define the learing algorithm which will be used to reinforce good behaviors of the agent and discourage bad behaviours. In this lab, we will focus on *policy gradient* methods which aim to **maximize** the likelihood of actions that result in large rewards. Equivalently, this means that we want to **minimize** the negative likelihood of these same actions. We achieve this by simply **scaling** the probabilities by their associated rewards -- effectively amplifying the likelihood of actions that resujlt in large rewards.\n",
        "\n",
        "Since the log function is monotonically increasing, this means that minimizing **negative likelihood** is equivalent to minimizing **negative log-likelihood**.  Recall that we can easily compute the negative log-likelihood of a discrete action by evaluting its [softmax cross entropy](https://www.tensorflow.org/api_docs/python/tf/nn/sparse_softmax_cross_entropy_with_logits). Like in supervised learning, we can use stochastic gradient descent methods to achieve the desired minimization. \n",
        "\n",
        "Let's begin by defining the loss function."
      ]
    },
    {
      "cell_type": "code",
      "execution_count": 13,
      "metadata": {
        "id": "fsgZ3IDCY_Zn"
      },
      "outputs": [],
      "source": [
        "### Loss function ###\n",
        "\n",
        "# Arguments:\n",
        "#   logits: network's predictions for actions to take\n",
        "#   actions: the actions the agent took in an episode\n",
        "#   rewards: the rewards the agent received in an episode\n",
        "# Returns:\n",
        "#   loss\n",
        "def compute_loss(logits, actions, rewards): \n",
        "    # complete the function call to compute the negative log probabilities\n",
        "    neg_logprob = tf.nn.sparse_softmax_cross_entropy_with_logits(\n",
        "        logits=logits, labels=actions) # TODO\n",
        "  \n",
        "    # scale the negative log probability by the rewards\n",
        "    loss = tf.reduce_mean( neg_logprob * rewards ) \n",
        "    return loss"
      ]
    },
    {
      "cell_type": "markdown",
      "metadata": {
        "id": "Rr5vQ9fqbPpp"
      },
      "source": [
        "Now let's use the loss function to define a training step of our learning algorithm. This is a very generalizable definition which we will use "
      ]
    },
    {
      "cell_type": "code",
      "execution_count": 14,
      "metadata": {
        "id": "_50ada7nbZ7L"
      },
      "outputs": [],
      "source": [
        "### Training step (forward and backpropagation) ###\n",
        "\n",
        "def train_step(model, loss_function, optimizer, observations, actions, discounted_rewards, custom_fwd_fn=None):\n",
        "    with tf.GradientTape() as tape:\n",
        "        # Forward propagate through the agent network\n",
        "        if custom_fwd_fn is not None:\n",
        "            prediction = custom_fwd_fn(observations)\n",
        "        else: \n",
        "            prediction = model(observations)\n",
        "\n",
        "        # call the compute_loss function to compute the loss\n",
        "        loss = loss_function(prediction, actions, discounted_rewards) \n",
        "\n",
        "    # run backpropagation to minimize the loss using the tape.gradient method. \n",
        "     #        Unlike supervised learning, RL is *extremely* noisy, so you will benefit \n",
        "      #       from additionally clipping your gradients to avoid falling into \n",
        "       #      dangerous local minima. After computing your gradients try also clipping\n",
        "        #     by a global normalizer. Try different clipping values, usually clipping \n",
        "         #    between 0.5 and 5 provides reasonable results.\n",
        "    grads = tape.gradient(loss, model.trainable_variables) \n",
        "    grads, _ = tf.clip_by_global_norm(grads, 2)\n",
        "\n",
        "    optimizer.apply_gradients(zip(grads, model.trainable_variables))"
      ]
    },
    {
      "cell_type": "markdown",
      "metadata": {
        "id": "XsjKXh6BcgjR"
      },
      "source": [
        "## Run cartpole!\n",
        "\n",
        "Having had no prior knowledge of the environment, the agent will begin to learn how to balance the pole on the cart based only on the feedback received from the environment! Having defined how our agent can move, how it takes in new observations, and how it updates its state, we'll see how it gradually learns a policy of actions to optimize balancing the pole as long as possible. To do this, we'll track how the rewards evolve as a function of training -- how should the rewards change as training progresses?"
      ]
    },
    {
      "cell_type": "code",
      "execution_count": 15,
      "metadata": {
        "id": "-hZ7E6JOJ9Bn"
      },
      "outputs": [],
      "source": [
        "## Training parameters ##\n",
        "## Re-run this cell to restart training from scratch ##\n",
        "\n",
        "# Learning rate and optimizer\n",
        "learning_rate = 1e-3\n",
        "optimizer = tf.keras.optimizers.Adam(learning_rate)\n",
        "\n",
        "# instantiate cartpole agent\n",
        "cartpole_model = create_cartpole_model()\n",
        "\n",
        "# to track our progress\n",
        "smoothed_reward = mdl.util.LossHistory(smoothing_factor=0.95)\n",
        "plotter = mdl.util.PeriodicPlotter(sec=2, xlabel='Iterations', ylabel='Rewards')"
      ]
    },
    {
      "cell_type": "code",
      "execution_count": 25,
      "metadata": {
        "id": "XmOzc2rrcn8Q",
        "scrolled": false,
        "colab": {
          "base_uri": "https://localhost:8080/",
          "height": 1000
        },
        "outputId": "589c474e-e6d3-4741-b9ce-6b9a8bc88c80"
      },
      "outputs": [
        {
          "output_type": "display_data",
          "data": {
            "text/plain": [
              "<Figure size 432x288 with 1 Axes>"
            ],
            "image/png": "[encoded data removed]"
          },
          "metadata": {}
        },
        {
          "output_type": "stream",
          "name": "stdout",
          "text": [
            "1/1 [==============================] - 0s 14ms/step\n",
            "1/1 [==============================] - 0s 14ms/step\n",
            "1/1 [==============================] - 0s 14ms/step\n",
            "1/1 [==============================] - 0s 15ms/step\n",
            "1/1 [==============================] - 0s 14ms/step\n",
            "1/1 [==============================] - 0s 13ms/step\n",
            "1/1 [==============================] - 0s 14ms/step\n",
            "1/1 [==============================] - 0s 13ms/step\n",
            "1/1 [==============================] - 0s 13ms/step\n",
            "1/1 [==============================] - 0s 13ms/step\n",
            "1/1 [==============================] - 0s 13ms/step\n",
            "1/1 [==============================] - 0s 12ms/step\n",
            "1/1 [==============================] - 0s 14ms/step\n",
            "1/1 [==============================] - 0s 14ms/step\n",
            "1/1 [==============================] - 0s 12ms/step\n",
            "1/1 [==============================] - 0s 12ms/step\n",
            "1/1 [==============================] - 0s 12ms/step\n",
            "1/1 [==============================] - 0s 12ms/step\n",
            "1/1 [==============================] - 0s 14ms/step\n",
            "1/1 [==============================] - 0s 14ms/step\n",
            "1/1 [==============================] - 0s 14ms/step\n",
            "1/1 [==============================] - 0s 15ms/step\n",
            "1/1 [==============================] - 0s 15ms/step\n",
            "1/1 [==============================] - 0s 12ms/step\n",
            "1/1 [==============================] - 0s 15ms/step\n",
            "1/1 [==============================] - 0s 13ms/step\n",
            "1/1 [==============================] - 0s 13ms/step\n",
            "1/1 [==============================] - 0s 14ms/step\n",
            "1/1 [==============================] - 0s 13ms/step\n",
            "1/1 [==============================] - 0s 14ms/step\n",
            "1/1 [==============================] - 0s 14ms/step\n",
            "1/1 [==============================] - 0s 14ms/step\n",
            "1/1 [==============================] - 0s 15ms/step\n",
            "1/1 [==============================] - 0s 15ms/step\n",
            "1/1 [==============================] - 0s 13ms/step\n",
            "1/1 [==============================] - 0s 12ms/step\n",
            "1/1 [==============================] - 0s 12ms/step\n",
            "1/1 [==============================] - 0s 12ms/step\n",
            "1/1 [==============================] - 0s 14ms/step\n",
            "1/1 [==============================] - 0s 15ms/step\n",
            "1/1 [==============================] - 0s 14ms/step\n",
            "1/1 [==============================] - 0s 12ms/step\n",
            "1/1 [==============================] - 0s 13ms/step\n",
            "1/1 [==============================] - 0s 15ms/step\n",
            "1/1 [==============================] - 0s 12ms/step\n",
            "1/1 [==============================] - 0s 14ms/step\n",
            "1/1 [==============================] - 0s 13ms/step\n",
            "1/1 [==============================] - 0s 14ms/step\n",
            "1/1 [==============================] - 0s 16ms/step\n",
            "1/1 [==============================] - 0s 15ms/step\n",
            "1/1 [==============================] - 0s 13ms/step\n",
            "1/1 [==============================] - 0s 14ms/step\n",
            "1/1 [==============================] - 0s 13ms/step\n",
            "1/1 [==============================] - 0s 13ms/step\n",
            "1/1 [==============================] - 0s 15ms/step\n",
            "1/1 [==============================] - 0s 12ms/step\n"
          ]
        },
        {
          "output_type": "display_data",
          "data": {
            "text/plain": [
              "<Figure size 432x288 with 1 Axes>"
            ],
            "image/png": "[encoded data removed]"
          },
          "metadata": {
            "needs_background": "light"
          }
        }
      ],
      "source": [
        "## Cartpole training! ##\n",
        "## Note: stoping and restarting this cell will pick up training where you\n",
        "#        left off. To restart training you need to rerun the cell above as \n",
        "#        well (to re-initialize the model and optimizer)\n",
        "\n",
        "if hasattr(tqdm, '_instances'): tqdm._instances.clear() # clear if it exists\n",
        "for i_episode in range(500):\n",
        "\n",
        "    plotter.plot(smoothed_reward.get())\n",
        "    # Restart the environment\n",
        "    observation = env.reset()\n",
        "    memory.clear()\n",
        "\n",
        "    while True:\n",
        "        # using our observation, choose an action and take it in the environment\n",
        "        action = choose_action(cartpole_model, observation)\n",
        "        next_observation, reward, done,info = env.step(action)[:4]\n",
        "        # add to memory\n",
        "        memory.add_to_memory(observation, action, reward)\n",
        "\n",
        "        # is the episode over? did you crash or do so well that you're done?\n",
        "        if done:\n",
        "            # determine total reward and keep a record of this\n",
        "            total_reward = sum(memory.rewards)\n",
        "            smoothed_reward.append(total_reward)\n",
        "          \n",
        "            # initiate training - remember we don't know anything about how the \n",
        "            #   agent is doing until it has crashed!\n",
        "            g = train_step(cartpole_model, compute_loss, optimizer, \n",
        "                       observations=np.vstack(memory.observations),\n",
        "                       actions=np.array(memory.actions),\n",
        "                       discounted_rewards = discount_rewards(memory.rewards))\n",
        "          \n",
        "            # reset the memory\n",
        "            memory.clear()\n",
        "            break\n",
        "        # update our observatons\n",
        "        observation = next_observation"
      ]
    },
    {
      "cell_type": "markdown",
      "metadata": {
        "id": "mkcUtGF1VE-K"
      },
      "source": [
        "To get a sense of how our agent did, we can save a video of the trained model working on balancing the pole. Realize that this is a brand new environment that the agent has not seen before!\n",
        "\n",
        "Let's display the saved video to watch how our agent did!\n"
      ]
    },
    {
      "cell_type": "code",
      "execution_count": 28,
      "metadata": {
        "id": "PAYBkv6Zbk0J",
        "scrolled": true,
        "colab": {
          "base_uri": "https://localhost:8080/",
          "height": 615
        },
        "outputId": "81a6b7d4-1509-4b8d-b372-ca4aabf5e301"
      },
      "outputs": [
        {
          "output_type": "stream",
          "name": "stderr",
          "text": [
            "/usr/local/lib/python3.7/dist-packages/gym/core.py:318: DeprecationWarning: \u001b[33mWARN: Initializing wrapper in old step API which returns one bool instead of two. It is recommended to set `new_step_api=True` to use new step API. This will be the default behaviour in future.\u001b[0m\n",
            "  \"Initializing wrapper in old step API which returns one bool instead of two. It is recommended to set `new_step_api=True` to use new step API. This will be the default behaviour in future.\"\n",
            "/usr/local/lib/python3.7/dist-packages/gym/wrappers/step_api_compatibility.py:40: DeprecationWarning: \u001b[33mWARN: Initializing environment in old step API which returns one bool instead of two. It is recommended to set `new_step_api=True` to use new step API. This will be the default behaviour in future.\u001b[0m\n",
            "  \"Initializing environment in old step API which returns one bool instead of two. It is recommended to set `new_step_api=True` to use new step API. This will be the default behaviour in future.\"\n",
            "/usr/local/lib/python3.7/dist-packages/gym/core.py:44: DeprecationWarning: \u001b[33mWARN: The argument mode in render method is deprecated; use render_mode during environment initialization instead.\n",
            "See here for more information: https://www.gymlibrary.ml/content/api/\u001b[0m\n",
            "  \"The argument mode in render method is deprecated; \"\n",
            "/usr/local/lib/python3.7/dist-packages/skvideo/io/abstract.py:514: DeprecationWarning: tostring() is deprecated. Use tobytes() instead.\n",
            "  self._proc.stdin.write(vid.tostring())\n"
          ]
        },
        {
          "output_type": "stream",
          "name": "stdout",
          "text": [
            "Successfully saved 500 frames into CartPole-v1.mp4!\n"
          ]
        },
        {
          "output_type": "execute_result",
          "data": {
            "text/plain": [
              "<IPython.core.display.HTML object>"
            ],
            "text/html": [
              "\n",
              "        <video controls >\n",
              "            <source src=\"data:video/mp4;base64,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\" type=\"video/mp4\" />\n",
              "        </video>"
            ]
          },
          "metadata": {},
          "execution_count": 28
        }
      ],
      "source": [
        "matplotlib.use('Agg') \n",
        "saved_cartpole = mdl.lab3.save_video_of_model(cartpole_model, \"CartPole-v1\")\n",
        "mdl.lab3.play_video(saved_cartpole)"
      ]
    }
  ],
  "metadata": {
    "accelerator": "GPU",
    "colab": {
      "collapsed_sections": [],
      "provenance": []
    },
    "kernelspec": {
      "display_name": "Python 3",
      "language": "python",
      "name": "python3"
    },
    "language_info": {
      "codemirror_mode": {
        "name": "ipython",
        "version": 3
      },
      "file_extension": ".py",
      "mimetype": "text/x-python",
      "name": "python",
      "nbconvert_exporter": "python",
      "pygments_lexer": "ipython3",
      "version": "3.9.7"
    }
  },
  "nbformat": 4,
  "nbformat_minor": 0
}